{
  "cells": [
    {
      "cell_type": "markdown",
      "metadata": {
        "id": "z6bCPqBQGg7_"
      },
      "source": [
        "# Character-level Encoder-Decoder Transformer\n",
        "\n",
        "In this notebook, you will create a machine-translation system that will accept a sentence in a language of your choice and translate it in another language also of your choice.\n",
        "\n",
        "As architecture, you will use the transformer described in _Attention Is All You Need_ (https://arxiv.org/abs/1706.03762). The complete programming from scratch of such an architecture would take more time than that of a lab. That is why the notebook contains all the code. You will merely run separate modules and assemble them. In the end, this will result in a complete encoder-decoder.\n",
        "\n",
        "You will train this encoder-decoder for a translation task and you will observe its performance. To make training possible, you will use characters as input and output instead of words or subwords.\n",
        "\n",
        "The power of the student's computers vary greatly. In consequence, depending on your machine, reduce the size of the dataset and simplify the architecture (use less stacks, less heads) as much as you need to be able to run the program quickly. After the lab, should you wish it, feel free to improve the program and build a more realistic translation system.\n",
        "\n",
        "Finally, please do not run the cells blindly. The objective of the lab is that you understand the transformer by executing it step-by-step. The instructors will ask you to explain cell.\n",
        "\n",
        "Acknowledgments: As starting point to write the notebook, we used a tutorial from PyTorch available at: https://pytorch.org/tutorials/beginner/translation_transformer.html?highlight=translation\n",
        "\n",
        "We modified it to remove the torchtext dependencies and use a character input.\n",
        "\n",
        "__Pierre Nugues__ and __Marcus Klang__\n",
        "\n",
        "Student: Van Duy Dang\n",
        "\n",
        "History:\n",
        "- V1, Pierre, creation from PyTorch tutorial\n",
        "- V2, Marcus, answering questions and improvements notably dataloader\n",
        "- V3, Pierre, separate train and val, cleaning\n",
        "- V4, Pierre, shared embeddings\n"
      ]
    },
    {
      "cell_type": "markdown",
      "metadata": {
        "id": "wkMfSZIlGg8C"
      },
      "source": [
        "## Introduction\n",
        "This program shows how to implement a basic character-level translation model with a transformer. You will translate the sentences from English to French or another language character by character. Note that a more elaborate model would use words or subwords.\n",
        "\n",
        "### Summary of the algorithm\n",
        "- We start with input sequences from a language (e.g. English sentences)\n",
        "    and corresponding target sequences from another language\n",
        "    (e.g. French sentences).\n",
        "- A transformer encoder encodes the source sentence. The result is called `memory` in the program;\n",
        "- A transformer decoder uses the encoded source sentence and an auto-regressive process to generate the target sequence.\n",
        "- The loss is the cross-entropy ebtween the decoded characters and the target ones\n",
        "- In inference mode, when we decode unknown input sequences using these steps:\n",
        "    - Encode the input sequence (`memory`)\n",
        "    - Feed the decoder with the encoded sequence\n",
        "    - Start with a target sequence of size 1\n",
        "        (just the start-of-sequence character)\n",
        "    - Sample the next character using these predictions\n",
        "        (we simply use argmax, the second output of `torch.max()`).\n",
        "    - Append the sampled character to the target sequence\n",
        "    - Repeat until we generate the end-of-sequence character or we\n",
        "        hit the character limit."
      ]
    },
    {
      "cell_type": "markdown",
      "metadata": {
        "id": "6qQzJ1dxGg8C"
      },
      "source": [
        "## Download the data"
      ]
    },
    {
      "cell_type": "markdown",
      "metadata": {
        "id": "ebGPuSMhGg8D"
      },
      "source": [
        "Have a look at the http://www.manythings.org/anki/ site and select a corpus with at least 10,000 pairs. You should understand the target language well. Ideally, it should be your mother tongue.\n",
        "Then uncomment and run the lines below."
      ]
    },
    {
      "cell_type": "code",
      "execution_count": 3,
      "metadata": {
        "colab": {
          "base_uri": "https://localhost:8080/"
        },
        "id": "FzpSiOTCGg8D",
        "outputId": "156903ea-ec7b-48b3-f0c7-cab020bde42f"
      },
      "outputs": [
        {
          "name": "stdout",
          "output_type": "stream",
          "text": [
            "  % Total    % Received % Xferd  Average Speed   Time    Time     Time  Current\n",
            "                                 Dload  Upload   Total   Spent    Left  Speed\n",
            "100  364k  100  364k    0     0  1079k      0 --:--:-- --:--:-- --:--:-- 1080k\n",
            "Archive:  vie-eng.zip\n",
            "  inflating: _about.txt              \n",
            "  inflating: vie.txt                 \n"
          ]
        }
      ],
      "source": [
        "!curl -O http://www.manythings.org/anki/vie-eng.zip\n",
        "!unzip vie-eng.zip\n"
      ]
    },
    {
      "cell_type": "markdown",
      "metadata": {
        "id": "SKU0yz_EGg8E"
      },
      "source": [
        "## Imports"
      ]
    },
    {
      "cell_type": "code",
      "execution_count": 4,
      "metadata": {
        "id": "64RfIYiIGg8E"
      },
      "outputs": [],
      "source": [
        "from typing import Tuple\n",
        "\n",
        "from torch import Tensor\n",
        "import torch\n",
        "import torch.nn as nn\n",
        "from torch.nn import Transformer\n",
        "from torch.utils.data import dataset\n",
        "from torch.nn.utils.rnn import pad_sequence\n",
        "\n",
        "import random\n",
        "import numpy as np\n",
        "import math\n",
        "\n",
        "import matplotlib.pyplot as plt\n",
        "from tqdm import tqdm\n"
      ]
    },
    {
      "cell_type": "code",
      "execution_count": 5,
      "metadata": {
        "colab": {
          "base_uri": "https://localhost:8080/"
        },
        "id": "fPgOHXi5Gg8E",
        "outputId": "5c09cc8a-ef89-4536-cdfa-ba635a4f5551"
      },
      "outputs": [
        {
          "data": {
            "text/plain": [
              "<torch._C.Generator at 0x7a239816c7b0>"
            ]
          },
          "execution_count": 5,
          "metadata": {},
          "output_type": "execute_result"
        }
      ],
      "source": [
        "random.seed(1234)\n",
        "np.random.seed(1234)\n",
        "torch.manual_seed(1234)\n"
      ]
    },
    {
      "cell_type": "markdown",
      "metadata": {
        "id": "gXTagxDrGg8F"
      },
      "source": [
        "## Architecture\n",
        "We select the computing architecture"
      ]
    },
    {
      "cell_type": "code",
      "execution_count": 6,
      "metadata": {
        "colab": {
          "base_uri": "https://localhost:8080/"
        },
        "id": "2PmV0f_yGg8F",
        "outputId": "4b12c031-be6b-4a83-cd5d-4884b87d0f34"
      },
      "outputs": [
        {
          "data": {
            "text/plain": [
              "device(type='cuda')"
            ]
          },
          "execution_count": 6,
          "metadata": {},
          "output_type": "execute_result"
        }
      ],
      "source": [
        "if torch.cuda.is_available():\n",
        "    device = 'cuda'\n",
        "# elif torch.backends.mps.is_available():\n",
        "#    device = 'mps'\n",
        "else:\n",
        "    device = 'cpu'\n",
        "DEVICE = torch.device(device)\n",
        "DEVICE\n"
      ]
    },
    {
      "cell_type": "markdown",
      "metadata": {
        "id": "4LYr12P0Gg8G"
      },
      "source": [
        "## Dataset"
      ]
    },
    {
      "cell_type": "markdown",
      "metadata": {
        "id": "OE5FsdiWGg8G"
      },
      "source": [
        "### Creating the pairs"
      ]
    },
    {
      "cell_type": "code",
      "execution_count": 7,
      "metadata": {
        "id": "7coMBT6MGg8G"
      },
      "outputs": [],
      "source": [
        "data_path = 'vie.txt'\n"
      ]
    },
    {
      "cell_type": "code",
      "execution_count": 8,
      "metadata": {
        "id": "2XBdtR_eGg8G"
      },
      "outputs": [],
      "source": [
        "with open(data_path, \"r\", encoding=\"utf-8\") as f:\n",
        "    lines = f.read().split(\"\\n\")\n"
      ]
    },
    {
      "cell_type": "code",
      "execution_count": 9,
      "metadata": {
        "colab": {
          "base_uri": "https://localhost:8080/"
        },
        "id": "pw1f9PYjGg8G",
        "outputId": "edb6440a-ef45-49ef-8086-a9dfa7c4cc03"
      },
      "outputs": [
        {
          "data": {
            "text/plain": [
              "9209"
            ]
          },
          "execution_count": 9,
          "metadata": {},
          "output_type": "execute_result"
        }
      ],
      "source": [
        "len(lines)\n"
      ]
    },
    {
      "cell_type": "code",
      "execution_count": 10,
      "metadata": {
        "id": "oUSQInwmGg8G"
      },
      "outputs": [],
      "source": [
        "num_samples = min(80000, len(lines) - 1)  # Number of samples to train on.\n"
      ]
    },
    {
      "cell_type": "code",
      "execution_count": 11,
      "metadata": {
        "id": "QUFMZWm-Gg8H"
      },
      "outputs": [],
      "source": [
        "input_texts = []\n",
        "target_texts = []\n"
      ]
    },
    {
      "cell_type": "code",
      "execution_count": 12,
      "metadata": {
        "id": "M2O1tS1hGg8H"
      },
      "outputs": [],
      "source": [
        "for line in lines[: min(num_samples, len(lines) - 1)]:\n",
        "    input_text, target_text, _ = line.split(\"\\t\")\n",
        "    input_texts.append(input_text)\n",
        "    target_texts.append(target_text)\n"
      ]
    },
    {
      "cell_type": "code",
      "execution_count": 13,
      "metadata": {
        "colab": {
          "base_uri": "https://localhost:8080/"
        },
        "id": "HfK8q0BttTv7",
        "outputId": "72537c19-9b34-4e6e-91af-eb09f45c33e7"
      },
      "outputs": [
        {
          "data": {
            "text/plain": [
              "9208"
            ]
          },
          "execution_count": 13,
          "metadata": {},
          "output_type": "execute_result"
        }
      ],
      "source": [
        "len(input_texts)"
      ]
    },
    {
      "cell_type": "code",
      "execution_count": 14,
      "metadata": {
        "colab": {
          "base_uri": "https://localhost:8080/",
          "height": 36
        },
        "id": "uCxTewlbGg8H",
        "outputId": "8d5f54b1-fc82-42fb-fbd1-9158ada49f6c"
      },
      "outputs": [
        {
          "data": {
            "application/vnd.google.colaboratory.intrinsic+json": {
              "type": "string"
            },
            "text/plain": [
              "\"They're trapped.\""
            ]
          },
          "execution_count": 14,
          "metadata": {},
          "output_type": "execute_result"
        }
      ],
      "source": [
        "input_texts[500]\n"
      ]
    },
    {
      "cell_type": "code",
      "execution_count": 15,
      "metadata": {
        "colab": {
          "base_uri": "https://localhost:8080/",
          "height": 36
        },
        "id": "i4W06_WnGg8H",
        "outputId": "b1f5f656-5901-44aa-9a10-c9d6c23b5e7f"
      },
      "outputs": [
        {
          "data": {
            "application/vnd.google.colaboratory.intrinsic+json": {
              "type": "string"
            },
            "text/plain": [
              "'Họ đang bị mắc kẹt.'"
            ]
          },
          "execution_count": 15,
          "metadata": {},
          "output_type": "execute_result"
        }
      ],
      "source": [
        "target_texts[500]\n"
      ]
    },
    {
      "cell_type": "markdown",
      "metadata": {
        "id": "baxv-0aYGg8H"
      },
      "source": [
        "### Train/Validation"
      ]
    },
    {
      "cell_type": "markdown",
      "metadata": {
        "id": "QUi0bml5Gg8H"
      },
      "source": [
        "Percentage train/validation"
      ]
    },
    {
      "cell_type": "code",
      "execution_count": 16,
      "metadata": {
        "colab": {
          "base_uri": "https://localhost:8080/"
        },
        "id": "TljBqLOfGg8H",
        "outputId": "fa2b1812-1f66-442e-9456-d534bc201974"
      },
      "outputs": [
        {
          "data": {
            "text/plain": [
              "7366"
            ]
          },
          "execution_count": 16,
          "metadata": {},
          "output_type": "execute_result"
        }
      ],
      "source": [
        "TRAIN_PERCENTAGE = 0.8\n",
        "train_val = int(TRAIN_PERCENTAGE * num_samples)\n",
        "train_val\n"
      ]
    },
    {
      "cell_type": "markdown",
      "metadata": {
        "id": "WPxca1DlGg8I"
      },
      "source": [
        "We shuffle the lists"
      ]
    },
    {
      "cell_type": "code",
      "execution_count": 17,
      "metadata": {
        "id": "uzb_49eeGg8I"
      },
      "outputs": [],
      "source": [
        "text_pairs = list(zip(input_texts, target_texts))\n",
        "random.shuffle(text_pairs)\n",
        "input_texts, target_texts = zip(*text_pairs)\n",
        "input_texts, target_texts = list(input_texts), list(target_texts)\n"
      ]
    },
    {
      "cell_type": "code",
      "execution_count": 18,
      "metadata": {
        "id": "KVkAqJOEGg8I"
      },
      "outputs": [],
      "source": [
        "train_input_texts = input_texts[:train_val]\n",
        "train_target_texts = target_texts[:train_val]\n",
        "\n",
        "val_input_texts = input_texts[train_val:]\n",
        "val_target_texts = target_texts[train_val:]\n"
      ]
    },
    {
      "cell_type": "markdown",
      "metadata": {
        "id": "HE_XnYeNGg8I"
      },
      "source": [
        "### Characters"
      ]
    },
    {
      "cell_type": "code",
      "execution_count": 19,
      "metadata": {
        "id": "dhK5dkIqGg8I"
      },
      "outputs": [],
      "source": [
        "input_characters = set(''.join(train_input_texts))\n",
        "target_characters = set(''.join(train_target_texts))\n"
      ]
    },
    {
      "cell_type": "markdown",
      "metadata": {
        "id": "uLDw-NKwGg8I"
      },
      "source": [
        "### Special symbols"
      ]
    },
    {
      "cell_type": "code",
      "execution_count": 20,
      "metadata": {
        "id": "u3EgbtzAGg8I"
      },
      "outputs": [],
      "source": [
        "# Define special symbols and indices\n",
        "UNK_IDX, PAD_IDX, BOS_IDX, EOS_IDX = 0, 1, 2, 3\n",
        "# Make sure the tokens are in order of their indices to properly insert them in vocab\n",
        "#  \"unknown\", \"padding\", \"beginning of sequence\", \"end of sequence\"\n",
        "special_symbols = ['<unk>', '<pad>', '<bos>', '<eos>']\n"
      ]
    },
    {
      "cell_type": "code",
      "execution_count": 21,
      "metadata": {
        "colab": {
          "base_uri": "https://localhost:8080/"
        },
        "id": "CghvfHc3Gg8J",
        "outputId": "5c530fe2-8882-4f33-c227-d3e694fac550"
      },
      "outputs": [
        {
          "data": {
            "text/plain": [
              "{'<unk>': 0, '<pad>': 1, '<bos>': 2, '<eos>': 3}"
            ]
          },
          "execution_count": 21,
          "metadata": {},
          "output_type": "execute_result"
        }
      ],
      "source": [
        "special_symbols_dict = dict(\n",
        "    zip(special_symbols, [UNK_IDX, PAD_IDX, BOS_IDX, EOS_IDX]))\n",
        "special_symbols_dict\n"
      ]
    },
    {
      "cell_type": "markdown",
      "metadata": {
        "id": "Mj4j_F9PGg8J"
      },
      "source": [
        "### The input and output symbols\n",
        "The language pair shares the same vocabulary as in _Attention Is All You Need_"
      ]
    },
    {
      "cell_type": "code",
      "execution_count": 22,
      "metadata": {
        "colab": {
          "base_uri": "https://localhost:8080/"
        },
        "id": "a1mw2XucGg8J",
        "outputId": "0bf2fa59-4b47-499d-869c-824815d10ff4"
      },
      "outputs": [
        {
          "data": {
            "text/plain": [
              "[' ',\n",
              " '!',\n",
              " '\"',\n",
              " '$',\n",
              " '%',\n",
              " \"'\",\n",
              " '(',\n",
              " ')',\n",
              " ',',\n",
              " '-',\n",
              " '.',\n",
              " '/',\n",
              " '0',\n",
              " '1',\n",
              " '2',\n",
              " '3',\n",
              " '4',\n",
              " '5',\n",
              " '6',\n",
              " '7',\n",
              " '8',\n",
              " '9',\n",
              " ':',\n",
              " '>',\n",
              " '?',\n",
              " 'A',\n",
              " 'B',\n",
              " 'C',\n",
              " 'D',\n",
              " 'E',\n",
              " 'F',\n",
              " 'G',\n",
              " 'H',\n",
              " 'I',\n",
              " 'J',\n",
              " 'K',\n",
              " 'L',\n",
              " 'M',\n",
              " 'N',\n",
              " 'O',\n",
              " 'P',\n",
              " 'Q',\n",
              " 'R',\n",
              " 'S',\n",
              " 'T',\n",
              " 'U',\n",
              " 'V',\n",
              " 'W',\n",
              " 'X',\n",
              " 'Y',\n",
              " 'a',\n",
              " 'b',\n",
              " 'c',\n",
              " 'd',\n",
              " 'e',\n",
              " 'f',\n",
              " 'g',\n",
              " 'h',\n",
              " 'i',\n",
              " 'j',\n",
              " 'k',\n",
              " 'l',\n",
              " 'm',\n",
              " 'n',\n",
              " 'o',\n",
              " 'p',\n",
              " 'q',\n",
              " 'r',\n",
              " 's',\n",
              " 't',\n",
              " 'u',\n",
              " 'v',\n",
              " 'w',\n",
              " 'x',\n",
              " 'y',\n",
              " 'z',\n",
              " 'Á',\n",
              " 'Â',\n",
              " 'É',\n",
              " 'Í',\n",
              " 'Ô',\n",
              " 'Ú',\n",
              " 'Ý',\n",
              " 'à',\n",
              " 'á',\n",
              " 'â',\n",
              " 'ã',\n",
              " 'è',\n",
              " 'é',\n",
              " 'ê',\n",
              " 'ì',\n",
              " 'í',\n",
              " 'ò',\n",
              " 'ó',\n",
              " 'ô',\n",
              " 'õ',\n",
              " 'ù',\n",
              " 'ú',\n",
              " 'ý',\n",
              " 'Ă',\n",
              " 'ă',\n",
              " 'Đ',\n",
              " 'đ',\n",
              " 'ĩ',\n",
              " 'ũ',\n",
              " 'ơ',\n",
              " 'Ư',\n",
              " 'ư',\n",
              " 'ạ',\n",
              " 'Ả',\n",
              " 'ả',\n",
              " 'Ấ',\n",
              " 'ấ',\n",
              " 'ầ',\n",
              " 'ẩ',\n",
              " 'ẫ',\n",
              " 'ậ',\n",
              " 'ắ',\n",
              " 'ằ',\n",
              " 'ẳ',\n",
              " 'ẵ',\n",
              " 'ặ',\n",
              " 'ẹ',\n",
              " 'ẻ',\n",
              " 'ẽ',\n",
              " 'ế',\n",
              " 'ề',\n",
              " 'ể',\n",
              " 'ễ',\n",
              " 'ệ',\n",
              " 'ỉ',\n",
              " 'ị',\n",
              " 'ọ',\n",
              " 'ỏ',\n",
              " 'ố',\n",
              " 'Ồ',\n",
              " 'ồ',\n",
              " 'Ổ',\n",
              " 'ổ',\n",
              " 'ỗ',\n",
              " 'ộ',\n",
              " 'ớ',\n",
              " 'ờ',\n",
              " 'Ở',\n",
              " 'ở',\n",
              " 'ỡ',\n",
              " 'ợ',\n",
              " 'ụ',\n",
              " 'ủ',\n",
              " 'Ứ',\n",
              " 'ứ',\n",
              " 'ừ',\n",
              " 'ử',\n",
              " 'ữ',\n",
              " 'ự',\n",
              " 'ỳ',\n",
              " 'ỵ',\n",
              " 'ỷ',\n",
              " 'ỹ',\n",
              " '’',\n",
              " '€']"
            ]
          },
          "execution_count": 22,
          "metadata": {},
          "output_type": "execute_result"
        }
      ],
      "source": [
        "characters = sorted(list(set.union(input_characters, target_characters)))\n",
        "characters\n"
      ]
    },
    {
      "cell_type": "markdown",
      "metadata": {
        "id": "pD_z0wNzGg8J"
      },
      "source": [
        "### The indices"
      ]
    },
    {
      "cell_type": "code",
      "execution_count": 23,
      "metadata": {
        "colab": {
          "base_uri": "https://localhost:8080/"
        },
        "id": "tFB8GT-CGg8J",
        "outputId": "41f347a5-8ae3-48a3-e2a4-f3ed708078be"
      },
      "outputs": [
        {
          "data": {
            "text/plain": [
              "{' ': 4,\n",
              " '!': 5,\n",
              " '\"': 6,\n",
              " '$': 7,\n",
              " '%': 8,\n",
              " \"'\": 9,\n",
              " '(': 10,\n",
              " ')': 11,\n",
              " ',': 12,\n",
              " '-': 13,\n",
              " '.': 14,\n",
              " '/': 15,\n",
              " '0': 16,\n",
              " '1': 17,\n",
              " '2': 18,\n",
              " '3': 19,\n",
              " '4': 20,\n",
              " '5': 21,\n",
              " '6': 22,\n",
              " '7': 23,\n",
              " '8': 24,\n",
              " '9': 25,\n",
              " ':': 26,\n",
              " '>': 27,\n",
              " '?': 28,\n",
              " 'A': 29,\n",
              " 'B': 30,\n",
              " 'C': 31,\n",
              " 'D': 32,\n",
              " 'E': 33,\n",
              " 'F': 34,\n",
              " 'G': 35,\n",
              " 'H': 36,\n",
              " 'I': 37,\n",
              " 'J': 38,\n",
              " 'K': 39,\n",
              " 'L': 40,\n",
              " 'M': 41,\n",
              " 'N': 42,\n",
              " 'O': 43,\n",
              " 'P': 44,\n",
              " 'Q': 45,\n",
              " 'R': 46,\n",
              " 'S': 47,\n",
              " 'T': 48,\n",
              " 'U': 49,\n",
              " 'V': 50,\n",
              " 'W': 51,\n",
              " 'X': 52,\n",
              " 'Y': 53,\n",
              " 'a': 54,\n",
              " 'b': 55,\n",
              " 'c': 56,\n",
              " 'd': 57,\n",
              " 'e': 58,\n",
              " 'f': 59,\n",
              " 'g': 60,\n",
              " 'h': 61,\n",
              " 'i': 62,\n",
              " 'j': 63,\n",
              " 'k': 64,\n",
              " 'l': 65,\n",
              " 'm': 66,\n",
              " 'n': 67,\n",
              " 'o': 68,\n",
              " 'p': 69,\n",
              " 'q': 70,\n",
              " 'r': 71,\n",
              " 's': 72,\n",
              " 't': 73,\n",
              " 'u': 74,\n",
              " 'v': 75,\n",
              " 'w': 76,\n",
              " 'x': 77,\n",
              " 'y': 78,\n",
              " 'z': 79,\n",
              " 'Á': 80,\n",
              " 'Â': 81,\n",
              " 'É': 82,\n",
              " 'Í': 83,\n",
              " 'Ô': 84,\n",
              " 'Ú': 85,\n",
              " 'Ý': 86,\n",
              " 'à': 87,\n",
              " 'á': 88,\n",
              " 'â': 89,\n",
              " 'ã': 90,\n",
              " 'è': 91,\n",
              " 'é': 92,\n",
              " 'ê': 93,\n",
              " 'ì': 94,\n",
              " 'í': 95,\n",
              " 'ò': 96,\n",
              " 'ó': 97,\n",
              " 'ô': 98,\n",
              " 'õ': 99,\n",
              " 'ù': 100,\n",
              " 'ú': 101,\n",
              " 'ý': 102,\n",
              " 'Ă': 103,\n",
              " 'ă': 104,\n",
              " 'Đ': 105,\n",
              " 'đ': 106,\n",
              " 'ĩ': 107,\n",
              " 'ũ': 108,\n",
              " 'ơ': 109,\n",
              " 'Ư': 110,\n",
              " 'ư': 111,\n",
              " 'ạ': 112,\n",
              " 'Ả': 113,\n",
              " 'ả': 114,\n",
              " 'Ấ': 115,\n",
              " 'ấ': 116,\n",
              " 'ầ': 117,\n",
              " 'ẩ': 118,\n",
              " 'ẫ': 119,\n",
              " 'ậ': 120,\n",
              " 'ắ': 121,\n",
              " 'ằ': 122,\n",
              " 'ẳ': 123,\n",
              " 'ẵ': 124,\n",
              " 'ặ': 125,\n",
              " 'ẹ': 126,\n",
              " 'ẻ': 127,\n",
              " 'ẽ': 128,\n",
              " 'ế': 129,\n",
              " 'ề': 130,\n",
              " 'ể': 131,\n",
              " 'ễ': 132,\n",
              " 'ệ': 133,\n",
              " 'ỉ': 134,\n",
              " 'ị': 135,\n",
              " 'ọ': 136,\n",
              " 'ỏ': 137,\n",
              " 'ố': 138,\n",
              " 'Ồ': 139,\n",
              " 'ồ': 140,\n",
              " 'Ổ': 141,\n",
              " 'ổ': 142,\n",
              " 'ỗ': 143,\n",
              " 'ộ': 144,\n",
              " 'ớ': 145,\n",
              " 'ờ': 146,\n",
              " 'Ở': 147,\n",
              " 'ở': 148,\n",
              " 'ỡ': 149,\n",
              " 'ợ': 150,\n",
              " 'ụ': 151,\n",
              " 'ủ': 152,\n",
              " 'Ứ': 153,\n",
              " 'ứ': 154,\n",
              " 'ừ': 155,\n",
              " 'ử': 156,\n",
              " 'ữ': 157,\n",
              " 'ự': 158,\n",
              " 'ỳ': 159,\n",
              " 'ỵ': 160,\n",
              " 'ỷ': 161,\n",
              " 'ỹ': 162,\n",
              " '’': 163,\n",
              " '€': 164}"
            ]
          },
          "execution_count": 23,
          "metadata": {},
          "output_type": "execute_result"
        }
      ],
      "source": [
        "token2idx = {char: i for i, char in enumerate(characters, start=4)}\n",
        "token2idx\n"
      ]
    },
    {
      "cell_type": "code",
      "execution_count": 24,
      "metadata": {
        "colab": {
          "base_uri": "https://localhost:8080/"
        },
        "id": "VAjcrPF6Gg8J",
        "outputId": "c76c3c7c-aa92-4ba8-a34b-3b93a80b19a4"
      },
      "outputs": [
        {
          "data": {
            "text/plain": [
              "{' ': 4,\n",
              " '!': 5,\n",
              " '\"': 6,\n",
              " '$': 7,\n",
              " '%': 8,\n",
              " \"'\": 9,\n",
              " '(': 10,\n",
              " ')': 11,\n",
              " ',': 12,\n",
              " '-': 13,\n",
              " '.': 14,\n",
              " '/': 15,\n",
              " '0': 16,\n",
              " '1': 17,\n",
              " '2': 18,\n",
              " '3': 19,\n",
              " '4': 20,\n",
              " '5': 21,\n",
              " '6': 22,\n",
              " '7': 23,\n",
              " '8': 24,\n",
              " '9': 25,\n",
              " ':': 26,\n",
              " '>': 27,\n",
              " '?': 28,\n",
              " 'A': 29,\n",
              " 'B': 30,\n",
              " 'C': 31,\n",
              " 'D': 32,\n",
              " 'E': 33,\n",
              " 'F': 34,\n",
              " 'G': 35,\n",
              " 'H': 36,\n",
              " 'I': 37,\n",
              " 'J': 38,\n",
              " 'K': 39,\n",
              " 'L': 40,\n",
              " 'M': 41,\n",
              " 'N': 42,\n",
              " 'O': 43,\n",
              " 'P': 44,\n",
              " 'Q': 45,\n",
              " 'R': 46,\n",
              " 'S': 47,\n",
              " 'T': 48,\n",
              " 'U': 49,\n",
              " 'V': 50,\n",
              " 'W': 51,\n",
              " 'X': 52,\n",
              " 'Y': 53,\n",
              " 'a': 54,\n",
              " 'b': 55,\n",
              " 'c': 56,\n",
              " 'd': 57,\n",
              " 'e': 58,\n",
              " 'f': 59,\n",
              " 'g': 60,\n",
              " 'h': 61,\n",
              " 'i': 62,\n",
              " 'j': 63,\n",
              " 'k': 64,\n",
              " 'l': 65,\n",
              " 'm': 66,\n",
              " 'n': 67,\n",
              " 'o': 68,\n",
              " 'p': 69,\n",
              " 'q': 70,\n",
              " 'r': 71,\n",
              " 's': 72,\n",
              " 't': 73,\n",
              " 'u': 74,\n",
              " 'v': 75,\n",
              " 'w': 76,\n",
              " 'x': 77,\n",
              " 'y': 78,\n",
              " 'z': 79,\n",
              " 'Á': 80,\n",
              " 'Â': 81,\n",
              " 'É': 82,\n",
              " 'Í': 83,\n",
              " 'Ô': 84,\n",
              " 'Ú': 85,\n",
              " 'Ý': 86,\n",
              " 'à': 87,\n",
              " 'á': 88,\n",
              " 'â': 89,\n",
              " 'ã': 90,\n",
              " 'è': 91,\n",
              " 'é': 92,\n",
              " 'ê': 93,\n",
              " 'ì': 94,\n",
              " 'í': 95,\n",
              " 'ò': 96,\n",
              " 'ó': 97,\n",
              " 'ô': 98,\n",
              " 'õ': 99,\n",
              " 'ù': 100,\n",
              " 'ú': 101,\n",
              " 'ý': 102,\n",
              " 'Ă': 103,\n",
              " 'ă': 104,\n",
              " 'Đ': 105,\n",
              " 'đ': 106,\n",
              " 'ĩ': 107,\n",
              " 'ũ': 108,\n",
              " 'ơ': 109,\n",
              " 'Ư': 110,\n",
              " 'ư': 111,\n",
              " 'ạ': 112,\n",
              " 'Ả': 113,\n",
              " 'ả': 114,\n",
              " 'Ấ': 115,\n",
              " 'ấ': 116,\n",
              " 'ầ': 117,\n",
              " 'ẩ': 118,\n",
              " 'ẫ': 119,\n",
              " 'ậ': 120,\n",
              " 'ắ': 121,\n",
              " 'ằ': 122,\n",
              " 'ẳ': 123,\n",
              " 'ẵ': 124,\n",
              " 'ặ': 125,\n",
              " 'ẹ': 126,\n",
              " 'ẻ': 127,\n",
              " 'ẽ': 128,\n",
              " 'ế': 129,\n",
              " 'ề': 130,\n",
              " 'ể': 131,\n",
              " 'ễ': 132,\n",
              " 'ệ': 133,\n",
              " 'ỉ': 134,\n",
              " 'ị': 135,\n",
              " 'ọ': 136,\n",
              " 'ỏ': 137,\n",
              " 'ố': 138,\n",
              " 'Ồ': 139,\n",
              " 'ồ': 140,\n",
              " 'Ổ': 141,\n",
              " 'ổ': 142,\n",
              " 'ỗ': 143,\n",
              " 'ộ': 144,\n",
              " 'ớ': 145,\n",
              " 'ờ': 146,\n",
              " 'Ở': 147,\n",
              " 'ở': 148,\n",
              " 'ỡ': 149,\n",
              " 'ợ': 150,\n",
              " 'ụ': 151,\n",
              " 'ủ': 152,\n",
              " 'Ứ': 153,\n",
              " 'ứ': 154,\n",
              " 'ừ': 155,\n",
              " 'ử': 156,\n",
              " 'ữ': 157,\n",
              " 'ự': 158,\n",
              " 'ỳ': 159,\n",
              " 'ỵ': 160,\n",
              " 'ỷ': 161,\n",
              " 'ỹ': 162,\n",
              " '’': 163,\n",
              " '€': 164,\n",
              " '<unk>': 0,\n",
              " '<pad>': 1,\n",
              " '<bos>': 2,\n",
              " '<eos>': 3}"
            ]
          },
          "execution_count": 24,
          "metadata": {},
          "output_type": "execute_result"
        }
      ],
      "source": [
        "token2idx.update(special_symbols_dict)\n",
        "token2idx\n"
      ]
    },
    {
      "cell_type": "code",
      "execution_count": 25,
      "metadata": {
        "colab": {
          "base_uri": "https://localhost:8080/"
        },
        "id": "XdKPXdlYGg8K",
        "outputId": "b81f71ec-f82f-42a2-daf3-61f4fa6ee2d5"
      },
      "outputs": [
        {
          "data": {
            "text/plain": [
              "165"
            ]
          },
          "execution_count": 25,
          "metadata": {},
          "output_type": "execute_result"
        }
      ],
      "source": [
        "len(token2idx)\n"
      ]
    },
    {
      "cell_type": "code",
      "execution_count": 26,
      "metadata": {
        "id": "yH6npICFGg8K"
      },
      "outputs": [],
      "source": [
        "idx2token = {v: k for k, v in token2idx.items()}\n"
      ]
    },
    {
      "cell_type": "markdown",
      "metadata": {
        "id": "dAMWLjLoGg8K"
      },
      "source": [
        "### Text Encoding"
      ]
    },
    {
      "cell_type": "code",
      "execution_count": 27,
      "metadata": {
        "id": "UEhbAyWPGg8O"
      },
      "outputs": [],
      "source": [
        "# Add special symbol to the texts and convert to idx\n",
        "def text2codes(texts, token2idx):\n",
        "    codes = []\n",
        "    for text in texts:\n",
        "        text_l = ['<bos>'] + list(text) + ['<eos>']\n",
        "        codes += torch.tensor([list(map(lambda x: token2idx.get(x, 0), text_l))]) # <unk> -> 0\n",
        "    return codes\n"
      ]
    },
    {
      "cell_type": "code",
      "execution_count": 28,
      "metadata": {
        "colab": {
          "base_uri": "https://localhost:8080/"
        },
        "id": "XNm_-_u5Gg8O",
        "outputId": "6c54e29b-2bc6-485f-f110-a9f69ef22e6f"
      },
      "outputs": [
        {
          "data": {
            "text/plain": [
              "(['The apple does not fall far from the tree.',\n",
              "  'Tom tried his best to please his parents.',\n",
              "  'Every room was searched thoroughly.'],\n",
              " ['Hổ phụ sinh hổ tử.',\n",
              "  'Tom đã cố gắng hết mình để làm bố mẹ hài lòng.',\n",
              "  'Tất cả các phòng đều bị kiểm tra kỹ lưỡng.'])"
            ]
          },
          "execution_count": 28,
          "metadata": {},
          "output_type": "execute_result"
        }
      ],
      "source": [
        "train_input_texts[:3], train_target_texts[:3]\n"
      ]
    },
    {
      "cell_type": "code",
      "execution_count": 29,
      "metadata": {
        "colab": {
          "base_uri": "https://localhost:8080/"
        },
        "id": "iafZSpr0Gg8P",
        "outputId": "bb04dd56-2668-4487-eb4a-7f46fecebba1"
      },
      "outputs": [
        {
          "data": {
            "text/plain": [
              "[tensor([ 2, 48, 61, 58,  4, 54, 69, 69, 65, 58,  4, 57, 68, 58, 72,  4, 67, 68,\n",
              "         73,  4, 59, 54, 65, 65,  4, 59, 54, 71,  4, 59, 71, 68, 66,  4, 73, 61,\n",
              "         58,  4, 73, 71, 58, 58, 14,  3]),\n",
              " tensor([ 2, 48, 68, 66,  4, 73, 71, 62, 58, 57,  4, 61, 62, 72,  4, 55, 58, 72,\n",
              "         73,  4, 73, 68,  4, 69, 65, 58, 54, 72, 58,  4, 61, 62, 72,  4, 69, 54,\n",
              "         71, 58, 67, 73, 72, 14,  3]),\n",
              " tensor([ 2, 33, 75, 58, 71, 78,  4, 71, 68, 68, 66,  4, 76, 54, 72,  4, 72, 58,\n",
              "         54, 71, 56, 61, 58, 57,  4, 73, 61, 68, 71, 68, 74, 60, 61, 65, 78, 14,\n",
              "          3])]"
            ]
          },
          "execution_count": 29,
          "metadata": {},
          "output_type": "execute_result"
        }
      ],
      "source": [
        "text2codes(train_input_texts, token2idx)[:3]\n"
      ]
    },
    {
      "cell_type": "code",
      "execution_count": 30,
      "metadata": {
        "colab": {
          "base_uri": "https://localhost:8080/"
        },
        "id": "7VM2j0x5Gg8P",
        "outputId": "3546a588-cc3c-4018-8232-b93ec0c89b48"
      },
      "outputs": [
        {
          "data": {
            "text/plain": [
              "[tensor([  2,  36, 142,   4,  69,  61, 151,   4,  72,  62,  67,  61,   4,  61,\n",
              "         142,   4,  73, 156,  14,   3]),\n",
              " tensor([  2,  48,  68,  66,   4, 106,  90,   4,  56, 138,   4,  60, 121,  67,\n",
              "          60,   4,  61, 129,  73,   4,  66,  94,  67,  61,   4, 106, 131,   4,\n",
              "          65,  87,  66,   4,  55, 138,   4,  66, 126,   4,  61,  87,  62,   4,\n",
              "          65,  96,  67,  60,  14,   3]),\n",
              " tensor([  2,  48, 116,  73,   4,  56, 114,   4,  56,  88,  56,   4,  69,  61,\n",
              "          96,  67,  60,   4, 106, 130,  74,   4,  55, 135,   4,  64,  62, 131,\n",
              "          66,   4,  73,  71,  54,   4,  64, 162,   4,  65, 111, 149,  67,  60,\n",
              "          14,   3])]"
            ]
          },
          "execution_count": 30,
          "metadata": {},
          "output_type": "execute_result"
        }
      ],
      "source": [
        "text2codes(train_target_texts, token2idx)[:3]\n"
      ]
    },
    {
      "cell_type": "code",
      "execution_count": 31,
      "metadata": {
        "id": "tCoimAGsGg8Q"
      },
      "outputs": [],
      "source": [
        "def codes2text(codes, idx2token):\n",
        "    texts = []\n",
        "    for code in codes:\n",
        "        code_l = list(code)\n",
        "        texts += [list(map(lambda x: idx2token.get(x.item(), 0), code_l))]\n",
        "    return texts\n"
      ]
    },
    {
      "cell_type": "code",
      "execution_count": 32,
      "metadata": {
        "colab": {
          "base_uri": "https://localhost:8080/"
        },
        "id": "kc1s1qAQGg8R",
        "outputId": "4b7444ba-5b11-48c0-cd23-d668b1bae399"
      },
      "outputs": [
        {
          "data": {
            "text/plain": [
              "[['<bos>',\n",
              "  'T',\n",
              "  'h',\n",
              "  'e',\n",
              "  ' ',\n",
              "  'a',\n",
              "  'p',\n",
              "  'p',\n",
              "  'l',\n",
              "  'e',\n",
              "  ' ',\n",
              "  'd',\n",
              "  'o',\n",
              "  'e',\n",
              "  's',\n",
              "  ' ',\n",
              "  'n',\n",
              "  'o',\n",
              "  't',\n",
              "  ' ',\n",
              "  'f',\n",
              "  'a',\n",
              "  'l',\n",
              "  'l',\n",
              "  ' ',\n",
              "  'f',\n",
              "  'a',\n",
              "  'r',\n",
              "  ' ',\n",
              "  'f',\n",
              "  'r',\n",
              "  'o',\n",
              "  'm',\n",
              "  ' ',\n",
              "  't',\n",
              "  'h',\n",
              "  'e',\n",
              "  ' ',\n",
              "  't',\n",
              "  'r',\n",
              "  'e',\n",
              "  'e',\n",
              "  '.',\n",
              "  '<eos>'],\n",
              " ['<bos>',\n",
              "  'T',\n",
              "  'o',\n",
              "  'm',\n",
              "  ' ',\n",
              "  't',\n",
              "  'r',\n",
              "  'i',\n",
              "  'e',\n",
              "  'd',\n",
              "  ' ',\n",
              "  'h',\n",
              "  'i',\n",
              "  's',\n",
              "  ' ',\n",
              "  'b',\n",
              "  'e',\n",
              "  's',\n",
              "  't',\n",
              "  ' ',\n",
              "  't',\n",
              "  'o',\n",
              "  ' ',\n",
              "  'p',\n",
              "  'l',\n",
              "  'e',\n",
              "  'a',\n",
              "  's',\n",
              "  'e',\n",
              "  ' ',\n",
              "  'h',\n",
              "  'i',\n",
              "  's',\n",
              "  ' ',\n",
              "  'p',\n",
              "  'a',\n",
              "  'r',\n",
              "  'e',\n",
              "  'n',\n",
              "  't',\n",
              "  's',\n",
              "  '.',\n",
              "  '<eos>'],\n",
              " ['<bos>',\n",
              "  'E',\n",
              "  'v',\n",
              "  'e',\n",
              "  'r',\n",
              "  'y',\n",
              "  ' ',\n",
              "  'r',\n",
              "  'o',\n",
              "  'o',\n",
              "  'm',\n",
              "  ' ',\n",
              "  'w',\n",
              "  'a',\n",
              "  's',\n",
              "  ' ',\n",
              "  's',\n",
              "  'e',\n",
              "  'a',\n",
              "  'r',\n",
              "  'c',\n",
              "  'h',\n",
              "  'e',\n",
              "  'd',\n",
              "  ' ',\n",
              "  't',\n",
              "  'h',\n",
              "  'o',\n",
              "  'r',\n",
              "  'o',\n",
              "  'u',\n",
              "  'g',\n",
              "  'h',\n",
              "  'l',\n",
              "  'y',\n",
              "  '.',\n",
              "  '<eos>']]"
            ]
          },
          "execution_count": 32,
          "metadata": {},
          "output_type": "execute_result"
        }
      ],
      "source": [
        "codes2text(text2codes(train_input_texts, token2idx)[:3], idx2token)\n"
      ]
    },
    {
      "cell_type": "markdown",
      "metadata": {
        "id": "lSFZEkwIGg8R"
      },
      "source": [
        "## Model"
      ]
    },
    {
      "cell_type": "markdown",
      "metadata": {
        "id": "jVGABPeZGg8R"
      },
      "source": [
        "### Positional Embeddings\n",
        "\n",
        "Same as https://pytorch.org/tutorials/beginner/translation_transformer.html?highlight=translation"
      ]
    },
    {
      "cell_type": "markdown",
      "metadata": {
        "id": "5XKjyotoGg8R"
      },
      "source": [
        "Note that `register_buffer` is a way to exclude `pos_embeddings` from being a parameter and stored as state, essentially a way to register a computed constant. It will not be modified by the training procedure."
      ]
    },
    {
      "cell_type": "code",
      "execution_count": 33,
      "metadata": {
        "id": "WNky6iSYGg8R"
      },
      "outputs": [],
      "source": [
        "# helper Module that adds positional encoding to the token embedding to introduce a notion of word order.\n",
        "class PositionalEncoding(nn.Module):\n",
        "    def __init__(self,\n",
        "                 emb_size: int,\n",
        "                 dropout: float,\n",
        "                 maxlen: int = 5000):\n",
        "        super().__init__()\n",
        "        den = torch.exp(- torch.arange(0, emb_size, 2)\n",
        "                        * math.log(10000) / emb_size)\n",
        "        pos = torch.arange(0, maxlen).reshape(maxlen, 1)\n",
        "        pos_embedding = torch.zeros((maxlen, emb_size))\n",
        "        pos_embedding[:, 0::2] = torch.sin(pos * den)\n",
        "        pos_embedding[:, 1::2] = torch.cos(pos * den)\n",
        "        pos_embedding = pos_embedding.unsqueeze(-2)\n",
        "\n",
        "        self.dropout = nn.Dropout(dropout)\n",
        "        self.register_buffer('pos_embedding', pos_embedding)\n",
        "        self.emb_size = emb_size\n",
        "\n",
        "    def forward(self, token_embedding: Tensor):\n",
        "        return self.dropout(token_embedding * math.sqrt(self.emb_size)\n",
        "                            + self.pos_embedding[:token_embedding.size(0), :])\n"
      ]
    },
    {
      "cell_type": "code",
      "execution_count": 34,
      "metadata": {
        "id": "5klDyt5hGg8R"
      },
      "outputs": [],
      "source": [
        "pe = PositionalEncoding(10, 0.1)\n"
      ]
    },
    {
      "cell_type": "code",
      "execution_count": 35,
      "metadata": {
        "colab": {
          "base_uri": "https://localhost:8080/"
        },
        "id": "LDCCgytsGg8S",
        "outputId": "d5f5db45-3431-44d5-f497-f419828b9b44"
      },
      "outputs": [
        {
          "data": {
            "text/plain": [
              "tensor([[[0., 0., 0., 0., 0., 0., 0., 0., 0., 0.],\n",
              "         [0., 0., 0., 0., 0., 0., 0., 0., 0., 0.],\n",
              "         [0., 0., 0., 0., 0., 0., 0., 0., 0., 0.],\n",
              "         [0., 0., 0., 0., 0., 0., 0., 0., 0., 0.],\n",
              "         [0., 0., 0., 0., 0., 0., 0., 0., 0., 0.]]])"
            ]
          },
          "execution_count": 35,
          "metadata": {},
          "output_type": "execute_result"
        }
      ],
      "source": [
        "torch.zeros(1, 5, 10)\n"
      ]
    },
    {
      "cell_type": "code",
      "execution_count": 36,
      "metadata": {
        "colab": {
          "base_uri": "https://localhost:8080/"
        },
        "id": "DGvgvBqPGg8S",
        "outputId": "0d37c121-860b-4b8e-e9b4-3158e21def75"
      },
      "outputs": [
        {
          "data": {
            "text/plain": [
              "tensor([[[0.0000, 1.1111, 0.0000, 1.1111, 0.0000, 1.1111, 0.0000, 1.1111,\n",
              "          0.0000, 1.1111],\n",
              "         [0.0000, 0.0000, 0.0000, 1.1111, 0.0000, 1.1111, 0.0000, 1.1111,\n",
              "          0.0000, 0.0000],\n",
              "         [0.0000, 1.1111, 0.0000, 1.1111, 0.0000, 1.1111, 0.0000, 1.1111,\n",
              "          0.0000, 1.1111],\n",
              "         [0.0000, 1.1111, 0.0000, 1.1111, 0.0000, 1.1111, 0.0000, 1.1111,\n",
              "          0.0000, 1.1111],\n",
              "         [0.0000, 1.1111, 0.0000, 1.1111, 0.0000, 1.1111, 0.0000, 1.1111,\n",
              "          0.0000, 1.1111]]])"
            ]
          },
          "execution_count": 36,
          "metadata": {},
          "output_type": "execute_result"
        }
      ],
      "source": [
        "pe(torch.zeros(1, 5, 10))\n"
      ]
    },
    {
      "cell_type": "markdown",
      "metadata": {
        "id": "m8YQHDskGg8S"
      },
      "source": [
        "### Transformer\n",
        "\n",
        "Shared embeddings compared to https://pytorch.org/tutorials/beginner/translation_transformer.html?highlight=translation\n"
      ]
    },
    {
      "cell_type": "markdown",
      "metadata": {
        "id": "FtWlgZi4Gg8S"
      },
      "source": [
        "Note that:   \n",
        "- `transformer.encoder(...)` is equivalent to a call of TransformerEncoder(...), i.e https://pytorch.org/docs/stable/generated/torch.nn.TransformerEncoder.html    \n",
        "- `transformer.decoder(...)` is equivalent to a call of TransformerDecoder(...), i.e https://pytorch.org/docs/stable/generated/torch.nn.TransformerDecoder.html   \n",
        "- These are created internally by the transformer layer:\n",
        "https://pytorch.org/docs/stable/_modules/torch/nn/modules/transformer.html#Transformer  "
      ]
    },
    {
      "cell_type": "code",
      "execution_count": 37,
      "metadata": {
        "id": "NGfb-IS_Gg8S"
      },
      "outputs": [],
      "source": [
        "# Seq2Seq Network\n",
        "class Seq2SeqTransformer(nn.Module):\n",
        "    def __init__(self,\n",
        "                 num_encoder_layers: int,\n",
        "                 num_decoder_layers: int,\n",
        "                 emb_size: int,\n",
        "                 nhead: int,\n",
        "                 vocab_size: int,\n",
        "                 dim_feedforward: int = 512,\n",
        "                 dropout: float = 0.1):\n",
        "        super().__init__()\n",
        "        self.transformer = Transformer(d_model=emb_size,\n",
        "                                       nhead=nhead,\n",
        "                                       num_encoder_layers=num_encoder_layers,\n",
        "                                       num_decoder_layers=num_decoder_layers,\n",
        "                                       dim_feedforward=dim_feedforward,\n",
        "                                       dropout=dropout)\n",
        "\n",
        "        self.emb_size = emb_size\n",
        "        # Same source and target embs Sect. 3.4\n",
        "        self.embedding = nn.Embedding(\n",
        "            vocab_size, emb_size, padding_idx=PAD_IDX)\n",
        "        self.positional_encoding = PositionalEncoding(\n",
        "            emb_size, dropout=dropout)\n",
        "        # Bias to be compatible with embeddings\n",
        "        self.generator = nn.Linear(emb_size, vocab_size, bias=False)\n",
        "        self.generator.weight = self.embedding.weight  # Shared weights Sect. 3.4\n",
        "\n",
        "    def forward(self,\n",
        "                src: Tensor,\n",
        "                trg: Tensor,\n",
        "                src_mask: Tensor,\n",
        "                tgt_mask: Tensor,\n",
        "                src_padding_mask: Tensor,\n",
        "                tgt_padding_mask: Tensor,\n",
        "                memory_key_padding_mask: Tensor):\n",
        "        src_emb = self.positional_encoding(self.embedding(src))\n",
        "        tgt_emb = self.positional_encoding(self.embedding(trg))\n",
        "        outs = self.transformer(src_emb, tgt_emb, src_mask, tgt_mask, None,\n",
        "                                src_padding_mask, tgt_padding_mask, memory_key_padding_mask)\n",
        "        return self.generator(outs)\n",
        "\n",
        "    def encode(self, src: Tensor, src_mask: Tensor):\n",
        "        return self.transformer.encoder(self.positional_encoding(\n",
        "            self.embedding(src)), src_mask)\n",
        "\n",
        "    def decode(self, tgt: Tensor, memory: Tensor, tgt_mask: Tensor):\n",
        "        return self.transformer.decoder(self.positional_encoding(\n",
        "            self.embedding(tgt)), memory,\n",
        "            tgt_mask)\n"
      ]
    },
    {
      "cell_type": "code",
      "execution_count": 38,
      "metadata": {
        "id": "quzmGx41Gg8T"
      },
      "outputs": [],
      "source": [
        "def generate_square_subsequent_mask(sz):\n",
        "    mask = (torch.triu(torch.ones((sz, sz), device=DEVICE)) == 1).transpose(0, 1)\n",
        "    mask = mask.float().masked_fill(mask == 0, float(\n",
        "        '-inf')).masked_fill(mask == 1, float(0.0))\n",
        "    return mask\n"
      ]
    },
    {
      "cell_type": "code",
      "execution_count": 39,
      "metadata": {
        "colab": {
          "base_uri": "https://localhost:8080/"
        },
        "id": "EY_uTwEfGg8T",
        "outputId": "8c3cb3cc-fe0f-41ae-9b55-700eae85dd0a"
      },
      "outputs": [
        {
          "data": {
            "text/plain": [
              "tensor([[0., -inf, -inf, -inf, -inf, -inf, -inf, -inf, -inf, -inf],\n",
              "        [0., 0., -inf, -inf, -inf, -inf, -inf, -inf, -inf, -inf],\n",
              "        [0., 0., 0., -inf, -inf, -inf, -inf, -inf, -inf, -inf],\n",
              "        [0., 0., 0., 0., -inf, -inf, -inf, -inf, -inf, -inf],\n",
              "        [0., 0., 0., 0., 0., -inf, -inf, -inf, -inf, -inf],\n",
              "        [0., 0., 0., 0., 0., 0., -inf, -inf, -inf, -inf],\n",
              "        [0., 0., 0., 0., 0., 0., 0., -inf, -inf, -inf],\n",
              "        [0., 0., 0., 0., 0., 0., 0., 0., -inf, -inf],\n",
              "        [0., 0., 0., 0., 0., 0., 0., 0., 0., -inf],\n",
              "        [0., 0., 0., 0., 0., 0., 0., 0., 0., 0.]], device='cuda:0')"
            ]
          },
          "execution_count": 39,
          "metadata": {},
          "output_type": "execute_result"
        }
      ],
      "source": [
        "generate_square_subsequent_mask(10)\n"
      ]
    },
    {
      "cell_type": "code",
      "execution_count": 40,
      "metadata": {
        "id": "RkvwyzuRGg8T"
      },
      "outputs": [],
      "source": [
        "def create_mask(src, tgt):\n",
        "    src_seq_len = src.shape[0]\n",
        "    tgt_seq_len = tgt.shape[0]\n",
        "\n",
        "    tgt_mask = generate_square_subsequent_mask(tgt_seq_len)\n",
        "    src_mask = torch.zeros((src_seq_len, src_seq_len),\n",
        "                           device=DEVICE).type(torch.bool)\n",
        "\n",
        "    src_padding_mask = (src == PAD_IDX).transpose(0, 1)\n",
        "    tgt_padding_mask = (tgt == PAD_IDX).transpose(0, 1).type(torch.float32)\n",
        "    return src_mask, tgt_mask, src_padding_mask, tgt_padding_mask\n"
      ]
    },
    {
      "cell_type": "code",
      "execution_count": 41,
      "metadata": {
        "id": "R1IyPj66Gg8T"
      },
      "outputs": [],
      "source": [
        "src = pad_sequence(text2codes(\n",
        "    train_input_texts[:3], token2idx), padding_value=PAD_IDX)\n",
        "tgt = pad_sequence(text2codes(\n",
        "    train_target_texts[:3], token2idx), padding_value=PAD_IDX)\n"
      ]
    },
    {
      "cell_type": "code",
      "execution_count": 42,
      "metadata": {
        "colab": {
          "base_uri": "https://localhost:8080/"
        },
        "id": "8BOle0KaGg8U",
        "outputId": "77e56b81-2ab4-45ed-9285-cb701c9afff3"
      },
      "outputs": [
        {
          "data": {
            "text/plain": [
              "(['The apple does not fall far from the tree.',\n",
              "  'Tom tried his best to please his parents.',\n",
              "  'Every room was searched thoroughly.'],\n",
              " ['Hổ phụ sinh hổ tử.',\n",
              "  'Tom đã cố gắng hết mình để làm bố mẹ hài lòng.',\n",
              "  'Tất cả các phòng đều bị kiểm tra kỹ lưỡng.'])"
            ]
          },
          "execution_count": 42,
          "metadata": {},
          "output_type": "execute_result"
        }
      ],
      "source": [
        "train_input_texts[:3], train_target_texts[:3]\n"
      ]
    },
    {
      "cell_type": "markdown",
      "metadata": {
        "id": "IPUOFa8hGg8U"
      },
      "source": [
        "The tensors. Note the batch dimension is the second one."
      ]
    },
    {
      "cell_type": "code",
      "execution_count": 43,
      "metadata": {
        "colab": {
          "base_uri": "https://localhost:8080/"
        },
        "id": "piGziKcKGg8U",
        "outputId": "3f0d8905-3a84-44a9-c3b3-12b146e279fa"
      },
      "outputs": [
        {
          "data": {
            "text/plain": [
              "tensor([[ 2,  2,  2],\n",
              "        [48, 48, 33],\n",
              "        [61, 68, 75],\n",
              "        [58, 66, 58],\n",
              "        [ 4,  4, 71],\n",
              "        [54, 73, 78],\n",
              "        [69, 71,  4],\n",
              "        [69, 62, 71],\n",
              "        [65, 58, 68],\n",
              "        [58, 57, 68],\n",
              "        [ 4,  4, 66],\n",
              "        [57, 61,  4],\n",
              "        [68, 62, 76],\n",
              "        [58, 72, 54],\n",
              "        [72,  4, 72],\n",
              "        [ 4, 55,  4],\n",
              "        [67, 58, 72],\n",
              "        [68, 72, 58],\n",
              "        [73, 73, 54],\n",
              "        [ 4,  4, 71],\n",
              "        [59, 73, 56],\n",
              "        [54, 68, 61],\n",
              "        [65,  4, 58],\n",
              "        [65, 69, 57],\n",
              "        [ 4, 65,  4],\n",
              "        [59, 58, 73],\n",
              "        [54, 54, 61],\n",
              "        [71, 72, 68],\n",
              "        [ 4, 58, 71],\n",
              "        [59,  4, 68],\n",
              "        [71, 61, 74],\n",
              "        [68, 62, 60],\n",
              "        [66, 72, 61],\n",
              "        [ 4,  4, 65],\n",
              "        [73, 69, 78],\n",
              "        [61, 54, 14],\n",
              "        [58, 71,  3],\n",
              "        [ 4, 58,  1],\n",
              "        [73, 67,  1],\n",
              "        [71, 73,  1],\n",
              "        [58, 72,  1],\n",
              "        [58, 14,  1],\n",
              "        [14,  3,  1],\n",
              "        [ 3,  1,  1]])"
            ]
          },
          "execution_count": 43,
          "metadata": {},
          "output_type": "execute_result"
        }
      ],
      "source": [
        "src\n"
      ]
    },
    {
      "cell_type": "code",
      "execution_count": 44,
      "metadata": {
        "colab": {
          "base_uri": "https://localhost:8080/"
        },
        "id": "2bW98nCWGg8U",
        "outputId": "b341f8e5-9122-45ec-9c33-ef0b969ef00f"
      },
      "outputs": [
        {
          "data": {
            "text/plain": [
              "tensor([[  2,   2,   2],\n",
              "        [ 36,  48,  48],\n",
              "        [142,  68, 116],\n",
              "        [  4,  66,  73],\n",
              "        [ 69,   4,   4],\n",
              "        [ 61, 106,  56],\n",
              "        [151,  90, 114],\n",
              "        [  4,   4,   4],\n",
              "        [ 72,  56,  56],\n",
              "        [ 62, 138,  88],\n",
              "        [ 67,   4,  56],\n",
              "        [ 61,  60,   4],\n",
              "        [  4, 121,  69],\n",
              "        [ 61,  67,  61],\n",
              "        [142,  60,  96],\n",
              "        [  4,   4,  67],\n",
              "        [ 73,  61,  60],\n",
              "        [156, 129,   4],\n",
              "        [ 14,  73, 106],\n",
              "        [  3,   4, 130],\n",
              "        [  1,  66,  74],\n",
              "        [  1,  94,   4],\n",
              "        [  1,  67,  55],\n",
              "        [  1,  61, 135],\n",
              "        [  1,   4,   4],\n",
              "        [  1, 106,  64],\n",
              "        [  1, 131,  62],\n",
              "        [  1,   4, 131],\n",
              "        [  1,  65,  66],\n",
              "        [  1,  87,   4],\n",
              "        [  1,  66,  73],\n",
              "        [  1,   4,  71],\n",
              "        [  1,  55,  54],\n",
              "        [  1, 138,   4],\n",
              "        [  1,   4,  64],\n",
              "        [  1,  66, 162],\n",
              "        [  1, 126,   4],\n",
              "        [  1,   4,  65],\n",
              "        [  1,  61, 111],\n",
              "        [  1,  87, 149],\n",
              "        [  1,  62,  67],\n",
              "        [  1,   4,  60],\n",
              "        [  1,  65,  14],\n",
              "        [  1,  96,   3],\n",
              "        [  1,  67,   1],\n",
              "        [  1,  60,   1],\n",
              "        [  1,  14,   1],\n",
              "        [  1,   3,   1]])"
            ]
          },
          "execution_count": 44,
          "metadata": {},
          "output_type": "execute_result"
        }
      ],
      "source": [
        "tgt\n"
      ]
    },
    {
      "cell_type": "markdown",
      "metadata": {
        "id": "LSBlUCLaGg8U"
      },
      "source": [
        "The next function returns `src_mask`, `tgt_mask`, `src_padding_mask`, `tgt_padding_mask`."
      ]
    },
    {
      "cell_type": "code",
      "execution_count": 45,
      "metadata": {
        "colab": {
          "base_uri": "https://localhost:8080/"
        },
        "id": "kEF_dLmMGg8U",
        "outputId": "7ccbf464-b07f-4b82-c43a-8707bb07c5d9"
      },
      "outputs": [
        {
          "data": {
            "text/plain": [
              "(tensor([[False, False, False,  ..., False, False, False],\n",
              "         [False, False, False,  ..., False, False, False],\n",
              "         [False, False, False,  ..., False, False, False],\n",
              "         ...,\n",
              "         [False, False, False,  ..., False, False, False],\n",
              "         [False, False, False,  ..., False, False, False],\n",
              "         [False, False, False,  ..., False, False, False]], device='cuda:0'),\n",
              " tensor([[0., -inf, -inf,  ..., -inf, -inf, -inf],\n",
              "         [0., 0., -inf,  ..., -inf, -inf, -inf],\n",
              "         [0., 0., 0.,  ..., -inf, -inf, -inf],\n",
              "         ...,\n",
              "         [0., 0., 0.,  ..., 0., -inf, -inf],\n",
              "         [0., 0., 0.,  ..., 0., 0., -inf],\n",
              "         [0., 0., 0.,  ..., 0., 0., 0.]], device='cuda:0'),\n",
              " tensor([[False, False, False, False, False, False, False, False, False, False,\n",
              "          False, False, False, False, False, False, False, False, False, False,\n",
              "          False, False, False, False, False, False, False, False, False, False,\n",
              "          False, False, False, False, False, False, False, False, False, False,\n",
              "          False, False, False, False],\n",
              "         [False, False, False, False, False, False, False, False, False, False,\n",
              "          False, False, False, False, False, False, False, False, False, False,\n",
              "          False, False, False, False, False, False, False, False, False, False,\n",
              "          False, False, False, False, False, False, False, False, False, False,\n",
              "          False, False, False,  True],\n",
              "         [False, False, False, False, False, False, False, False, False, False,\n",
              "          False, False, False, False, False, False, False, False, False, False,\n",
              "          False, False, False, False, False, False, False, False, False, False,\n",
              "          False, False, False, False, False, False, False,  True,  True,  True,\n",
              "           True,  True,  True,  True]]),\n",
              " tensor([[0., 0., 0., 0., 0., 0., 0., 0., 0., 0., 0., 0., 0., 0., 0., 0., 0., 0.,\n",
              "          0., 0., 1., 1., 1., 1., 1., 1., 1., 1., 1., 1., 1., 1., 1., 1., 1., 1.,\n",
              "          1., 1., 1., 1., 1., 1., 1., 1., 1., 1., 1., 1.],\n",
              "         [0., 0., 0., 0., 0., 0., 0., 0., 0., 0., 0., 0., 0., 0., 0., 0., 0., 0.,\n",
              "          0., 0., 0., 0., 0., 0., 0., 0., 0., 0., 0., 0., 0., 0., 0., 0., 0., 0.,\n",
              "          0., 0., 0., 0., 0., 0., 0., 0., 0., 0., 0., 0.],\n",
              "         [0., 0., 0., 0., 0., 0., 0., 0., 0., 0., 0., 0., 0., 0., 0., 0., 0., 0.,\n",
              "          0., 0., 0., 0., 0., 0., 0., 0., 0., 0., 0., 0., 0., 0., 0., 0., 0., 0.,\n",
              "          0., 0., 0., 0., 0., 0., 0., 0., 1., 1., 1., 1.]]))"
            ]
          },
          "execution_count": 45,
          "metadata": {},
          "output_type": "execute_result"
        }
      ],
      "source": [
        "create_mask(src, tgt)\n"
      ]
    },
    {
      "cell_type": "markdown",
      "metadata": {
        "id": "DPMT780KGg8U"
      },
      "source": [
        "## Model Creation"
      ]
    },
    {
      "cell_type": "code",
      "execution_count": 70,
      "metadata": {
        "colab": {
          "base_uri": "https://localhost:8080/"
        },
        "id": "iBMH0VQNGg8V",
        "outputId": "0defde82-8b27-48ac-d650-9a27999aba33"
      },
      "outputs": [
        {
          "data": {
            "text/plain": [
              "161"
            ]
          },
          "execution_count": 70,
          "metadata": {},
          "output_type": "execute_result"
        }
      ],
      "source": [
        "len(characters)\n"
      ]
    },
    {
      "cell_type": "code",
      "execution_count": 47,
      "metadata": {
        "colab": {
          "base_uri": "https://localhost:8080/"
        },
        "id": "HTBJMv4NGg8V",
        "outputId": "47b22305-7b07-4482-ea0d-0eda3322467c"
      },
      "outputs": [
        {
          "data": {
            "text/plain": [
              "165"
            ]
          },
          "execution_count": 47,
          "metadata": {},
          "output_type": "execute_result"
        }
      ],
      "source": [
        "len(token2idx)\n"
      ]
    },
    {
      "cell_type": "code",
      "execution_count": 102,
      "metadata": {
        "id": "VXjuCiCcGg8V"
      },
      "outputs": [],
      "source": [
        "VOCAB_SIZE = max(token2idx.values()) + 1  # or len(token2idx)\n",
        "EMB_SIZE = 512\n",
        "NHEAD = 8\n",
        "FFN_HID_DIM = 512\n",
        "BATCH_SIZE = 128\n",
        "NUM_ENCODER_LAYERS = 4\n",
        "NUM_DECODER_LAYERS = 4\n"
      ]
    },
    {
      "cell_type": "code",
      "execution_count": 103,
      "metadata": {
        "id": "XwLvzMsSGg8V"
      },
      "outputs": [],
      "source": [
        "transformer = Seq2SeqTransformer(NUM_ENCODER_LAYERS, NUM_DECODER_LAYERS, EMB_SIZE,\n",
        "                                 NHEAD, VOCAB_SIZE, FFN_HID_DIM)\n",
        "\n",
        "for p in transformer.parameters():\n",
        "    if p.dim() > 1:\n",
        "        nn.init.xavier_uniform_(p)\n",
        "\n",
        "transformer = transformer.to(DEVICE)\n",
        "\n",
        "loss_fn = torch.nn.CrossEntropyLoss(ignore_index=PAD_IDX)\n",
        "\n",
        "optimizer = torch.optim.Adam(\n",
        "    transformer.parameters(), lr=0.0001, betas=(0.9, 0.98), eps=1e-9)\n"
      ]
    },
    {
      "cell_type": "markdown",
      "metadata": {
        "id": "cFkMJWNkGg8V"
      },
      "source": [
        "## Formatting the Data\n",
        "We use `Dataset` and `DataLoader`. `Dataset` implements two methods: `__init__`, `__len__` and `__getitem__`. The last method returns an item of the dataset given an index. Using `collate_fn`, `DataLoader` returns a batch of `batch_size` samples."
      ]
    },
    {
      "cell_type": "code",
      "execution_count": 50,
      "metadata": {
        "id": "q_LcQNT_Gg8W"
      },
      "outputs": [],
      "source": [
        "from torch.utils.data import Dataset, DataLoader\n"
      ]
    },
    {
      "cell_type": "code",
      "execution_count": 51,
      "metadata": {
        "id": "zrJz_ZwoGg8W"
      },
      "outputs": [],
      "source": [
        "class PairDataset(Dataset):\n",
        "    def __init__(self, input_texts, target_texts, token2idx):\n",
        "        self.input_texts = input_texts\n",
        "        self.target_texts = target_texts\n",
        "        self.token2idx = token2idx\n",
        "\n",
        "    def __len__(self):\n",
        "        return len(self.input_texts)\n",
        "\n",
        "    def __getitem__(self, idx):\n",
        "        src_batch = text2codes([input_texts[idx]], self.token2idx)\n",
        "        tgt_batch = text2codes([target_texts[idx]], self.token2idx)\n",
        "\n",
        "        return src_batch[0], tgt_batch[0]\n",
        "\n",
        "    def collate(self, batch):\n",
        "        src_batch, tgt_batch = list(zip(*batch))\n",
        "        src_batch = pad_sequence(src_batch, padding_value=PAD_IDX)\n",
        "        tgt_batch = pad_sequence(tgt_batch, padding_value=PAD_IDX)\n",
        "\n",
        "        return src_batch, tgt_batch\n"
      ]
    },
    {
      "cell_type": "code",
      "execution_count": 92,
      "metadata": {
        "id": "pVjXgExYGg8W"
      },
      "outputs": [],
      "source": [
        "train_dataset = PairDataset(train_input_texts, train_target_texts, token2idx)\n",
        "train_dataloader = DataLoader(train_dataset, batch_size=32,\n",
        "                              shuffle=True, collate_fn=train_dataset.collate)\n"
      ]
    },
    {
      "cell_type": "code",
      "execution_count": 93,
      "metadata": {
        "id": "7WtRfMP-Gg8W"
      },
      "outputs": [],
      "source": [
        "val_dataset = PairDataset(val_input_texts, val_target_texts, token2idx)\n",
        "val_dataloader = DataLoader(\n",
        "    val_dataset, batch_size=32, collate_fn=val_dataset.collate)\n"
      ]
    },
    {
      "cell_type": "markdown",
      "metadata": {
        "id": "Id_LO4y7Gg8W"
      },
      "source": [
        "## Training Loop"
      ]
    },
    {
      "cell_type": "code",
      "execution_count": 54,
      "metadata": {
        "id": "-e-rMD7YGg8W"
      },
      "outputs": [],
      "source": [
        "def train_epoch(model, optimizer, dataloader):\n",
        "    model.train()\n",
        "    losses = 0\n",
        "    sent_cnt = 0\n",
        "    correct, total = 0, 0\n",
        "    for src_batch, tgt_batch in tqdm(dataloader):\n",
        "        src = src_batch.to(DEVICE)\n",
        "        tgt = tgt_batch.to(DEVICE)\n",
        "\n",
        "        tgt_input = tgt[:-1, :]\n",
        "\n",
        "        src_mask, tgt_mask, src_padding_mask, tgt_padding_mask = create_mask(\n",
        "            src, tgt_input)\n",
        "\n",
        "        logits = model(src,\n",
        "                       tgt_input,\n",
        "                       src_mask,\n",
        "                       tgt_mask,\n",
        "                       src_padding_mask,\n",
        "                       tgt_padding_mask,\n",
        "                       src_padding_mask)\n",
        "\n",
        "        optimizer.zero_grad()\n",
        "\n",
        "        tgt_out = tgt[1:, :]\n",
        "        loss = loss_fn(\n",
        "            logits.reshape(-1, logits.shape[-1]), tgt_out.reshape(-1))\n",
        "        loss.backward()\n",
        "\n",
        "        optimizer.step()\n",
        "        losses += loss.item()\n",
        "\n",
        "        with torch.no_grad():\n",
        "            sent_cnt += tgt_out.size()[-1]\n",
        "\n",
        "            total += torch.numel(tgt_input)\n",
        "            _, char_pred = torch.max(logits, -1)\n",
        "            correct += (char_pred == tgt_out).sum().item()\n",
        "\n",
        "    return losses / sent_cnt, correct / total\n"
      ]
    },
    {
      "cell_type": "markdown",
      "metadata": {
        "id": "QfSNPNM_Gg8W"
      },
      "source": [
        "About the loss. Overall, it should computed by individual prediction and divided by the number of chars. By default the crossentropy loss uses the mean. Then we use the mean of the mean. The trend is correct, but the values are not exact. A possible improvement would be to sum and pass through the mask."
      ]
    },
    {
      "cell_type": "code",
      "execution_count": 55,
      "metadata": {
        "id": "u6392gDfGg8X"
      },
      "outputs": [],
      "source": [
        "def evaluate(model, dataloader):\n",
        "    model.eval()\n",
        "    losses = 0\n",
        "    sent_cnt = 0\n",
        "    correct, total = 0, 0\n",
        "\n",
        "    for src_batch, tgt_batch in dataloader:\n",
        "        src = src_batch.to(DEVICE)\n",
        "        tgt = tgt_batch.to(DEVICE)\n",
        "\n",
        "        tgt_input = tgt[:-1, :]\n",
        "\n",
        "        src_mask, tgt_mask, src_padding_mask, tgt_padding_mask = create_mask(\n",
        "            src, tgt_input)\n",
        "\n",
        "        logits = model(src, tgt_input, src_mask, tgt_mask,\n",
        "                       src_padding_mask, tgt_padding_mask, src_padding_mask)\n",
        "\n",
        "        tgt_out = tgt[1:, :]\n",
        "        loss = loss_fn(\n",
        "            logits.reshape(-1, logits.shape[-1]), tgt_out.reshape(-1))\n",
        "        losses += loss.item()\n",
        "        sent_cnt += tgt_out.size()[-1]\n",
        "\n",
        "        total += torch.numel(tgt_input)\n",
        "        _, char_pred = torch.max(logits, -1)\n",
        "        correct += (char_pred == tgt_out).sum().item()\n",
        "\n",
        "    return losses / sent_cnt, correct / total\n"
      ]
    },
    {
      "cell_type": "code",
      "execution_count": 104,
      "metadata": {
        "colab": {
          "base_uri": "https://localhost:8080/"
        },
        "id": "nrbpK8tQGg8X",
        "outputId": "e1af11c4-90b6-4c28-fdb6-323a080d0a1e"
      },
      "outputs": [
        {
          "name": "stderr",
          "output_type": "stream",
          "text": [
            "100%|██████████| 231/231 [00:24<00:00,  9.56it/s]\n"
          ]
        },
        {
          "name": "stdout",
          "output_type": "stream",
          "text": [
            "Epoch: 1, Train loss: 0.084, Val loss: 0.060, Train acc.: 0.160, Val acc.: 0.216, Epoch time = 24.163s\n"
          ]
        },
        {
          "name": "stderr",
          "output_type": "stream",
          "text": [
            "100%|██████████| 231/231 [00:24<00:00,  9.34it/s]\n"
          ]
        },
        {
          "name": "stdout",
          "output_type": "stream",
          "text": [
            "Epoch: 2, Train loss: 0.059, Val loss: 0.053, Train acc.: 0.220, Val acc.: 0.242, Epoch time = 24.735s\n"
          ]
        },
        {
          "name": "stderr",
          "output_type": "stream",
          "text": [
            "100%|██████████| 231/231 [00:24<00:00,  9.31it/s]\n"
          ]
        },
        {
          "name": "stdout",
          "output_type": "stream",
          "text": [
            "Epoch: 3, Train loss: 0.054, Val loss: 0.048, Train acc.: 0.241, Val acc.: 0.260, Epoch time = 24.822s\n"
          ]
        },
        {
          "name": "stderr",
          "output_type": "stream",
          "text": [
            "100%|██████████| 231/231 [00:24<00:00,  9.35it/s]\n"
          ]
        },
        {
          "name": "stdout",
          "output_type": "stream",
          "text": [
            "Epoch: 4, Train loss: 0.050, Val loss: 0.045, Train acc.: 0.253, Val acc.: 0.272, Epoch time = 24.728s\n"
          ]
        },
        {
          "name": "stderr",
          "output_type": "stream",
          "text": [
            "100%|██████████| 231/231 [00:24<00:00,  9.34it/s]\n"
          ]
        },
        {
          "name": "stdout",
          "output_type": "stream",
          "text": [
            "Epoch: 5, Train loss: 0.048, Val loss: 0.043, Train acc.: 0.263, Val acc.: 0.279, Epoch time = 24.749s\n"
          ]
        },
        {
          "name": "stderr",
          "output_type": "stream",
          "text": [
            "100%|██████████| 231/231 [00:24<00:00,  9.27it/s]\n"
          ]
        },
        {
          "name": "stdout",
          "output_type": "stream",
          "text": [
            "Epoch: 6, Train loss: 0.046, Val loss: 0.041, Train acc.: 0.270, Val acc.: 0.288, Epoch time = 24.920s\n"
          ]
        },
        {
          "name": "stderr",
          "output_type": "stream",
          "text": [
            "100%|██████████| 231/231 [00:24<00:00,  9.24it/s]\n"
          ]
        },
        {
          "name": "stdout",
          "output_type": "stream",
          "text": [
            "Epoch: 7, Train loss: 0.044, Val loss: 0.039, Train acc.: 0.274, Val acc.: 0.296, Epoch time = 25.005s\n"
          ]
        },
        {
          "name": "stderr",
          "output_type": "stream",
          "text": [
            "100%|██████████| 231/231 [00:24<00:00,  9.31it/s]\n"
          ]
        },
        {
          "name": "stdout",
          "output_type": "stream",
          "text": [
            "Epoch: 8, Train loss: 0.042, Val loss: 0.038, Train acc.: 0.283, Val acc.: 0.303, Epoch time = 24.816s\n"
          ]
        },
        {
          "name": "stderr",
          "output_type": "stream",
          "text": [
            "100%|██████████| 231/231 [00:24<00:00,  9.28it/s]\n"
          ]
        },
        {
          "name": "stdout",
          "output_type": "stream",
          "text": [
            "Epoch: 9, Train loss: 0.041, Val loss: 0.036, Train acc.: 0.289, Val acc.: 0.308, Epoch time = 24.918s\n"
          ]
        },
        {
          "name": "stderr",
          "output_type": "stream",
          "text": [
            "100%|██████████| 231/231 [00:25<00:00,  9.23it/s]\n"
          ]
        },
        {
          "name": "stdout",
          "output_type": "stream",
          "text": [
            "Epoch: 10, Train loss: 0.040, Val loss: 0.035, Train acc.: 0.292, Val acc.: 0.314, Epoch time = 25.027s\n"
          ]
        },
        {
          "name": "stderr",
          "output_type": "stream",
          "text": [
            "100%|██████████| 231/231 [00:24<00:00,  9.25it/s]\n"
          ]
        },
        {
          "name": "stdout",
          "output_type": "stream",
          "text": [
            "Epoch: 11, Train loss: 0.039, Val loss: 0.033, Train acc.: 0.299, Val acc.: 0.320, Epoch time = 24.990s\n"
          ]
        },
        {
          "name": "stderr",
          "output_type": "stream",
          "text": [
            "100%|██████████| 231/231 [00:24<00:00,  9.26it/s]\n"
          ]
        },
        {
          "name": "stdout",
          "output_type": "stream",
          "text": [
            "Epoch: 12, Train loss: 0.037, Val loss: 0.032, Train acc.: 0.302, Val acc.: 0.327, Epoch time = 24.956s\n"
          ]
        },
        {
          "name": "stderr",
          "output_type": "stream",
          "text": [
            "100%|██████████| 231/231 [00:24<00:00,  9.26it/s]\n"
          ]
        },
        {
          "name": "stdout",
          "output_type": "stream",
          "text": [
            "Epoch: 13, Train loss: 0.036, Val loss: 0.031, Train acc.: 0.308, Val acc.: 0.330, Epoch time = 24.955s\n"
          ]
        },
        {
          "name": "stderr",
          "output_type": "stream",
          "text": [
            "100%|██████████| 231/231 [00:25<00:00,  9.20it/s]\n"
          ]
        },
        {
          "name": "stdout",
          "output_type": "stream",
          "text": [
            "Epoch: 14, Train loss: 0.035, Val loss: 0.030, Train acc.: 0.311, Val acc.: 0.335, Epoch time = 25.113s\n"
          ]
        },
        {
          "name": "stderr",
          "output_type": "stream",
          "text": [
            "100%|██████████| 231/231 [00:25<00:00,  9.20it/s]\n"
          ]
        },
        {
          "name": "stdout",
          "output_type": "stream",
          "text": [
            "Epoch: 15, Train loss: 0.034, Val loss: 0.028, Train acc.: 0.316, Val acc.: 0.342, Epoch time = 25.108s\n"
          ]
        },
        {
          "name": "stderr",
          "output_type": "stream",
          "text": [
            "100%|██████████| 231/231 [00:24<00:00,  9.26it/s]\n"
          ]
        },
        {
          "name": "stdout",
          "output_type": "stream",
          "text": [
            "Epoch: 16, Train loss: 0.033, Val loss: 0.027, Train acc.: 0.319, Val acc.: 0.346, Epoch time = 24.968s\n"
          ]
        },
        {
          "name": "stderr",
          "output_type": "stream",
          "text": [
            "100%|██████████| 231/231 [00:24<00:00,  9.29it/s]\n"
          ]
        },
        {
          "name": "stdout",
          "output_type": "stream",
          "text": [
            "Epoch: 17, Train loss: 0.032, Val loss: 0.026, Train acc.: 0.326, Val acc.: 0.351, Epoch time = 24.886s\n"
          ]
        },
        {
          "name": "stderr",
          "output_type": "stream",
          "text": [
            "100%|██████████| 231/231 [00:24<00:00,  9.27it/s]\n"
          ]
        },
        {
          "name": "stdout",
          "output_type": "stream",
          "text": [
            "Epoch: 18, Train loss: 0.031, Val loss: 0.025, Train acc.: 0.328, Val acc.: 0.357, Epoch time = 24.929s\n"
          ]
        },
        {
          "name": "stderr",
          "output_type": "stream",
          "text": [
            "100%|██████████| 231/231 [00:24<00:00,  9.35it/s]\n"
          ]
        },
        {
          "name": "stdout",
          "output_type": "stream",
          "text": [
            "Epoch: 19, Train loss: 0.030, Val loss: 0.024, Train acc.: 0.333, Val acc.: 0.361, Epoch time = 24.707s\n"
          ]
        },
        {
          "name": "stderr",
          "output_type": "stream",
          "text": [
            "100%|██████████| 231/231 [00:25<00:00,  9.21it/s]\n"
          ]
        },
        {
          "name": "stdout",
          "output_type": "stream",
          "text": [
            "Epoch: 20, Train loss: 0.029, Val loss: 0.022, Train acc.: 0.335, Val acc.: 0.366, Epoch time = 25.083s\n"
          ]
        }
      ],
      "source": [
        "from timeit import default_timer as timer\n",
        "NUM_EPOCHS = 20\n",
        "train_losses = []\n",
        "train_accs = []\n",
        "val_losses = []\n",
        "val_accs = []\n",
        "\n",
        "for epoch in range(1, NUM_EPOCHS + 1):\n",
        "    start_time = timer()\n",
        "    train_loss, train_acc = train_epoch(\n",
        "        transformer, optimizer, train_dataloader)\n",
        "    train_losses += [train_loss]\n",
        "    train_accs += [train_acc]\n",
        "    end_time = timer()\n",
        "    val_loss, val_acc = evaluate(transformer, val_dataloader)\n",
        "    val_losses += [val_loss]\n",
        "    val_accs += [val_acc]\n",
        "    print((f\"Epoch: {epoch}, Train loss: {train_loss:.3f}, Val loss: {val_loss:.3f}, Train acc.: {train_acc:.3f}, Val acc.: {val_acc:.3f}, Epoch time = {(end_time - start_time):.3f}s\"))\n"
      ]
    },
    {
      "cell_type": "markdown",
      "metadata": {
        "id": "wc6dcP3FGg8X"
      },
      "source": [
        "## Plotting the Loss"
      ]
    },
    {
      "cell_type": "code",
      "execution_count": 105,
      "metadata": {
        "id": "3njVmv3-Gg8X"
      },
      "outputs": [],
      "source": [
        "epochs = range(NUM_EPOCHS)\n"
      ]
    },
    {
      "cell_type": "code",
      "execution_count": 106,
      "metadata": {
        "colab": {
          "base_uri": "https://localhost:8080/",
          "height": 472
        },
        "id": "Ih6ENkAQGg8X",
        "outputId": "0ec63745-96f8-4052-8cba-fb2a02f0e3d5"
      },
      "outputs": [
        {
          "data": {
            "image/png": "[encoded data removed]",
            "text/plain": [
              "<Figure size 640x480 with 1 Axes>"
            ]
          },
          "metadata": {},
          "output_type": "display_data"
        }
      ],
      "source": [
        "plt.plot(epochs, train_losses, 'bo', label='Training loss')\n",
        "plt.plot(epochs, val_losses, 'b', label='Validation loss')\n",
        "plt.title('Training and validation loss')\n",
        "plt.xlabel('Epochs')\n",
        "plt.ylabel('Loss')\n",
        "plt.legend()\n",
        "plt.show()\n"
      ]
    },
    {
      "cell_type": "code",
      "execution_count": 107,
      "metadata": {
        "colab": {
          "base_uri": "https://localhost:8080/",
          "height": 472
        },
        "id": "OJj0uqp4Gg8Y",
        "outputId": "1b220448-2ec9-431c-8a93-b75c98afabff"
      },
      "outputs": [
        {
          "data": {
            "image/png": "[encoded data removed]",
            "text/plain": [
              "<Figure size 640x480 with 1 Axes>"
            ]
          },
          "metadata": {},
          "output_type": "display_data"
        }
      ],
      "source": [
        "plt.plot(epochs, train_accs, 'bo', label='Training acc')\n",
        "plt.plot(epochs, val_accs, 'b', label='Validation acc')\n",
        "plt.title('Training and validation accuracy')\n",
        "plt.xlabel('Epochs')\n",
        "plt.ylabel('Accuracy')\n",
        "plt.show()\n"
      ]
    },
    {
      "cell_type": "markdown",
      "metadata": {
        "id": "dA1dS1MlGg8Y"
      },
      "source": [
        "## Application"
      ]
    },
    {
      "cell_type": "code",
      "execution_count": 63,
      "metadata": {
        "id": "_YISQiHAGg8Y"
      },
      "outputs": [],
      "source": [
        "# function to generate output sequence using greedy algorithm\n",
        "def greedy_decode(model, src, src_mask, max_len, start_symbol):\n",
        "    src = src.to(DEVICE)\n",
        "    src_mask = src_mask.to(DEVICE)\n",
        "\n",
        "    memory = model.encode(src, src_mask)\n",
        "    ys = torch.ones(1, 1).fill_(start_symbol).type(torch.long).to(DEVICE)\n",
        "    # print(ys)\n",
        "    for i in range(max_len-1):\n",
        "        memory = memory.to(DEVICE)\n",
        "        tgt_mask = (generate_square_subsequent_mask(ys.size(0))\n",
        "                    .type(torch.bool)).to(DEVICE)\n",
        "        out = model.decode(ys, memory, tgt_mask)\n",
        "        out = out.transpose(0, 1)\n",
        "        prob = model.generator(out[:, -1])\n",
        "        _, next_word = torch.max(prob, dim=1)\n",
        "        next_word = next_word.item()\n",
        "\n",
        "        ys = torch.cat([ys,\n",
        "                        torch.ones(1, 1).type_as(src.data).fill_(next_word)], dim=0)\n",
        "        # print(ys) # Remove the comment to understand the loop\n",
        "        if next_word == EOS_IDX:\n",
        "            break\n",
        "    return ys\n"
      ]
    },
    {
      "cell_type": "code",
      "execution_count": 85,
      "metadata": {
        "colab": {
          "base_uri": "https://localhost:8080/"
        },
        "id": "Pv0l4A8cGg8Y",
        "outputId": "787a4787-effc-4f34-fa68-6a9a3b2dc6ae"
      },
      "outputs": [
        {
          "data": {
            "text/plain": [
              "tensor([[ 2],\n",
              "        [35],\n",
              "        [68],\n",
              "        [ 5],\n",
              "        [ 3]])"
            ]
          },
          "execution_count": 85,
          "metadata": {},
          "output_type": "execute_result"
        }
      ],
      "source": [
        "text2codes(['Go!'], token2idx)[0].view(-1, 1)\n"
      ]
    },
    {
      "cell_type": "code",
      "execution_count": 65,
      "metadata": {
        "id": "jUQ6ynFaGg8Z"
      },
      "outputs": [],
      "source": [
        "# actual function to translate input sentence into target language\n",
        "def translate(model: torch.nn.Module, src_sentence: str):\n",
        "    model.eval()\n",
        "    src = text2codes([src_sentence], token2idx)[0].view(-1, 1)\n",
        "    num_tokens = src.shape[0]\n",
        "    src_mask = (torch.zeros(num_tokens, num_tokens)).type(torch.bool)\n",
        "    tgt_tokens = greedy_decode(\n",
        "        model, src, src_mask, max_len=num_tokens + 20, start_symbol=BOS_IDX).flatten()\n",
        "    tgt_chars_specials = codes2text([tgt_tokens], idx2token)[0]\n",
        "    tgt_chars = []\n",
        "    for char in tgt_chars_specials:\n",
        "        if char != '<bos>' and char != '<eos>':\n",
        "            tgt_chars += [char]\n",
        "    tgt_chars = ''.join(tgt_chars)\n",
        "    return tgt_chars\n"
      ]
    },
    {
      "cell_type": "code",
      "execution_count": 108,
      "metadata": {
        "colab": {
          "base_uri": "https://localhost:8080/",
          "height": 36
        },
        "id": "rm9z2EM1Gg8Z",
        "outputId": "8e7ac31c-e06a-43a2-b71d-243c2cc80b2a"
      },
      "outputs": [
        {
          "data": {
            "application/vnd.google.colaboratory.intrinsic+json": {
              "type": "string"
            },
            "text/plain": [
              "'Bạn là gì?'"
            ]
          },
          "execution_count": 108,
          "metadata": {},
          "output_type": "execute_result"
        }
      ],
      "source": [
        "tgt_sent = translate(transformer, \"What's your name?\")\n",
        "tgt_sent\n"
      ]
    },
    {
      "cell_type": "code",
      "execution_count": 109,
      "metadata": {
        "colab": {
          "base_uri": "https://localhost:8080/",
          "height": 36
        },
        "id": "VuwLqn-mGg8Z",
        "outputId": "dfc64036-c6e3-44b4-94cc-62e3530c72db"
      },
      "outputs": [
        {
          "data": {
            "application/vnd.google.colaboratory.intrinsic+json": {
              "type": "string"
            },
            "text/plain": [
              "'Bạn làm gì?'"
            ]
          },
          "execution_count": 109,
          "metadata": {},
          "output_type": "execute_result"
        }
      ],
      "source": [
        "tgt_sent = translate(\n",
        "    transformer, \"What are you doing?\")\n",
        "tgt_sent\n"
      ]
    },
    {
      "cell_type": "code",
      "execution_count": 110,
      "metadata": {
        "colab": {
          "base_uri": "https://localhost:8080/",
          "height": 36
        },
        "id": "3YR6XgeQR1tC",
        "outputId": "609cd29e-7e5e-459a-daed-6861ab20bfe3"
      },
      "outputs": [
        {
          "data": {
            "application/vnd.google.colaboratory.intrinsic+json": {
              "type": "string"
            },
            "text/plain": [
              "'Chúng tôi sẽ đợi đến nói với tôi.'"
            ]
          },
          "execution_count": 110,
          "metadata": {},
          "output_type": "execute_result"
        }
      ],
      "source": [
        "tgt_sent = translate(transformer, \"We will travel tomorrow\")\n",
        "tgt_sent"
      ]
    },
    {
      "cell_type": "code",
      "execution_count": 111,
      "metadata": {
        "colab": {
          "base_uri": "https://localhost:8080/",
          "height": 36
        },
        "id": "cxFmm4t8j6iv",
        "outputId": "7e1a37c0-0918-46fe-a286-39d36f19a87d"
      },
      "outputs": [
        {
          "data": {
            "application/vnd.google.colaboratory.intrinsic+json": {
              "type": "string"
            },
            "text/plain": [
              "'Tôi sẽ đợi ở đây.'"
            ]
          },
          "execution_count": 111,
          "metadata": {},
          "output_type": "execute_result"
        }
      ],
      "source": [
        "tgt_sent = translate(transformer, \"I will wait here.\")\n",
        "tgt_sent"
      ]
    },
    {
      "cell_type": "code",
      "execution_count": 112,
      "metadata": {
        "colab": {
          "base_uri": "https://localhost:8080/",
          "height": 36
        },
        "id": "jXcmb4kCkJR_",
        "outputId": "c18c7958-4161-4832-8cbf-1ef020159e2a"
      },
      "outputs": [
        {
          "data": {
            "application/vnd.google.colaboratory.intrinsic+json": {
              "type": "string"
            },
            "text/plain": [
              "'Tôi sẽ thử cái bạn đang cái đó.'"
            ]
          },
          "execution_count": 112,
          "metadata": {},
          "output_type": "execute_result"
        }
      ],
      "source": [
        "tgt_sent = translate(transformer, \"I will help you with that.\")\n",
        "tgt_sent"
      ]
    },
    {
      "cell_type": "markdown",
      "metadata": {
        "id": "GeF9wxPrSHSZ"
      },
      "source": [
        "## Model Creation"
      ]
    },
    {
      "cell_type": "code",
      "execution_count": 113,
      "metadata": {
        "id": "WNN4wueYSHSj"
      },
      "outputs": [],
      "source": [
        "VOCAB_SIZE = max(token2idx.values()) + 1  # or len(token2idx)\n",
        "EMB_SIZE = 512\n",
        "NHEAD = 8\n",
        "FFN_HID_DIM = 512\n",
        "BATCH_SIZE = 128\n",
        "NUM_ENCODER_LAYERS = 4\n",
        "NUM_DECODER_LAYERS = 4"
      ]
    },
    {
      "cell_type": "code",
      "execution_count": 117,
      "metadata": {
        "id": "_JW8ij1jSHSk"
      },
      "outputs": [],
      "source": [
        "transformer = Seq2SeqTransformer(NUM_ENCODER_LAYERS, NUM_DECODER_LAYERS, EMB_SIZE,\n",
        "                                 NHEAD, VOCAB_SIZE, FFN_HID_DIM)\n",
        "\n",
        "for p in transformer.parameters():\n",
        "    if p.dim() > 1:\n",
        "        nn.init.xavier_uniform_(p)\n",
        "\n",
        "transformer = transformer.to(DEVICE)\n",
        "\n",
        "loss_fn = torch.nn.CrossEntropyLoss(ignore_index=PAD_IDX)\n",
        "\n",
        "optimizer = torch.optim.Adam(\n",
        "    transformer.parameters(), lr=0.00005, betas=(0.9, 0.98), eps=1e-9)\n"
      ]
    },
    {
      "cell_type": "markdown",
      "metadata": {
        "id": "asXzWlm1SHSl"
      },
      "source": [
        "## Training Loop"
      ]
    },
    {
      "cell_type": "code",
      "execution_count": 118,
      "metadata": {
        "colab": {
          "base_uri": "https://localhost:8080/"
        },
        "id": "zgUYEnIRSHSl",
        "outputId": "6a7f9702-ac48-438a-cefd-a59755b5bb87"
      },
      "outputs": [
        {
          "name": "stderr",
          "output_type": "stream",
          "text": [
            "100%|██████████| 231/231 [00:25<00:00,  9.22it/s]\n"
          ]
        },
        {
          "name": "stdout",
          "output_type": "stream",
          "text": [
            "Epoch: 1, Train loss: 0.088, Val loss: 0.064, Train acc.: 0.150, Val acc.: 0.210, Epoch time = 25.070s\n"
          ]
        },
        {
          "name": "stderr",
          "output_type": "stream",
          "text": [
            "100%|██████████| 231/231 [00:25<00:00,  9.18it/s]\n"
          ]
        },
        {
          "name": "stdout",
          "output_type": "stream",
          "text": [
            "Epoch: 2, Train loss: 0.063, Val loss: 0.058, Train acc.: 0.204, Val acc.: 0.225, Epoch time = 25.178s\n"
          ]
        },
        {
          "name": "stderr",
          "output_type": "stream",
          "text": [
            "100%|██████████| 231/231 [00:24<00:00,  9.29it/s]\n"
          ]
        },
        {
          "name": "stdout",
          "output_type": "stream",
          "text": [
            "Epoch: 3, Train loss: 0.058, Val loss: 0.053, Train acc.: 0.221, Val acc.: 0.241, Epoch time = 24.877s\n"
          ]
        },
        {
          "name": "stderr",
          "output_type": "stream",
          "text": [
            "100%|██████████| 231/231 [00:24<00:00,  9.33it/s]\n"
          ]
        },
        {
          "name": "stdout",
          "output_type": "stream",
          "text": [
            "Epoch: 4, Train loss: 0.055, Val loss: 0.050, Train acc.: 0.234, Val acc.: 0.252, Epoch time = 24.781s\n"
          ]
        },
        {
          "name": "stderr",
          "output_type": "stream",
          "text": [
            "100%|██████████| 231/231 [00:24<00:00,  9.29it/s]\n"
          ]
        },
        {
          "name": "stdout",
          "output_type": "stream",
          "text": [
            "Epoch: 5, Train loss: 0.053, Val loss: 0.048, Train acc.: 0.245, Val acc.: 0.260, Epoch time = 24.876s\n"
          ]
        },
        {
          "name": "stderr",
          "output_type": "stream",
          "text": [
            "100%|██████████| 231/231 [00:24<00:00,  9.29it/s]\n"
          ]
        },
        {
          "name": "stdout",
          "output_type": "stream",
          "text": [
            "Epoch: 6, Train loss: 0.051, Val loss: 0.046, Train acc.: 0.250, Val acc.: 0.266, Epoch time = 24.876s\n"
          ]
        },
        {
          "name": "stderr",
          "output_type": "stream",
          "text": [
            "100%|██████████| 231/231 [00:24<00:00,  9.34it/s]\n"
          ]
        },
        {
          "name": "stdout",
          "output_type": "stream",
          "text": [
            "Epoch: 7, Train loss: 0.049, Val loss: 0.045, Train acc.: 0.257, Val acc.: 0.272, Epoch time = 24.730s\n"
          ]
        },
        {
          "name": "stderr",
          "output_type": "stream",
          "text": [
            "100%|██████████| 231/231 [00:24<00:00,  9.29it/s]\n"
          ]
        },
        {
          "name": "stdout",
          "output_type": "stream",
          "text": [
            "Epoch: 8, Train loss: 0.047, Val loss: 0.043, Train acc.: 0.265, Val acc.: 0.279, Epoch time = 24.867s\n"
          ]
        },
        {
          "name": "stderr",
          "output_type": "stream",
          "text": [
            "100%|██████████| 231/231 [00:24<00:00,  9.31it/s]\n"
          ]
        },
        {
          "name": "stdout",
          "output_type": "stream",
          "text": [
            "Epoch: 9, Train loss: 0.046, Val loss: 0.042, Train acc.: 0.270, Val acc.: 0.285, Epoch time = 24.819s\n"
          ]
        },
        {
          "name": "stderr",
          "output_type": "stream",
          "text": [
            "100%|██████████| 231/231 [00:24<00:00,  9.38it/s]\n"
          ]
        },
        {
          "name": "stdout",
          "output_type": "stream",
          "text": [
            "Epoch: 10, Train loss: 0.045, Val loss: 0.040, Train acc.: 0.274, Val acc.: 0.291, Epoch time = 24.637s\n"
          ]
        },
        {
          "name": "stderr",
          "output_type": "stream",
          "text": [
            "100%|██████████| 231/231 [00:24<00:00,  9.26it/s]\n"
          ]
        },
        {
          "name": "stdout",
          "output_type": "stream",
          "text": [
            "Epoch: 11, Train loss: 0.044, Val loss: 0.039, Train acc.: 0.277, Val acc.: 0.296, Epoch time = 24.960s\n"
          ]
        },
        {
          "name": "stderr",
          "output_type": "stream",
          "text": [
            "100%|██████████| 231/231 [00:25<00:00,  9.16it/s]\n"
          ]
        },
        {
          "name": "stdout",
          "output_type": "stream",
          "text": [
            "Epoch: 12, Train loss: 0.043, Val loss: 0.038, Train acc.: 0.281, Val acc.: 0.301, Epoch time = 25.236s\n"
          ]
        },
        {
          "name": "stderr",
          "output_type": "stream",
          "text": [
            "100%|██████████| 231/231 [00:24<00:00,  9.31it/s]\n"
          ]
        },
        {
          "name": "stdout",
          "output_type": "stream",
          "text": [
            "Epoch: 13, Train loss: 0.042, Val loss: 0.037, Train acc.: 0.286, Val acc.: 0.305, Epoch time = 24.823s\n"
          ]
        },
        {
          "name": "stderr",
          "output_type": "stream",
          "text": [
            "100%|██████████| 231/231 [00:24<00:00,  9.35it/s]\n"
          ]
        },
        {
          "name": "stdout",
          "output_type": "stream",
          "text": [
            "Epoch: 14, Train loss: 0.041, Val loss: 0.036, Train acc.: 0.289, Val acc.: 0.310, Epoch time = 24.724s\n"
          ]
        },
        {
          "name": "stderr",
          "output_type": "stream",
          "text": [
            "100%|██████████| 231/231 [00:24<00:00,  9.33it/s]\n"
          ]
        },
        {
          "name": "stdout",
          "output_type": "stream",
          "text": [
            "Epoch: 15, Train loss: 0.040, Val loss: 0.035, Train acc.: 0.294, Val acc.: 0.312, Epoch time = 24.758s\n"
          ]
        }
      ],
      "source": [
        "from timeit import default_timer as timer\n",
        "NUM_EPOCHS = 15\n",
        "train_losses = []\n",
        "train_accs = []\n",
        "val_losses = []\n",
        "val_accs = []\n",
        "\n",
        "for epoch in range(1, NUM_EPOCHS + 1):\n",
        "    start_time = timer()\n",
        "    train_loss, train_acc = train_epoch(\n",
        "        transformer, optimizer, train_dataloader)\n",
        "    train_losses += [train_loss]\n",
        "    train_accs += [train_acc]\n",
        "    end_time = timer()\n",
        "    val_loss, val_acc = evaluate(transformer, val_dataloader)\n",
        "    val_losses += [val_loss]\n",
        "    val_accs += [val_acc]\n",
        "    print((f\"Epoch: {epoch}, Train loss: {train_loss:.3f}, Val loss: {val_loss:.3f}, Train acc.: {train_acc:.3f}, Val acc.: {val_acc:.3f}, Epoch time = {(end_time - start_time):.3f}s\"))\n"
      ]
    },
    {
      "cell_type": "markdown",
      "metadata": {
        "id": "QmwaXqw1SHSl"
      },
      "source": [
        "## Plotting the Loss"
      ]
    },
    {
      "cell_type": "code",
      "execution_count": 121,
      "metadata": {
        "id": "eBhPHd-CnNwd"
      },
      "outputs": [],
      "source": [
        "VOCAB_SIZE = max(token2idx.values()) + 1  # or len(token2idx)\n",
        "EMB_SIZE = 512\n",
        "NHEAD = 16\n",
        "FFN_HID_DIM = 512\n",
        "BATCH_SIZE = 128\n",
        "NUM_ENCODER_LAYERS = 6\n",
        "NUM_DECODER_LAYERS = 6"
      ]
    },
    {
      "cell_type": "code",
      "execution_count": 122,
      "metadata": {
        "id": "7IzagmTVnNwe"
      },
      "outputs": [],
      "source": [
        "transformer = Seq2SeqTransformer(NUM_ENCODER_LAYERS, NUM_DECODER_LAYERS, EMB_SIZE,\n",
        "                                 NHEAD, VOCAB_SIZE, FFN_HID_DIM)\n",
        "\n",
        "for p in transformer.parameters():\n",
        "    if p.dim() > 1:\n",
        "        nn.init.xavier_uniform_(p)\n",
        "\n",
        "transformer = transformer.to(DEVICE)\n",
        "\n",
        "loss_fn = torch.nn.CrossEntropyLoss(ignore_index=PAD_IDX)\n",
        "\n",
        "optimizer = torch.optim.Adam(\n",
        "    transformer.parameters(), lr=0.0001, betas=(0.9, 0.98), eps=1e-9)\n"
      ]
    },
    {
      "cell_type": "markdown",
      "metadata": {
        "id": "8_SZ5mConNwe"
      },
      "source": [
        "## Training Loop"
      ]
    },
    {
      "cell_type": "code",
      "execution_count": 123,
      "metadata": {
        "colab": {
          "base_uri": "https://localhost:8080/"
        },
        "id": "eTm85pdtnNwf",
        "outputId": "fdc97a8f-ae19-4e2e-87f0-b7e9191fc43d"
      },
      "outputs": [
        {
          "name": "stderr",
          "output_type": "stream",
          "text": [
            "100%|██████████| 231/231 [00:38<00:00,  5.99it/s]\n"
          ]
        },
        {
          "name": "stdout",
          "output_type": "stream",
          "text": [
            "Epoch: 1, Train loss: 0.093, Val loss: 0.063, Train acc.: 0.138, Val acc.: 0.211, Epoch time = 38.556s\n"
          ]
        },
        {
          "name": "stderr",
          "output_type": "stream",
          "text": [
            "100%|██████████| 231/231 [00:39<00:00,  5.81it/s]\n"
          ]
        },
        {
          "name": "stdout",
          "output_type": "stream",
          "text": [
            "Epoch: 2, Train loss: 0.061, Val loss: 0.055, Train acc.: 0.214, Val acc.: 0.232, Epoch time = 39.752s\n"
          ]
        },
        {
          "name": "stderr",
          "output_type": "stream",
          "text": [
            "100%|██████████| 231/231 [00:39<00:00,  5.88it/s]\n"
          ]
        },
        {
          "name": "stdout",
          "output_type": "stream",
          "text": [
            "Epoch: 3, Train loss: 0.055, Val loss: 0.050, Train acc.: 0.234, Val acc.: 0.252, Epoch time = 39.302s\n"
          ]
        },
        {
          "name": "stderr",
          "output_type": "stream",
          "text": [
            "100%|██████████| 231/231 [00:39<00:00,  5.81it/s]\n"
          ]
        },
        {
          "name": "stdout",
          "output_type": "stream",
          "text": [
            "Epoch: 4, Train loss: 0.051, Val loss: 0.047, Train acc.: 0.247, Val acc.: 0.263, Epoch time = 39.767s\n"
          ]
        },
        {
          "name": "stderr",
          "output_type": "stream",
          "text": [
            "100%|██████████| 231/231 [00:39<00:00,  5.85it/s]\n"
          ]
        },
        {
          "name": "stdout",
          "output_type": "stream",
          "text": [
            "Epoch: 5, Train loss: 0.049, Val loss: 0.045, Train acc.: 0.260, Val acc.: 0.276, Epoch time = 39.502s\n"
          ]
        },
        {
          "name": "stderr",
          "output_type": "stream",
          "text": [
            "100%|██████████| 231/231 [00:39<00:00,  5.89it/s]\n"
          ]
        },
        {
          "name": "stdout",
          "output_type": "stream",
          "text": [
            "Epoch: 6, Train loss: 0.047, Val loss: 0.042, Train acc.: 0.270, Val acc.: 0.283, Epoch time = 39.240s\n"
          ]
        },
        {
          "name": "stderr",
          "output_type": "stream",
          "text": [
            "100%|██████████| 231/231 [00:39<00:00,  5.81it/s]\n"
          ]
        },
        {
          "name": "stdout",
          "output_type": "stream",
          "text": [
            "Epoch: 7, Train loss: 0.045, Val loss: 0.040, Train acc.: 0.273, Val acc.: 0.291, Epoch time = 39.745s\n"
          ]
        },
        {
          "name": "stderr",
          "output_type": "stream",
          "text": [
            "100%|██████████| 231/231 [00:39<00:00,  5.79it/s]\n"
          ]
        },
        {
          "name": "stdout",
          "output_type": "stream",
          "text": [
            "Epoch: 8, Train loss: 0.043, Val loss: 0.039, Train acc.: 0.279, Val acc.: 0.298, Epoch time = 39.911s\n"
          ]
        },
        {
          "name": "stderr",
          "output_type": "stream",
          "text": [
            "100%|██████████| 231/231 [00:40<00:00,  5.77it/s]\n"
          ]
        },
        {
          "name": "stdout",
          "output_type": "stream",
          "text": [
            "Epoch: 9, Train loss: 0.042, Val loss: 0.037, Train acc.: 0.284, Val acc.: 0.306, Epoch time = 40.008s\n"
          ]
        },
        {
          "name": "stderr",
          "output_type": "stream",
          "text": [
            "100%|██████████| 231/231 [00:39<00:00,  5.78it/s]\n"
          ]
        },
        {
          "name": "stdout",
          "output_type": "stream",
          "text": [
            "Epoch: 10, Train loss: 0.040, Val loss: 0.035, Train acc.: 0.289, Val acc.: 0.312, Epoch time = 39.978s\n"
          ]
        },
        {
          "name": "stderr",
          "output_type": "stream",
          "text": [
            "100%|██████████| 231/231 [00:39<00:00,  5.84it/s]\n"
          ]
        },
        {
          "name": "stdout",
          "output_type": "stream",
          "text": [
            "Epoch: 11, Train loss: 0.039, Val loss: 0.034, Train acc.: 0.300, Val acc.: 0.316, Epoch time = 39.537s\n"
          ]
        },
        {
          "name": "stderr",
          "output_type": "stream",
          "text": [
            "100%|██████████| 231/231 [00:39<00:00,  5.82it/s]\n"
          ]
        },
        {
          "name": "stdout",
          "output_type": "stream",
          "text": [
            "Epoch: 12, Train loss: 0.038, Val loss: 0.033, Train acc.: 0.302, Val acc.: 0.322, Epoch time = 39.685s\n"
          ]
        },
        {
          "name": "stderr",
          "output_type": "stream",
          "text": [
            "100%|██████████| 231/231 [00:39<00:00,  5.80it/s]\n"
          ]
        },
        {
          "name": "stdout",
          "output_type": "stream",
          "text": [
            "Epoch: 13, Train loss: 0.037, Val loss: 0.031, Train acc.: 0.304, Val acc.: 0.328, Epoch time = 39.809s\n"
          ]
        },
        {
          "name": "stderr",
          "output_type": "stream",
          "text": [
            "100%|██████████| 231/231 [00:39<00:00,  5.84it/s]\n"
          ]
        },
        {
          "name": "stdout",
          "output_type": "stream",
          "text": [
            "Epoch: 14, Train loss: 0.036, Val loss: 0.030, Train acc.: 0.310, Val acc.: 0.333, Epoch time = 39.565s\n"
          ]
        },
        {
          "name": "stderr",
          "output_type": "stream",
          "text": [
            "100%|██████████| 231/231 [00:39<00:00,  5.82it/s]\n"
          ]
        },
        {
          "name": "stdout",
          "output_type": "stream",
          "text": [
            "Epoch: 15, Train loss: 0.035, Val loss: 0.029, Train acc.: 0.315, Val acc.: 0.338, Epoch time = 39.666s\n"
          ]
        }
      ],
      "source": [
        "from timeit import default_timer as timer\n",
        "NUM_EPOCHS = 15\n",
        "train_losses = []\n",
        "train_accs = []\n",
        "val_losses = []\n",
        "val_accs = []\n",
        "\n",
        "for epoch in range(1, NUM_EPOCHS + 1):\n",
        "    start_time = timer()\n",
        "    train_loss, train_acc = train_epoch(\n",
        "        transformer, optimizer, train_dataloader)\n",
        "    train_losses += [train_loss]\n",
        "    train_accs += [train_acc]\n",
        "    end_time = timer()\n",
        "    val_loss, val_acc = evaluate(transformer, val_dataloader)\n",
        "    val_losses += [val_loss]\n",
        "    val_accs += [val_acc]\n",
        "    print((f\"Epoch: {epoch}, Train loss: {train_loss:.3f}, Val loss: {val_loss:.3f}, Train acc.: {train_acc:.3f}, Val acc.: {val_acc:.3f}, Epoch time = {(end_time - start_time):.3f}s\"))\n"
      ]
    },
    {
      "cell_type": "code",
      "execution_count": 124,
      "metadata": {
        "id": "-VgX_8j1qa7N"
      },
      "outputs": [],
      "source": [
        "VOCAB_SIZE = max(token2idx.values()) + 1  # or len(token2idx)\n",
        "EMB_SIZE = 512\n",
        "NHEAD = 8\n",
        "FFN_HID_DIM = 512\n",
        "BATCH_SIZE = 128\n",
        "NUM_ENCODER_LAYERS = 4\n",
        "NUM_DECODER_LAYERS = 4\n"
      ]
    },
    {
      "cell_type": "code",
      "execution_count": 125,
      "metadata": {
        "id": "VKbGrmtSqa7N"
      },
      "outputs": [],
      "source": [
        "transformer = Seq2SeqTransformer(NUM_ENCODER_LAYERS, NUM_DECODER_LAYERS, EMB_SIZE,\n",
        "                                 NHEAD, VOCAB_SIZE, FFN_HID_DIM)\n",
        "\n",
        "for p in transformer.parameters():\n",
        "    if p.dim() > 1:\n",
        "        nn.init.xavier_uniform_(p)\n",
        "\n",
        "transformer = transformer.to(DEVICE)\n",
        "\n",
        "loss_fn = torch.nn.CrossEntropyLoss(ignore_index=PAD_IDX)\n",
        "\n",
        "optimizer = torch.optim.Adam(\n",
        "    transformer.parameters(), lr=0.0001, betas=(0.9, 0.98), eps=1e-9)\n"
      ]
    },
    {
      "cell_type": "code",
      "execution_count": 126,
      "metadata": {
        "colab": {
          "base_uri": "https://localhost:8080/"
        },
        "id": "hZxkPxvRqiss",
        "outputId": "cb19b139-03ad-4ebd-dc2f-b7206c5ee96b"
      },
      "outputs": [
        {
          "name": "stderr",
          "output_type": "stream",
          "text": [
            "100%|██████████| 231/231 [00:24<00:00,  9.42it/s]\n"
          ]
        },
        {
          "name": "stdout",
          "output_type": "stream",
          "text": [
            "Epoch: 1, Train loss: 0.083, Val loss: 0.060, Train acc.: 0.160, Val acc.: 0.221, Epoch time = 24.528s\n"
          ]
        },
        {
          "name": "stderr",
          "output_type": "stream",
          "text": [
            "100%|██████████| 231/231 [00:24<00:00,  9.29it/s]\n"
          ]
        },
        {
          "name": "stdout",
          "output_type": "stream",
          "text": [
            "Epoch: 2, Train loss: 0.059, Val loss: 0.053, Train acc.: 0.219, Val acc.: 0.245, Epoch time = 24.871s\n"
          ]
        },
        {
          "name": "stderr",
          "output_type": "stream",
          "text": [
            "100%|██████████| 231/231 [00:24<00:00,  9.25it/s]\n"
          ]
        },
        {
          "name": "stdout",
          "output_type": "stream",
          "text": [
            "Epoch: 3, Train loss: 0.054, Val loss: 0.049, Train acc.: 0.240, Val acc.: 0.259, Epoch time = 24.976s\n"
          ]
        },
        {
          "name": "stderr",
          "output_type": "stream",
          "text": [
            "100%|██████████| 231/231 [00:24<00:00,  9.40it/s]\n"
          ]
        },
        {
          "name": "stdout",
          "output_type": "stream",
          "text": [
            "Epoch: 4, Train loss: 0.050, Val loss: 0.045, Train acc.: 0.254, Val acc.: 0.271, Epoch time = 24.591s\n"
          ]
        },
        {
          "name": "stderr",
          "output_type": "stream",
          "text": [
            "100%|██████████| 231/231 [00:25<00:00,  9.10it/s]\n"
          ]
        },
        {
          "name": "stdout",
          "output_type": "stream",
          "text": [
            "Epoch: 5, Train loss: 0.048, Val loss: 0.043, Train acc.: 0.263, Val acc.: 0.281, Epoch time = 25.405s\n"
          ]
        },
        {
          "name": "stderr",
          "output_type": "stream",
          "text": [
            "100%|██████████| 231/231 [00:24<00:00,  9.24it/s]\n"
          ]
        },
        {
          "name": "stdout",
          "output_type": "stream",
          "text": [
            "Epoch: 6, Train loss: 0.046, Val loss: 0.041, Train acc.: 0.269, Val acc.: 0.288, Epoch time = 24.997s\n"
          ]
        },
        {
          "name": "stderr",
          "output_type": "stream",
          "text": [
            "100%|██████████| 231/231 [00:24<00:00,  9.28it/s]\n"
          ]
        },
        {
          "name": "stdout",
          "output_type": "stream",
          "text": [
            "Epoch: 7, Train loss: 0.044, Val loss: 0.039, Train acc.: 0.275, Val acc.: 0.296, Epoch time = 24.904s\n"
          ]
        },
        {
          "name": "stderr",
          "output_type": "stream",
          "text": [
            "100%|██████████| 231/231 [00:24<00:00,  9.29it/s]\n"
          ]
        },
        {
          "name": "stdout",
          "output_type": "stream",
          "text": [
            "Epoch: 8, Train loss: 0.042, Val loss: 0.038, Train acc.: 0.282, Val acc.: 0.301, Epoch time = 24.888s\n"
          ]
        },
        {
          "name": "stderr",
          "output_type": "stream",
          "text": [
            "100%|██████████| 231/231 [00:24<00:00,  9.35it/s]\n"
          ]
        },
        {
          "name": "stdout",
          "output_type": "stream",
          "text": [
            "Epoch: 9, Train loss: 0.041, Val loss: 0.036, Train acc.: 0.291, Val acc.: 0.308, Epoch time = 24.720s\n"
          ]
        },
        {
          "name": "stderr",
          "output_type": "stream",
          "text": [
            "100%|██████████| 231/231 [00:25<00:00,  9.20it/s]\n"
          ]
        },
        {
          "name": "stdout",
          "output_type": "stream",
          "text": [
            "Epoch: 10, Train loss: 0.040, Val loss: 0.035, Train acc.: 0.290, Val acc.: 0.314, Epoch time = 25.118s\n"
          ]
        },
        {
          "name": "stderr",
          "output_type": "stream",
          "text": [
            "100%|██████████| 231/231 [00:24<00:00,  9.29it/s]\n"
          ]
        },
        {
          "name": "stdout",
          "output_type": "stream",
          "text": [
            "Epoch: 11, Train loss: 0.038, Val loss: 0.033, Train acc.: 0.298, Val acc.: 0.321, Epoch time = 24.874s\n"
          ]
        },
        {
          "name": "stderr",
          "output_type": "stream",
          "text": [
            "100%|██████████| 231/231 [00:24<00:00,  9.25it/s]\n"
          ]
        },
        {
          "name": "stdout",
          "output_type": "stream",
          "text": [
            "Epoch: 12, Train loss: 0.037, Val loss: 0.032, Train acc.: 0.303, Val acc.: 0.326, Epoch time = 24.982s\n"
          ]
        },
        {
          "name": "stderr",
          "output_type": "stream",
          "text": [
            "100%|██████████| 231/231 [00:24<00:00,  9.32it/s]\n"
          ]
        },
        {
          "name": "stdout",
          "output_type": "stream",
          "text": [
            "Epoch: 13, Train loss: 0.036, Val loss: 0.030, Train acc.: 0.309, Val acc.: 0.333, Epoch time = 24.800s\n"
          ]
        },
        {
          "name": "stderr",
          "output_type": "stream",
          "text": [
            "100%|██████████| 231/231 [00:24<00:00,  9.27it/s]\n"
          ]
        },
        {
          "name": "stdout",
          "output_type": "stream",
          "text": [
            "Epoch: 14, Train loss: 0.035, Val loss: 0.029, Train acc.: 0.311, Val acc.: 0.339, Epoch time = 24.941s\n"
          ]
        },
        {
          "name": "stderr",
          "output_type": "stream",
          "text": [
            "100%|██████████| 231/231 [00:24<00:00,  9.33it/s]\n"
          ]
        },
        {
          "name": "stdout",
          "output_type": "stream",
          "text": [
            "Epoch: 15, Train loss: 0.034, Val loss: 0.028, Train acc.: 0.319, Val acc.: 0.344, Epoch time = 24.779s\n"
          ]
        },
        {
          "name": "stderr",
          "output_type": "stream",
          "text": [
            "100%|██████████| 231/231 [00:24<00:00,  9.35it/s]\n"
          ]
        },
        {
          "name": "stdout",
          "output_type": "stream",
          "text": [
            "Epoch: 16, Train loss: 0.033, Val loss: 0.027, Train acc.: 0.323, Val acc.: 0.348, Epoch time = 24.723s\n"
          ]
        },
        {
          "name": "stderr",
          "output_type": "stream",
          "text": [
            "100%|██████████| 231/231 [00:24<00:00,  9.26it/s]\n"
          ]
        },
        {
          "name": "stdout",
          "output_type": "stream",
          "text": [
            "Epoch: 17, Train loss: 0.032, Val loss: 0.025, Train acc.: 0.325, Val acc.: 0.354, Epoch time = 24.962s\n"
          ]
        },
        {
          "name": "stderr",
          "output_type": "stream",
          "text": [
            "100%|██████████| 231/231 [00:24<00:00,  9.32it/s]\n"
          ]
        },
        {
          "name": "stdout",
          "output_type": "stream",
          "text": [
            "Epoch: 18, Train loss: 0.031, Val loss: 0.024, Train acc.: 0.331, Val acc.: 0.359, Epoch time = 24.782s\n"
          ]
        },
        {
          "name": "stderr",
          "output_type": "stream",
          "text": [
            "100%|██████████| 231/231 [00:24<00:00,  9.34it/s]\n"
          ]
        },
        {
          "name": "stdout",
          "output_type": "stream",
          "text": [
            "Epoch: 19, Train loss: 0.030, Val loss: 0.023, Train acc.: 0.335, Val acc.: 0.363, Epoch time = 24.746s\n"
          ]
        },
        {
          "name": "stderr",
          "output_type": "stream",
          "text": [
            "100%|██████████| 231/231 [00:24<00:00,  9.33it/s]\n"
          ]
        },
        {
          "name": "stdout",
          "output_type": "stream",
          "text": [
            "Epoch: 20, Train loss: 0.029, Val loss: 0.022, Train acc.: 0.338, Val acc.: 0.368, Epoch time = 24.780s\n"
          ]
        },
        {
          "name": "stderr",
          "output_type": "stream",
          "text": [
            "100%|██████████| 231/231 [00:25<00:00,  9.21it/s]\n"
          ]
        },
        {
          "name": "stdout",
          "output_type": "stream",
          "text": [
            "Epoch: 21, Train loss: 0.028, Val loss: 0.021, Train acc.: 0.338, Val acc.: 0.374, Epoch time = 25.093s\n"
          ]
        },
        {
          "name": "stderr",
          "output_type": "stream",
          "text": [
            "100%|██████████| 231/231 [00:24<00:00,  9.26it/s]\n"
          ]
        },
        {
          "name": "stdout",
          "output_type": "stream",
          "text": [
            "Epoch: 22, Train loss: 0.027, Val loss: 0.020, Train acc.: 0.342, Val acc.: 0.376, Epoch time = 24.955s\n"
          ]
        },
        {
          "name": "stderr",
          "output_type": "stream",
          "text": [
            "100%|██████████| 231/231 [00:24<00:00,  9.30it/s]\n"
          ]
        },
        {
          "name": "stdout",
          "output_type": "stream",
          "text": [
            "Epoch: 23, Train loss: 0.026, Val loss: 0.019, Train acc.: 0.347, Val acc.: 0.382, Epoch time = 24.862s\n"
          ]
        },
        {
          "name": "stderr",
          "output_type": "stream",
          "text": [
            "100%|██████████| 231/231 [00:24<00:00,  9.26it/s]\n"
          ]
        },
        {
          "name": "stdout",
          "output_type": "stream",
          "text": [
            "Epoch: 24, Train loss: 0.026, Val loss: 0.018, Train acc.: 0.351, Val acc.: 0.386, Epoch time = 24.970s\n"
          ]
        },
        {
          "name": "stderr",
          "output_type": "stream",
          "text": [
            "100%|██████████| 231/231 [00:24<00:00,  9.28it/s]\n"
          ]
        },
        {
          "name": "stdout",
          "output_type": "stream",
          "text": [
            "Epoch: 25, Train loss: 0.025, Val loss: 0.017, Train acc.: 0.352, Val acc.: 0.391, Epoch time = 24.899s\n"
          ]
        },
        {
          "name": "stderr",
          "output_type": "stream",
          "text": [
            "100%|██████████| 231/231 [00:24<00:00,  9.37it/s]\n"
          ]
        },
        {
          "name": "stdout",
          "output_type": "stream",
          "text": [
            "Epoch: 26, Train loss: 0.024, Val loss: 0.016, Train acc.: 0.361, Val acc.: 0.394, Epoch time = 24.672s\n"
          ]
        },
        {
          "name": "stderr",
          "output_type": "stream",
          "text": [
            "100%|██████████| 231/231 [00:24<00:00,  9.25it/s]\n"
          ]
        },
        {
          "name": "stdout",
          "output_type": "stream",
          "text": [
            "Epoch: 27, Train loss: 0.023, Val loss: 0.015, Train acc.: 0.359, Val acc.: 0.398, Epoch time = 24.983s\n"
          ]
        },
        {
          "name": "stderr",
          "output_type": "stream",
          "text": [
            "100%|██████████| 231/231 [00:24<00:00,  9.29it/s]\n"
          ]
        },
        {
          "name": "stdout",
          "output_type": "stream",
          "text": [
            "Epoch: 28, Train loss: 0.023, Val loss: 0.014, Train acc.: 0.362, Val acc.: 0.401, Epoch time = 24.862s\n"
          ]
        },
        {
          "name": "stderr",
          "output_type": "stream",
          "text": [
            "100%|██████████| 231/231 [00:24<00:00,  9.47it/s]\n"
          ]
        },
        {
          "name": "stdout",
          "output_type": "stream",
          "text": [
            "Epoch: 29, Train loss: 0.022, Val loss: 0.013, Train acc.: 0.372, Val acc.: 0.406, Epoch time = 24.407s\n"
          ]
        },
        {
          "name": "stderr",
          "output_type": "stream",
          "text": [
            "100%|██████████| 231/231 [00:24<00:00,  9.34it/s]\n"
          ]
        },
        {
          "name": "stdout",
          "output_type": "stream",
          "text": [
            "Epoch: 30, Train loss: 0.021, Val loss: 0.013, Train acc.: 0.372, Val acc.: 0.409, Epoch time = 24.737s\n"
          ]
        },
        {
          "name": "stderr",
          "output_type": "stream",
          "text": [
            "100%|██████████| 231/231 [00:24<00:00,  9.28it/s]\n"
          ]
        },
        {
          "name": "stdout",
          "output_type": "stream",
          "text": [
            "Epoch: 31, Train loss: 0.020, Val loss: 0.012, Train acc.: 0.373, Val acc.: 0.413, Epoch time = 24.909s\n"
          ]
        },
        {
          "name": "stderr",
          "output_type": "stream",
          "text": [
            "100%|██████████| 231/231 [00:24<00:00,  9.40it/s]\n"
          ]
        },
        {
          "name": "stdout",
          "output_type": "stream",
          "text": [
            "Epoch: 32, Train loss: 0.020, Val loss: 0.011, Train acc.: 0.378, Val acc.: 0.416, Epoch time = 24.578s\n"
          ]
        },
        {
          "name": "stderr",
          "output_type": "stream",
          "text": [
            "100%|██████████| 231/231 [00:24<00:00,  9.32it/s]\n"
          ]
        },
        {
          "name": "stdout",
          "output_type": "stream",
          "text": [
            "Epoch: 33, Train loss: 0.019, Val loss: 0.010, Train acc.: 0.380, Val acc.: 0.418, Epoch time = 24.789s\n"
          ]
        },
        {
          "name": "stderr",
          "output_type": "stream",
          "text": [
            "100%|██████████| 231/231 [00:25<00:00,  9.21it/s]\n"
          ]
        },
        {
          "name": "stdout",
          "output_type": "stream",
          "text": [
            "Epoch: 34, Train loss: 0.018, Val loss: 0.010, Train acc.: 0.376, Val acc.: 0.422, Epoch time = 25.093s\n"
          ]
        },
        {
          "name": "stderr",
          "output_type": "stream",
          "text": [
            "100%|██████████| 231/231 [00:24<00:00,  9.38it/s]\n"
          ]
        },
        {
          "name": "stdout",
          "output_type": "stream",
          "text": [
            "Epoch: 35, Train loss: 0.018, Val loss: 0.009, Train acc.: 0.389, Val acc.: 0.425, Epoch time = 24.639s\n"
          ]
        },
        {
          "name": "stderr",
          "output_type": "stream",
          "text": [
            "100%|██████████| 231/231 [00:24<00:00,  9.26it/s]\n"
          ]
        },
        {
          "name": "stdout",
          "output_type": "stream",
          "text": [
            "Epoch: 36, Train loss: 0.017, Val loss: 0.009, Train acc.: 0.384, Val acc.: 0.427, Epoch time = 24.961s\n"
          ]
        },
        {
          "name": "stderr",
          "output_type": "stream",
          "text": [
            "100%|██████████| 231/231 [00:24<00:00,  9.32it/s]\n"
          ]
        },
        {
          "name": "stdout",
          "output_type": "stream",
          "text": [
            "Epoch: 37, Train loss: 0.017, Val loss: 0.008, Train acc.: 0.388, Val acc.: 0.429, Epoch time = 24.799s\n"
          ]
        },
        {
          "name": "stderr",
          "output_type": "stream",
          "text": [
            "100%|██████████| 231/231 [00:24<00:00,  9.37it/s]\n"
          ]
        },
        {
          "name": "stdout",
          "output_type": "stream",
          "text": [
            "Epoch: 38, Train loss: 0.016, Val loss: 0.007, Train acc.: 0.391, Val acc.: 0.432, Epoch time = 24.657s\n"
          ]
        },
        {
          "name": "stderr",
          "output_type": "stream",
          "text": [
            "100%|██████████| 231/231 [00:24<00:00,  9.31it/s]\n"
          ]
        },
        {
          "name": "stdout",
          "output_type": "stream",
          "text": [
            "Epoch: 39, Train loss: 0.016, Val loss: 0.007, Train acc.: 0.393, Val acc.: 0.434, Epoch time = 24.822s\n"
          ]
        },
        {
          "name": "stderr",
          "output_type": "stream",
          "text": [
            "100%|██████████| 231/231 [00:24<00:00,  9.34it/s]\n"
          ]
        },
        {
          "name": "stdout",
          "output_type": "stream",
          "text": [
            "Epoch: 40, Train loss: 0.015, Val loss: 0.007, Train acc.: 0.396, Val acc.: 0.436, Epoch time = 24.738s\n"
          ]
        },
        {
          "name": "stderr",
          "output_type": "stream",
          "text": [
            "100%|██████████| 231/231 [00:24<00:00,  9.28it/s]\n"
          ]
        },
        {
          "name": "stdout",
          "output_type": "stream",
          "text": [
            "Epoch: 41, Train loss: 0.014, Val loss: 0.006, Train acc.: 0.395, Val acc.: 0.438, Epoch time = 24.896s\n"
          ]
        },
        {
          "name": "stderr",
          "output_type": "stream",
          "text": [
            "100%|██████████| 231/231 [00:24<00:00,  9.24it/s]\n"
          ]
        },
        {
          "name": "stdout",
          "output_type": "stream",
          "text": [
            "Epoch: 42, Train loss: 0.014, Val loss: 0.006, Train acc.: 0.397, Val acc.: 0.440, Epoch time = 25.002s\n"
          ]
        },
        {
          "name": "stderr",
          "output_type": "stream",
          "text": [
            "100%|██████████| 231/231 [00:25<00:00,  9.22it/s]\n"
          ]
        },
        {
          "name": "stdout",
          "output_type": "stream",
          "text": [
            "Epoch: 43, Train loss: 0.014, Val loss: 0.005, Train acc.: 0.397, Val acc.: 0.442, Epoch time = 25.082s\n"
          ]
        },
        {
          "name": "stderr",
          "output_type": "stream",
          "text": [
            "100%|██████████| 231/231 [00:24<00:00,  9.28it/s]\n"
          ]
        },
        {
          "name": "stdout",
          "output_type": "stream",
          "text": [
            "Epoch: 44, Train loss: 0.013, Val loss: 0.005, Train acc.: 0.404, Val acc.: 0.443, Epoch time = 24.908s\n"
          ]
        },
        {
          "name": "stderr",
          "output_type": "stream",
          "text": [
            "100%|██████████| 231/231 [00:24<00:00,  9.32it/s]\n"
          ]
        },
        {
          "name": "stdout",
          "output_type": "stream",
          "text": [
            "Epoch: 45, Train loss: 0.013, Val loss: 0.005, Train acc.: 0.406, Val acc.: 0.445, Epoch time = 24.800s\n"
          ]
        },
        {
          "name": "stderr",
          "output_type": "stream",
          "text": [
            "100%|██████████| 231/231 [00:24<00:00,  9.34it/s]\n"
          ]
        },
        {
          "name": "stdout",
          "output_type": "stream",
          "text": [
            "Epoch: 46, Train loss: 0.012, Val loss: 0.004, Train acc.: 0.408, Val acc.: 0.446, Epoch time = 24.742s\n"
          ]
        },
        {
          "name": "stderr",
          "output_type": "stream",
          "text": [
            "100%|██████████| 231/231 [00:24<00:00,  9.32it/s]\n"
          ]
        },
        {
          "name": "stdout",
          "output_type": "stream",
          "text": [
            "Epoch: 47, Train loss: 0.012, Val loss: 0.004, Train acc.: 0.410, Val acc.: 0.448, Epoch time = 24.793s\n"
          ]
        },
        {
          "name": "stderr",
          "output_type": "stream",
          "text": [
            "100%|██████████| 231/231 [00:24<00:00,  9.40it/s]\n"
          ]
        },
        {
          "name": "stdout",
          "output_type": "stream",
          "text": [
            "Epoch: 48, Train loss: 0.012, Val loss: 0.004, Train acc.: 0.416, Val acc.: 0.449, Epoch time = 24.579s\n"
          ]
        },
        {
          "name": "stderr",
          "output_type": "stream",
          "text": [
            "100%|██████████| 231/231 [00:24<00:00,  9.29it/s]\n"
          ]
        },
        {
          "name": "stdout",
          "output_type": "stream",
          "text": [
            "Epoch: 49, Train loss: 0.011, Val loss: 0.004, Train acc.: 0.411, Val acc.: 0.449, Epoch time = 24.878s\n"
          ]
        },
        {
          "name": "stderr",
          "output_type": "stream",
          "text": [
            "100%|██████████| 231/231 [00:24<00:00,  9.28it/s]\n"
          ]
        },
        {
          "name": "stdout",
          "output_type": "stream",
          "text": [
            "Epoch: 50, Train loss: 0.011, Val loss: 0.003, Train acc.: 0.413, Val acc.: 0.451, Epoch time = 24.912s\n"
          ]
        }
      ],
      "source": [
        "from timeit import default_timer as timer\n",
        "NUM_EPOCHS = 50\n",
        "train_losses = []\n",
        "train_accs = []\n",
        "val_losses = []\n",
        "val_accs = []\n",
        "\n",
        "for epoch in range(1, NUM_EPOCHS + 1):\n",
        "    start_time = timer()\n",
        "    train_loss, train_acc = train_epoch(\n",
        "        transformer, optimizer, train_dataloader)\n",
        "    train_losses += [train_loss]\n",
        "    train_accs += [train_acc]\n",
        "    end_time = timer()\n",
        "    val_loss, val_acc = evaluate(transformer, val_dataloader)\n",
        "    val_losses += [val_loss]\n",
        "    val_accs += [val_acc]\n",
        "    print((f\"Epoch: {epoch}, Train loss: {train_loss:.3f}, Val loss: {val_loss:.3f}, Train acc.: {train_acc:.3f}, Val acc.: {val_acc:.3f}, Epoch time = {(end_time - start_time):.3f}s\"))\n"
      ]
    },
    {
      "cell_type": "code",
      "execution_count": 127,
      "metadata": {
        "id": "nBTReCFNSHSm"
      },
      "outputs": [],
      "source": [
        "epochs = range(NUM_EPOCHS)\n"
      ]
    },
    {
      "cell_type": "code",
      "execution_count": 128,
      "metadata": {
        "colab": {
          "base_uri": "https://localhost:8080/",
          "height": 472
        },
        "id": "Kl2LmMnJSHSm",
        "outputId": "92ebc7c9-3c3a-4992-fd88-0862b5d87def"
      },
      "outputs": [
        {
          "data": {
            "image/png": "[encoded data removed]",
            "text/plain": [
              "<Figure size 640x480 with 1 Axes>"
            ]
          },
          "metadata": {},
          "output_type": "display_data"
        }
      ],
      "source": [
        "plt.plot(epochs, train_losses, 'bo', label='Training loss')\n",
        "plt.plot(epochs, val_losses, 'b', label='Validation loss')\n",
        "plt.title('Training and validation loss')\n",
        "plt.xlabel('Epochs')\n",
        "plt.ylabel('Loss')\n",
        "plt.legend()\n",
        "plt.show()\n"
      ]
    },
    {
      "cell_type": "code",
      "execution_count": 129,
      "metadata": {
        "colab": {
          "base_uri": "https://localhost:8080/",
          "height": 472
        },
        "id": "HonvE-aOSHSm",
        "outputId": "1414e314-a295-44c9-a7c0-266e02aae31b"
      },
      "outputs": [
        {
          "data": {
            "image/png": "[encoded data removed]",
            "text/plain": [
              "<Figure size 640x480 with 1 Axes>"
            ]
          },
          "metadata": {},
          "output_type": "display_data"
        }
      ],
      "source": [
        "plt.plot(epochs, train_accs, 'bo', label='Training acc')\n",
        "plt.plot(epochs, val_accs, 'b', label='Validation acc')\n",
        "plt.title('Training and validation accuracy')\n",
        "plt.xlabel('Epochs')\n",
        "plt.ylabel('Accuracy')\n",
        "plt.show()\n"
      ]
    },
    {
      "cell_type": "markdown",
      "metadata": {
        "id": "IwHHtAHaSHSm"
      },
      "source": [
        "## Application"
      ]
    },
    {
      "cell_type": "code",
      "execution_count": 136,
      "metadata": {
        "colab": {
          "base_uri": "https://localhost:8080/",
          "height": 36
        },
        "id": "CJa7khwmv4bH",
        "outputId": "8c3df0eb-85c2-48e0-8762-4cf5f1540e29"
      },
      "outputs": [
        {
          "data": {
            "application/vnd.google.colaboratory.intrinsic+json": {
              "type": "string"
            },
            "text/plain": [
              "'Tên người tên trong là gì?'"
            ]
          },
          "execution_count": 136,
          "metadata": {},
          "output_type": "execute_result"
        }
      ],
      "source": [
        "tgt_sent = translate(transformer, \"What's your name?\")\n",
        "tgt_sent\n"
      ]
    },
    {
      "cell_type": "code",
      "execution_count": 137,
      "metadata": {
        "colab": {
          "base_uri": "https://localhost:8080/",
          "height": 36
        },
        "id": "a7U-yrFCv4bI",
        "outputId": "8c827741-c56c-4d35-ec81-c2390f5c1ae6"
      },
      "outputs": [
        {
          "data": {
            "application/vnd.google.colaboratory.intrinsic+json": {
              "type": "string"
            },
            "text/plain": [
              "'Ý bạn là sao?'"
            ]
          },
          "execution_count": 137,
          "metadata": {},
          "output_type": "execute_result"
        }
      ],
      "source": [
        "tgt_sent = translate(\n",
        "    transformer, \"What are you doing?\")\n",
        "tgt_sent\n"
      ]
    },
    {
      "cell_type": "code",
      "execution_count": 138,
      "metadata": {
        "colab": {
          "base_uri": "https://localhost:8080/",
          "height": 36
        },
        "id": "UKJh-ME3v4bJ",
        "outputId": "3dce220a-f0a0-4af9-b7ee-ad6e158f19ba"
      },
      "outputs": [
        {
          "data": {
            "application/vnd.google.colaboratory.intrinsic+json": {
              "type": "string"
            },
            "text/plain": [
              "'Mai sẽ thả phiện để xem phim.'"
            ]
          },
          "execution_count": 138,
          "metadata": {},
          "output_type": "execute_result"
        }
      ],
      "source": [
        "tgt_sent = translate(transformer, \"We will travel tomorrow\")\n",
        "tgt_sent"
      ]
    },
    {
      "cell_type": "code",
      "execution_count": 139,
      "metadata": {
        "colab": {
          "base_uri": "https://localhost:8080/",
          "height": 36
        },
        "id": "78Cef4DOv4bJ",
        "outputId": "bd0b77c5-ad04-4959-dbb1-5587874bb0d1"
      },
      "outputs": [
        {
          "data": {
            "application/vnd.google.colaboratory.intrinsic+json": {
              "type": "string"
            },
            "text/plain": [
              "'Tôi sẽ đợi ở đây.'"
            ]
          },
          "execution_count": 139,
          "metadata": {},
          "output_type": "execute_result"
        }
      ],
      "source": [
        "tgt_sent = translate(transformer, \"I will wait here.\")\n",
        "tgt_sent"
      ]
    },
    {
      "cell_type": "code",
      "execution_count": 140,
      "metadata": {
        "colab": {
          "base_uri": "https://localhost:8080/",
          "height": 36
        },
        "id": "SD_PICH1v4bJ",
        "outputId": "00f075ff-7a54-4cfd-a53c-efc412272cb7"
      },
      "outputs": [
        {
          "data": {
            "application/vnd.google.colaboratory.intrinsic+json": {
              "type": "string"
            },
            "text/plain": [
              "'Tôi sẽ nói với bạn sẽ giúp đỡ cơ nhà.'"
            ]
          },
          "execution_count": 140,
          "metadata": {},
          "output_type": "execute_result"
        }
      ],
      "source": [
        "tgt_sent = translate(transformer, \"I will help you with that.\")\n",
        "tgt_sent"
      ]
    },
    {
      "cell_type": "markdown",
      "metadata": {
        "id": "CXvsl9OfGg8Z"
      },
      "source": [
        "## Save model"
      ]
    },
    {
      "cell_type": "code",
      "execution_count": 141,
      "metadata": {
        "id": "4pHuEDMLGg8Z"
      },
      "outputs": [],
      "source": [
        "\n",
        "torch.save(transformer, 'simple_params_v4.pth')\n"
      ]
    },
    {
      "cell_type": "markdown",
      "metadata": {
        "id": "TyN55L1IGg8Z"
      },
      "source": [
        "## Report\n",
        "In your report, you will first summarize the paper _Attention Is All You Need_ (https://arxiv.org/abs/1706.03762) in about half a page. You will then describe the encoder-decoder architecture in the notebook.\n",
        "\n",
        "Please follow the outline below and use the same section names as those in bold:\n",
        "- __Dataset__: Describe your dataset;\n",
        "- __Encoder-Decoder__: Describe the overall architecture;\n",
        "- __Embeddings__: Explain the embeddings, positional encodings and character embeddings\n",
        "- __Self-Attention__: Explain self-attention\n",
        "- __Decoder__: Describe the decoder\n",
        "- __Inference__: Describe the inference\n",
        "- __Experiments and Results__: Describe and comment your experiments and results. You should try at least two sets of parameters (e.g. number of heads, number of layers, number of epochs, etc.)"
      ]
    },
    {
      "cell_type": "markdown",
      "metadata": {
        "id": "KtU0DC_9Gg8a"
      },
      "source": []
    }
  ],
  "metadata": {
    "accelerator": "GPU",
    "colab": {
      "gpuType": "T4",
      "provenance": []
    },
    "kernelspec": {
      "display_name": "Python 3",
      "name": "python3"
    },
    "language_info": {
      "codemirror_mode": {
        "name": "ipython",
        "version": 3
      },
      "file_extension": ".py",
      "mimetype": "text/x-python",
      "name": "python",
      "nbconvert_exporter": "python",
      "pygments_lexer": "ipython3",
      "version": "3.11.5"
    },
    "vscode": {
      "interpreter": {
        "hash": "b97b11a820675205aae8f1d7f2a3f22bbd3a2c30189f44042310baf5b4cd1987"
      }
    }
  },
  "nbformat": 4,
  "nbformat_minor": 0
}
