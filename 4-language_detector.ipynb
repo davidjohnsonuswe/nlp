{
 "cells": [
  {
   "cell_type": "markdown",
   "metadata": {},
   "source": [
    "# Assignment #3: A simple language classifier with scikit-learn and PyTorch"
   ]
  },
  {
   "cell_type": "markdown",
   "metadata": {},
   "source": [
    "Author: Pierre Nugues\n",
    "\n",
    "Student: Van Duy Dang"
   ]
  },
  {
   "cell_type": "markdown",
   "metadata": {},
   "source": [
    "## Objectives"
   ]
  },
  {
   "cell_type": "markdown",
   "metadata": {},
   "source": [
    "In this assignment, you will implement a language detector inspired and simplified from Google's _Compact language detector_, version 3 (CLD3): https://github.com/google/cld3. CLD3 is written in C++ and its code is available from GitHub. The objectives of the assignment are to:\n",
    "* Write a program to classify languages\n",
    "* Use neural networks with sklearn and PyTorch\n",
    "* Know what a classifier is\n",
    "* Write a short report of 1 to 2 pages to describe your program. You will notably comment the performance you obtained and how you could improve it."
   ]
  },
  {
   "cell_type": "markdown",
   "metadata": {},
   "source": [
    "## Description"
   ]
  },
  {
   "cell_type": "markdown",
   "metadata": {},
   "source": [
    "### System Overview"
   ]
  },
  {
   "cell_type": "markdown",
   "metadata": {},
   "source": [
    "Read the GitHub description of CLD3, https://github.com/google/cld3, (_Model_ section). In your individual report you will:\n",
    "1. Summarize the system in two or three sentences;\n",
    "2. Outline the CLD3 overall architecture in a figure. Use building blocks only and do not specify the parameters."
   ]
  },
  {
   "cell_type": "markdown",
   "metadata": {},
   "source": [
    "## Imports"
   ]
  },
  {
   "cell_type": "code",
   "execution_count": 1,
   "metadata": {},
   "outputs": [],
   "source": [
    "import bz2\n",
    "import json\n",
    "import os\n",
    "import numpy as np\n",
    "import requests\n",
    "import sys\n",
    "from sklearn.neural_network import MLPClassifier\n",
    "from sklearn.feature_extraction import DictVectorizer\n",
    "from sklearn.metrics import accuracy_score\n",
    "from sklearn.metrics import f1_score, classification_report\n",
    "from sklearn.metrics import confusion_matrix\n",
    "import random\n",
    "import torch\n",
    "import torch.nn as nn\n",
    "import torch.nn.functional as F\n",
    "import hashlib\n",
    "from tqdm import tqdm"
   ]
  },
  {
   "cell_type": "code",
   "execution_count": 2,
   "metadata": {},
   "outputs": [
    {
     "data": {
      "text/plain": [
       "<torch._C.Generator at 0x2a9f6a02510>"
      ]
     },
     "execution_count": 2,
     "metadata": {},
     "output_type": "execute_result"
    }
   ],
   "source": [
    "random.seed(1234)\n",
    "np.random.seed(1234)\n",
    "torch.manual_seed(1234)"
   ]
  },
  {
   "cell_type": "markdown",
   "metadata": {},
   "source": [
    "## Dataset"
   ]
  },
  {
   "cell_type": "markdown",
   "metadata": {},
   "source": [
    "As dataset, we will use Tatoeba, https://tatoeba.org/eng/downloads. It consists of more than 8 million short texts in 347 languages and it is available in one file called `sentences.csv`.\n",
    "\n",
    "The dataset is structured this way: There is one text per line, where each line consists of the three following fields separated by tabulations and ended by a carriage return:\n",
    "```\n",
    "sentence id [tab] language code [tab] text [cr]\n",
    "```\n",
    "Each text (sentence) has a unique id and has a language code that follows the ISO 639-3 standard (see below). "
   ]
  },
  {
   "cell_type": "markdown",
   "metadata": {},
   "source": [
    "### Scope of the lab"
   ]
  },
  {
   "cell_type": "markdown",
   "metadata": {},
   "source": [
    "In this lab, you will consider six languages only: French (fra), Japanese (jpn), Chinese (cmn), English (eng), Swedish (swe), and Danish (dan). Below is an excerpt of the Tatoeba dataset limited to three languages: \n",
    "\n",
    "```\n",
    "1276    eng     Let's try something.\n",
    "1277    eng     I have to go to sleep.\n",
    "1280    eng     Today is June 18th and it is Muiriel's birthday!\n",
    "...\n",
    "1115    fra     Lorsqu'il a demandé qui avait cassé la fenêtre, tous les garçons ont pris un air innocent.\n",
    "1279    fra     Je ne supporte pas ce type.\n",
    "1441    fra     Pour une fois dans ma vie je fais un bon geste... Et ça ne sert à rien.\n",
    "...\n",
    "337413  swe     Vi trodde att det var ett flygande tefat.\n",
    "341910  swe     Detta är huset jag bodde i när jag var barn.\n",
    "341938  swe     Vi hade roligt på stranden igår.\n",
    "...\n",
    "```\n",
    "Tatoeba is updated continuously. The examples from this dataset come from a corpus your instructor downloaded on September 23, 2021."
   ]
  },
  {
   "cell_type": "markdown",
   "metadata": {},
   "source": [
    "### Understanding the ${X}$ matrix (feature matrix)"
   ]
  },
  {
   "cell_type": "markdown",
   "metadata": {},
   "source": [
    "You will now investigate the CLD3 features:\n",
    " *  What are the features CLD3 extracts from each text?\n",
    " * Create manually a simplified ${X}$ matrix where you will represent the 9 texts with CLD3 features. You will use a restricted set of features: You will only consider the letters _a_, _b_, and _n_ and the bigrams _an_, _ba_, and _na_. You will ignore the the rest of letters and bigrams as well as the trigrams. Your matrix will have 9 rows and 6 columns, each column will contain these counts: `[#a, #b, #n, #an, #ba, #na]`.\n",
    "\n",
    "The CLD3's original description uses relative frequencies (counts of a letter divided by the total counts of letters in the text). Here, you will use the raw counts. To help you, your instructor filled the fourth row of the matrix corresponding to the first text in French. Fill in the rest. You will __include this matrix in your report__. "
   ]
  },
  {
   "cell_type": "markdown",
   "metadata": {},
   "source": [
    "$\\mathbf{X} =\n",
    "\\begin{bmatrix}\n",
    "-& -& -& -&-& -\\\\\n",
    "-& -& -& -&-& -\\\\\n",
    "-& -& -& -&-& -\\\\\n",
    "8& 0& 8& 1&0&0\\\\\n",
    "-& -& -& -&-& -\\\\\n",
    "-& -& -& -&-& -\\\\\n",
    "-& -& -& -&-& -\\\\\n",
    "-& -& -& -&-& -\\\\\n",
    "-& -& -& -&-& -\\\\\n",
    "\\end{bmatrix}$\n",
    "; $\\mathbf{y} =\n",
    "\\begin{bmatrix}\n",
    "     \\text{eng} \\\\\n",
    "     \\text{eng}\\\\\n",
    "     \\text{eng}\\\\\n",
    "    \\text{fra}\\\\\n",
    "   \\text{fra}  \\\\\n",
    "     \\text{fra}\\\\\n",
    "    \\text{swe}\\\\\n",
    " \\text{swe}   \\\\\n",
    " \\text{swe}   \n",
    "\\end{bmatrix}$"
   ]
  },
  {
   "cell_type": "markdown",
   "metadata": {},
   "source": [
    "To help you check your counts, you can use the `str.count()` function"
   ]
  },
  {
   "cell_type": "code",
   "execution_count": 3,
   "metadata": {},
   "outputs": [],
   "source": [
    "example_ngrams = ['a', 'b', 'n', 'an', 'ba', 'na']"
   ]
  },
  {
   "cell_type": "code",
   "execution_count": 4,
   "metadata": {},
   "outputs": [
    {
     "data": {
      "text/plain": [
       "8"
      ]
     },
     "execution_count": 4,
     "metadata": {},
     "output_type": "execute_result"
    }
   ],
   "source": [
    "\"\"\"Lorsqu'il a demandé qui avait cassé la fenêtre, tous les garçons ont pris un air innocent.\"\"\".count('a')"
   ]
  },
  {
   "cell_type": "code",
   "execution_count": 5,
   "metadata": {},
   "outputs": [
    {
     "data": {
      "text/plain": [
       "1"
      ]
     },
     "execution_count": 5,
     "metadata": {},
     "output_type": "execute_result"
    }
   ],
   "source": [
    "\"\"\"Lorsqu'il a demandé qui avait cassé la fenêtre, tous les garçons ont pris un air innocent.\"\"\".count('an')"
   ]
  },
  {
   "cell_type": "code",
   "execution_count": 6,
   "metadata": {},
   "outputs": [
    {
     "data": {
      "text/plain": [
       "[8, 0, 8, 1, 0, 0]"
      ]
     },
     "execution_count": 6,
     "metadata": {},
     "output_type": "execute_result"
    }
   ],
   "source": [
    "my_string = \"\"\"Lorsqu'il a demandé qui avait cassé la fenêtre, tous les garçons ont pris un air innocent.\"\"\"\n",
    "row = []\n",
    "for ngram in example_ngrams:\n",
    "    row += [my_string.count(ngram)]\n",
    "row"
   ]
  },
  {
   "cell_type": "code",
   "execution_count": 7,
   "metadata": {},
   "outputs": [
    {
     "data": {
      "text/plain": [
       "[[0, 0, 1, 0, 0, 0],\n",
       " [1, 0, 0, 0, 0, 0],\n",
       " [3, 1, 2, 1, 0, 0],\n",
       " [8, 0, 8, 1, 0, 0],\n",
       " [1, 0, 1, 0, 0, 0],\n",
       " [4, 1, 6, 1, 0, 0],\n",
       " [4, 0, 1, 1, 0, 0],\n",
       " [5, 2, 2, 0, 1, 0],\n",
       " [2, 0, 2, 1, 0, 0]]"
      ]
     },
     "execution_count": 7,
     "metadata": {},
     "output_type": "execute_result"
    }
   ],
   "source": [
    "my_strings = [\"Let's try something.\",\n",
    "\"I have to go to sleep.\",\n",
    "\"Today is June 18th and it is Muiriel's birthday!\",\n",
    "\"Lorsqu'il a demandé qui avait cassé la fenêtre, tous les garçons ont pris un air innocent.\",\n",
    "\"Je ne supporte pas ce type.\",\n",
    "\"Pour une fois dans ma vie je fais un bon geste... Et ça ne sert à rien.\",\n",
    "\"Vi trodde att det var ett flygande tefat.\",\n",
    "\"Detta är huset jag bodde i när jag var barn.\",\n",
    "\"Vi hade roligt på stranden igår.\"]\n",
    "\n",
    "rows = []\n",
    "for my_string in my_strings:\n",
    "    row = []\n",
    "    for ngram in example_ngrams:\n",
    "        row += [my_string.count(ngram)]\n",
    "    rows.append(row)\n",
    "rows"
   ]
  },
  {
   "cell_type": "markdown",
   "metadata": {},
   "source": [
    "## Getting the Dataset"
   ]
  },
  {
   "cell_type": "markdown",
   "metadata": {},
   "source": [
    "Before you start programming, download the Tatoeba dataset. You can use the instructions:"
   ]
  },
  {
   "cell_type": "code",
   "execution_count": 3,
   "metadata": {},
   "outputs": [
    {
     "name": "stdout",
     "output_type": "stream",
     "text": [
      "--2023-09-19 20:22:31--  https://downloads.tatoeba.org/exports/sentences.tar.bz2\n",
      "Résolution de downloads.tatoeba.org (downloads.tatoeba.org)… 94.130.77.194\n",
      "Connexion à downloads.tatoeba.org (downloads.tatoeba.org)|94.130.77.194|:443… connecté.\n",
      "requête HTTP transmise, en attente de la réponse… 200 OK\n",
      "Taille : 183274899 (175M) [application/octet-stream]\n",
      "Sauvegarde en : « sentences.tar.bz2 »\n",
      "\n",
      "sentences.tar.bz2   100%[===================>] 174,78M  2,20MB/s    ds 63s     \n",
      "\n",
      "2023-09-19 20:23:35 (2,76 MB/s) — « sentences.tar.bz2 » sauvegardé [183274899/183274899]\n",
      "\n"
     ]
    }
   ],
   "source": [
    "!wget https://downloads.tatoeba.org/exports/sentences.tar.bz2"
   ]
  },
  {
   "cell_type": "code",
   "execution_count": 4,
   "metadata": {},
   "outputs": [
    {
     "name": "stdout",
     "output_type": "stream",
     "text": [
      "x sentences.csv\n"
     ]
    }
   ],
   "source": [
    "!tar -xvjf sentences.tar.bz2"
   ]
  },
  {
   "cell_type": "markdown",
   "metadata": {},
   "source": [
    "### Loading the Dataset"
   ]
  },
  {
   "cell_type": "markdown",
   "metadata": {},
   "source": [
    "Run the code to read the dataset and split it into lines. You may have to change the path"
   ]
  },
  {
   "cell_type": "code",
   "execution_count": 8,
   "metadata": {},
   "outputs": [
    {
     "data": {
      "text/plain": [
       "['1\\tcmn\\t我們試試看！',\n",
       " '2\\tcmn\\t我该去睡觉了。',\n",
       " '3\\tcmn\\t你在干什麼啊？',\n",
       " '4\\tcmn\\t這是什麼啊？',\n",
       " '5\\tcmn\\t今天是６月１８号，也是Muiriel的生日！',\n",
       " '6\\tcmn\\t生日快乐，Muiriel！',\n",
       " '7\\tcmn\\tMuiriel现在20岁了。',\n",
       " '8\\tcmn\\t密码是\"Muiriel\"。',\n",
       " '9\\tcmn\\t我很快就會回來。',\n",
       " '10\\tcmn\\t我不知道。']"
      ]
     },
     "execution_count": 8,
     "metadata": {},
     "output_type": "execute_result"
    }
   ],
   "source": [
    "dataset_large = open('sentences.csv', encoding='utf8').read().strip()\n",
    "dataset_large = dataset_large.split('\\n')\n",
    "dataset_large[:10]"
   ]
  },
  {
   "cell_type": "code",
   "execution_count": 5,
   "metadata": {},
   "outputs": [
    {
     "data": {
      "text/plain": [
       "['1\\tcmn\\t我們試試看！',\n",
       " '2\\tcmn\\t我该去睡觉了。',\n",
       " '3\\tcmn\\t你在干什麼啊？',\n",
       " '4\\tcmn\\t這是什麼啊？',\n",
       " '5\\tcmn\\t今天是６月１８号，也是Muiriel的生日！',\n",
       " '6\\tcmn\\t生日快乐，Muiriel！',\n",
       " '7\\tcmn\\tMuiriel现在20岁了。',\n",
       " '8\\tcmn\\t密码是\"Muiriel\"。',\n",
       " '9\\tcmn\\t我很快就會回來。',\n",
       " '10\\tcmn\\t我不知道。']"
      ]
     },
     "execution_count": 5,
     "metadata": {},
     "output_type": "execute_result"
    }
   ],
   "source": [
    "dataset_large = open('sentences.csv', encoding='utf8').read().strip()\n",
    "dataset_large = dataset_large.split('\\n')\n",
    "dataset_large[:10]"
   ]
  },
  {
   "cell_type": "markdown",
   "metadata": {},
   "source": [
    "The size may vary as new documents are added every day to _Tatoeba_"
   ]
  },
  {
   "cell_type": "code",
   "execution_count": 9,
   "metadata": {},
   "outputs": [
    {
     "data": {
      "text/plain": [
       "11611245"
      ]
     },
     "execution_count": 9,
     "metadata": {},
     "output_type": "execute_result"
    }
   ],
   "source": [
    "len(dataset_large)"
   ]
  },
  {
   "cell_type": "markdown",
   "metadata": {},
   "source": [
    "Run the code to split the fields and remove possible whitespaces"
   ]
  },
  {
   "cell_type": "code",
   "execution_count": 10,
   "metadata": {},
   "outputs": [
    {
     "data": {
      "text/plain": [
       "[('1', 'cmn', '我們試試看！'), ('2', 'cmn', '我该去睡觉了。'), ('3', 'cmn', '你在干什麼啊？')]"
      ]
     },
     "execution_count": 10,
     "metadata": {},
     "output_type": "execute_result"
    }
   ],
   "source": [
    "dataset_large = list(map(lambda x: tuple(x.split('\\t')), dataset_large))\n",
    "dataset_large = list(map(lambda x: tuple(map(str.strip, x)), dataset_large))\n",
    "dataset_large[:3]"
   ]
  },
  {
   "cell_type": "code",
   "execution_count": 11,
   "metadata": {},
   "outputs": [],
   "source": [
    "from collections import Counter\n",
    "counter = Counter(map(lambda x: x[1], dataset_large))"
   ]
  },
  {
   "cell_type": "markdown",
   "metadata": {},
   "source": [
    "Again the figures may vary"
   ]
  },
  {
   "cell_type": "code",
   "execution_count": 12,
   "metadata": {},
   "outputs": [
    {
     "data": {
      "text/plain": [
       "[('eng', 1829233),\n",
       " ('rus', 1013772),\n",
       " ('ita', 863056),\n",
       " ('tur', 728016),\n",
       " ('epo', 727449),\n",
       " ('kab', 686241),\n",
       " ('ber', 649317),\n",
       " ('deu', 626486),\n",
       " ('fra', 568043),\n",
       " ('por', 422018),\n",
       " ('spa', 402305),\n",
       " ('hun', 394468),\n",
       " ('jpn', 238488),\n",
       " ('heb', 200838),\n",
       " ('ukr', 184377),\n",
       " ('nld', 176953),\n",
       " ('fin', 146641),\n",
       " ('pol', 122378),\n",
       " ('lit', 93912),\n",
       " ('mkd', 78095),\n",
       " ('tgl', 74892),\n",
       " ('cmn', 73632),\n",
       " ('ces', 73545),\n",
       " ('mar', 73277),\n",
       " ('ara', 62802),\n",
       " ('dan', 58848),\n",
       " ('tok', 53870),\n",
       " ('swe', 52960),\n",
       " ('lat', 49153),\n",
       " ('srp', 47878)]"
      ]
     },
     "execution_count": 12,
     "metadata": {},
     "output_type": "execute_result"
    }
   ],
   "source": [
    "counter.most_common(30)"
   ]
  },
  {
   "cell_type": "code",
   "execution_count": 9,
   "metadata": {},
   "outputs": [
    {
     "data": {
      "text/plain": [
       "[('eng', 1829233),\n",
       " ('rus', 1013772),\n",
       " ('ita', 863056),\n",
       " ('tur', 728016),\n",
       " ('epo', 727449),\n",
       " ('kab', 686241),\n",
       " ('ber', 649317),\n",
       " ('deu', 626486),\n",
       " ('fra', 568043),\n",
       " ('por', 422018),\n",
       " ('spa', 402305),\n",
       " ('hun', 394468),\n",
       " ('jpn', 238488),\n",
       " ('heb', 200838),\n",
       " ('ukr', 184377),\n",
       " ('nld', 176953),\n",
       " ('fin', 146641),\n",
       " ('pol', 122378),\n",
       " ('lit', 93912),\n",
       " ('mkd', 78095),\n",
       " ('tgl', 74892),\n",
       " ('cmn', 73632),\n",
       " ('ces', 73545),\n",
       " ('mar', 73277),\n",
       " ('ara', 62802),\n",
       " ('dan', 58848),\n",
       " ('tok', 53870),\n",
       " ('swe', 52960),\n",
       " ('lat', 49153),\n",
       " ('srp', 47878)]"
      ]
     },
     "execution_count": 9,
     "metadata": {},
     "output_type": "execute_result"
    }
   ],
   "source": [
    "counter.most_common(30)"
   ]
  },
  {
   "cell_type": "markdown",
   "metadata": {},
   "source": [
    "## Restricting the Dataset to a few Languages "
   ]
  },
  {
   "cell_type": "markdown",
   "metadata": {},
   "source": [
    "The Tatoeba dataset is very large. You will first extract a subset of it\n",
    "\n",
    "Write the code to extract texts in the languages below. For each language, you limit the number of documents to 50,000 or less if the language has less documents.\n",
    "You will call the resulting dataset: `dataset`"
   ]
  },
  {
   "cell_type": "markdown",
   "metadata": {},
   "source": [
    "The languages"
   ]
  },
  {
   "cell_type": "code",
   "execution_count": 13,
   "metadata": {},
   "outputs": [],
   "source": [
    "langs = ['fra', 'cmn', 'jpn', 'eng', 'swe', 'dan']"
   ]
  },
  {
   "cell_type": "markdown",
   "metadata": {},
   "source": [
    "The maximal number of documents per language"
   ]
  },
  {
   "cell_type": "code",
   "execution_count": 14,
   "metadata": {},
   "outputs": [],
   "source": [
    "MAX_DOCS = 50000"
   ]
  },
  {
   "cell_type": "markdown",
   "metadata": {},
   "source": [
    "Write a loop that:\n",
    "1. Extracts a list of all the documents in a certain language from the dataset\n",
    "2. Shuffles this list with `random.shuffle()`\n",
    "3. Adds `MAX_DOCS` to `dataset`. You just need to use a slice"
   ]
  },
  {
   "cell_type": "code",
   "execution_count": 15,
   "metadata": {},
   "outputs": [],
   "source": [
    "# Write your code here\n",
    "dataset = []\n",
    "for lang in langs:\n",
    "    # Extract documents for the current language\n",
    "    lang_documents = [doc for doc in dataset_large if doc[1] == lang]\n",
    "    # Shuffle the documents\n",
    "    random.shuffle(lang_documents)\n",
    "    # Add the first MAX_DOCS documents to the final dataset\n",
    "    dataset.extend(lang_documents[:MAX_DOCS])"
   ]
  },
  {
   "cell_type": "code",
   "execution_count": 16,
   "metadata": {},
   "outputs": [],
   "source": [
    "random.shuffle(dataset)"
   ]
  },
  {
   "cell_type": "code",
   "execution_count": 17,
   "metadata": {},
   "outputs": [
    {
     "data": {
      "text/plain": [
       "300000"
      ]
     },
     "execution_count": 17,
     "metadata": {},
     "output_type": "execute_result"
    }
   ],
   "source": [
    "len(dataset)"
   ]
  },
  {
   "cell_type": "code",
   "execution_count": 18,
   "metadata": {},
   "outputs": [
    {
     "data": {
      "text/plain": [
       "[('8262671', 'eng', \"Where are Algeria's embezzled funds?\"),\n",
       " ('9211583', 'eng', 'Beware of the dog.'),\n",
       " ('366878', 'cmn', '你有必要去看一下医生。'),\n",
       " ('7071789', 'fra', 'Va balayer ma chambre.'),\n",
       " ('11801603', 'eng', 'Dmitri had an emergency at his work.')]"
      ]
     },
     "execution_count": 18,
     "metadata": {},
     "output_type": "execute_result"
    }
   ],
   "source": [
    "dataset[:5]"
   ]
  },
  {
   "cell_type": "markdown",
   "metadata": {},
   "source": [
    "## Utilities\n",
    "\n",
    "Before you can use the dataset to train a model, you need to convert it into numbers. You will carry this with out the following steps and you will write a corresponding function.\n",
    "1. You will extract the $n$-grams up to trigrams (`all_ngrams()`);\n",
    "2. Trigrams can create many symbols that most student's machines cannot process. You will reduce their numbers using hash codes (`hash_ngrams()`);\n",
    "3. You will compute the relative frequencies of the $n$-grams, replaced here by the hash codes (`calc_ref_freq()`).\n",
    "4. The results will be stored in three dictionaries, for characters, bigrams, and trigrams. You will merge these dictionaries into one (`shift_keys()`).\n",
    "\n",
    "You will then apply the functions to vectorize the dataset."
   ]
  },
  {
   "cell_type": "markdown",
   "metadata": {},
   "source": [
    "### Extracting $n$-grams\n",
    "The goal of this section is that you extract the $n$-grams from a text. By default, you will lowercase the text. The result will have the form: `[chars, bigrams, trigrams]`"
   ]
  },
  {
   "cell_type": "markdown",
   "metadata": {},
   "source": [
    "Write a function to extract the $n$-grams of a sentence: `ngrams(sentence, n=1, lc=True)`, `n` is a parameters. You can use list slices for this."
   ]
  },
  {
   "cell_type": "code",
   "execution_count": 19,
   "metadata": {},
   "outputs": [],
   "source": [
    "# Write your code here\n",
    "def ngrams(sentence, n=1, lc=True):\n",
    "    # Optionally lowercase the sentence\n",
    "    if lc:\n",
    "        sentence = sentence.lower()\n",
    "\n",
    "    # Tokenize the sentence into characters\n",
    "    tokens = list(sentence)\n",
    "\n",
    "    ngram_list = []\n",
    "\n",
    "    for i in range(len(tokens) - n + 1):\n",
    "        ngram = ''.join(tokens[i:i + n])\n",
    "        ngram_list.append(ngram)\n",
    "\n",
    "    return ngram_list"
   ]
  },
  {
   "cell_type": "code",
   "execution_count": 20,
   "metadata": {},
   "outputs": [
    {
     "data": {
      "text/plain": [
       "['t', 'r', 'y', ' ', 's', 'o', 'm', 'e', 't', 'h', 'i', 'n', 'g', '.']"
      ]
     },
     "execution_count": 20,
     "metadata": {},
     "output_type": "execute_result"
    }
   ],
   "source": [
    "ngrams('try something.')"
   ]
  },
  {
   "cell_type": "code",
   "execution_count": 17,
   "metadata": {},
   "outputs": [
    {
     "data": {
      "text/plain": [
       "['t', 'r', 'y', ' ', 's', 'o', 'm', 'e', 't', 'h', 'i', 'n', 'g', '.']"
      ]
     },
     "execution_count": 17,
     "metadata": {},
     "output_type": "execute_result"
    }
   ],
   "source": [
    "ngrams('try something.')"
   ]
  },
  {
   "cell_type": "code",
   "execution_count": 31,
   "metadata": {},
   "outputs": [
    {
     "data": {
      "text/plain": [
       "['tr', 'ry', 'y ', ' s', 'so', 'om', 'me', 'et', 'th', 'hi', 'in', 'ng', 'g.']"
      ]
     },
     "execution_count": 31,
     "metadata": {},
     "output_type": "execute_result"
    }
   ],
   "source": [
    "ngrams('try something.', n=2)"
   ]
  },
  {
   "cell_type": "code",
   "execution_count": 18,
   "metadata": {},
   "outputs": [
    {
     "data": {
      "text/plain": [
       "['tr', 'ry', 'y ', ' s', 'so', 'om', 'me', 'et', 'th', 'hi', 'in', 'ng', 'g.']"
      ]
     },
     "execution_count": 18,
     "metadata": {},
     "output_type": "execute_result"
    }
   ],
   "source": [
    "ngrams('try something.', n=2)"
   ]
  },
  {
   "cell_type": "markdown",
   "metadata": {},
   "source": [
    "We now use this function to extract all the $n$-grams"
   ]
  },
  {
   "cell_type": "code",
   "execution_count": 21,
   "metadata": {},
   "outputs": [],
   "source": [
    "def all_ngrams(sentence, max_ngram=3, lc=True):\n",
    "    all_ngram_list = []\n",
    "    for i in range(1, max_ngram + 1):\n",
    "        all_ngram_list += [ngrams(sentence, n=i, lc=lc)]\n",
    "    return all_ngram_list"
   ]
  },
  {
   "cell_type": "code",
   "execution_count": 22,
   "metadata": {},
   "outputs": [
    {
     "data": {
      "text/plain": [
       "[['t', 'r', 'y', ' ', 's', 'o', 'm', 'e', 't', 'h', 'i', 'n', 'g', '.'],\n",
       " ['tr',\n",
       "  'ry',\n",
       "  'y ',\n",
       "  ' s',\n",
       "  'so',\n",
       "  'om',\n",
       "  'me',\n",
       "  'et',\n",
       "  'th',\n",
       "  'hi',\n",
       "  'in',\n",
       "  'ng',\n",
       "  'g.'],\n",
       " ['try',\n",
       "  'ry ',\n",
       "  'y s',\n",
       "  ' so',\n",
       "  'som',\n",
       "  'ome',\n",
       "  'met',\n",
       "  'eth',\n",
       "  'thi',\n",
       "  'hin',\n",
       "  'ing',\n",
       "  'ng.']]"
      ]
     },
     "execution_count": 22,
     "metadata": {},
     "output_type": "execute_result"
    }
   ],
   "source": [
    "all_ngrams('try something.')"
   ]
  },
  {
   "cell_type": "code",
   "execution_count": 20,
   "metadata": {},
   "outputs": [
    {
     "data": {
      "text/plain": [
       "[['t', 'r', 'y', ' ', 's', 'o', 'm', 'e', 't', 'h', 'i', 'n', 'g', '.'],\n",
       " ['tr',\n",
       "  'ry',\n",
       "  'y ',\n",
       "  ' s',\n",
       "  'so',\n",
       "  'om',\n",
       "  'me',\n",
       "  'et',\n",
       "  'th',\n",
       "  'hi',\n",
       "  'in',\n",
       "  'ng',\n",
       "  'g.'],\n",
       " ['try',\n",
       "  'ry ',\n",
       "  'y s',\n",
       "  ' so',\n",
       "  'som',\n",
       "  'ome',\n",
       "  'met',\n",
       "  'eth',\n",
       "  'thi',\n",
       "  'hin',\n",
       "  'ing',\n",
       "  'ng.']]"
      ]
     },
     "execution_count": 20,
     "metadata": {},
     "output_type": "execute_result"
    }
   ],
   "source": [
    "all_ngrams('try something.')"
   ]
  },
  {
   "cell_type": "markdown",
   "metadata": {},
   "source": [
    "### Hashing"
   ]
  },
  {
   "cell_type": "markdown",
   "metadata": {},
   "source": [
    "We consider languages with many characters that will make the number of bigrams and trigrams impossible to process. We will use the _hashing trick_ to reduce them, where we will gather $n$-grams into subsets using hash codes.\n",
    "\n",
    "Each item will have this format:\n",
    "`[char_hcodes, bigram_hcodes, trigram_hcodes]`."
   ]
  },
  {
   "cell_type": "markdown",
   "metadata": {},
   "source": [
    "#### Description"
   ]
  },
  {
   "cell_type": "markdown",
   "metadata": {},
   "source": [
    "Python has a built-in hashing function that returns a unique numerical signature for a given string"
   ]
  },
  {
   "cell_type": "code",
   "execution_count": 23,
   "metadata": {},
   "outputs": [
    {
     "data": {
      "text/plain": [
       "(1319773488830660935, 7208032948446970521, 1652369137166600851)"
      ]
     },
     "execution_count": 23,
     "metadata": {},
     "output_type": "execute_result"
    }
   ],
   "source": [
    "hash('a'), hash('ab'), hash('abc')"
   ]
  },
  {
   "cell_type": "markdown",
   "metadata": {},
   "source": [
    "If we take the remainder (modulo) of a division by 5, we reduce the possible codes to: 0, 1, 2, 3, or 4"
   ]
  },
  {
   "cell_type": "code",
   "execution_count": 24,
   "metadata": {},
   "outputs": [
    {
     "data": {
      "text/plain": [
       "[0, 1, 1]"
      ]
     },
     "execution_count": 24,
     "metadata": {},
     "output_type": "execute_result"
    }
   ],
   "source": [
    "list(map(lambda x: x % 5, (hash('a'), hash('ab'), hash('abc'))))"
   ]
  },
  {
   "cell_type": "markdown",
   "metadata": {},
   "source": [
    "#### Implementation"
   ]
  },
  {
   "cell_type": "markdown",
   "metadata": {},
   "source": [
    "We set maximal numbers for our $n$-grams using these divisors"
   ]
  },
  {
   "cell_type": "code",
   "execution_count": 25,
   "metadata": {},
   "outputs": [],
   "source": [
    "MAX_CHARS = 521\n",
    "MAX_BIGRAMS = 1031\n",
    "MAX_TRIGRAMS = 1031"
   ]
  },
  {
   "cell_type": "markdown",
   "metadata": {},
   "source": [
    "Here strings have integer codes within the range [0, `MAX_CHARS`["
   ]
  },
  {
   "cell_type": "code",
   "execution_count": 26,
   "metadata": {},
   "outputs": [
    {
     "data": {
      "text/plain": [
       "[64, 187, 507]"
      ]
     },
     "execution_count": 26,
     "metadata": {},
     "output_type": "execute_result"
    }
   ],
   "source": [
    "list(map(lambda x: x % MAX_CHARS, (hash('a'), hash('ab'), hash('abc'))))"
   ]
  },
  {
   "cell_type": "markdown",
   "metadata": {},
   "source": [
    "Hash codes may vary across machines and Marcus Klang wrote this function to have reproducible codes"
   ]
  },
  {
   "cell_type": "code",
   "execution_count": 27,
   "metadata": {},
   "outputs": [],
   "source": [
    "def reproducible_hash(string):\n",
    "    \"\"\"\n",
    "    reproducible hash on any string\n",
    "    \n",
    "    Arguments:\n",
    "       string: python string object\n",
    "    \n",
    "    Returns:\n",
    "       signed int64\n",
    "    \"\"\"\n",
    "    \n",
    "    # We are using MD5 for speed not security.\n",
    "    h = hashlib.md5(string.encode(\"utf-8\"))\n",
    "    return int.from_bytes(h.digest()[0:8], 'big', signed=True)"
   ]
  },
  {
   "cell_type": "code",
   "execution_count": 28,
   "metadata": {},
   "outputs": [
    {
     "data": {
      "text/plain": [
       "919145239626757800"
      ]
     },
     "execution_count": 28,
     "metadata": {},
     "output_type": "execute_result"
    }
   ],
   "source": [
    "reproducible_hash('a')"
   ]
  },
  {
   "cell_type": "code",
   "execution_count": 26,
   "metadata": {},
   "outputs": [
    {
     "data": {
      "text/plain": [
       "919145239626757800"
      ]
     },
     "execution_count": 26,
     "metadata": {},
     "output_type": "execute_result"
    }
   ],
   "source": [
    "reproducible_hash('a')"
   ]
  },
  {
   "cell_type": "code",
   "execution_count": 29,
   "metadata": {},
   "outputs": [
    {
     "data": {
      "text/plain": [
       "234"
      ]
     },
     "execution_count": 29,
     "metadata": {},
     "output_type": "execute_result"
    }
   ],
   "source": [
    "reproducible_hash('a') % MAX_CHARS"
   ]
  },
  {
   "cell_type": "markdown",
   "metadata": {},
   "source": [
    "### Converting $n$-grams to hash codes\n",
    "You will now convert the $n$-grams to hash codes\n"
   ]
  },
  {
   "cell_type": "code",
   "execution_count": 30,
   "metadata": {},
   "outputs": [],
   "source": [
    "MAXES = [MAX_CHARS, MAX_BIGRAMS, MAX_TRIGRAMS]"
   ]
  },
  {
   "cell_type": "markdown",
   "metadata": {},
   "source": [
    "Create a `hash_ngrams` function that creates a list of hash codes from a list of $n$-grams. As arguments, you will have the list of $n$-grams `[chars, bigrams, trigrams]` as well as the list of dividers (`MAXES`).\n",
    "\n",
    "The output format will be a list of three lists:\n",
    "\n",
    "`[char_hcodes, bigram_hcodes, trigram_hcodes]`."
   ]
  },
  {
   "cell_type": "code",
   "execution_count": 31,
   "metadata": {},
   "outputs": [],
   "source": [
    "# Write your code\n",
    "def hash_ngrams(ngrams, modulos):\n",
    "    hash_codes = []\n",
    "    # Loop through ngrams to calculate hash codes\n",
    "    for ngram in ngrams:\n",
    "        hcode = []\n",
    "        for element in ngram:\n",
    "            hcode.append(reproducible_hash(element))\n",
    "        hash_codes.append(hcode)\n",
    "    # Modulo\n",
    "    for i in range(len(MAXES)):\n",
    "        hash_codes_temp = [element % modulos[i] for element in hash_codes[i]]\n",
    "        hash_codes[i] = hash_codes_temp\n",
    "    return hash_codes"
   ]
  },
  {
   "cell_type": "code",
   "execution_count": 32,
   "metadata": {},
   "outputs": [
    {
     "data": {
      "text/plain": [
       "[['t', 'r', 'y', ' ', 's', 'o', 'm', 'e', 't', 'h', 'i', 'n', 'g', '.'],\n",
       " ['tr',\n",
       "  'ry',\n",
       "  'y ',\n",
       "  ' s',\n",
       "  'so',\n",
       "  'om',\n",
       "  'me',\n",
       "  'et',\n",
       "  'th',\n",
       "  'hi',\n",
       "  'in',\n",
       "  'ng',\n",
       "  'g.'],\n",
       " ['try',\n",
       "  'ry ',\n",
       "  'y s',\n",
       "  ' so',\n",
       "  'som',\n",
       "  'ome',\n",
       "  'met',\n",
       "  'eth',\n",
       "  'thi',\n",
       "  'hin',\n",
       "  'ing',\n",
       "  'ng.']]"
      ]
     },
     "execution_count": 32,
     "metadata": {},
     "output_type": "execute_result"
    }
   ],
   "source": [
    "all_ngrams('try something.')"
   ]
  },
  {
   "cell_type": "code",
   "execution_count": 33,
   "metadata": {},
   "outputs": [
    {
     "data": {
      "text/plain": [
       "[[432, 437, 309, 86, 331, 97, 100, 32, 432, 332, 233, 310, 31, 442],\n",
       " [6, 765, 224, 203, 557, 176, 590, 711, 527, 757, 919, 57, 685],\n",
       " [848, 617, 468, 456, 873, 996, 287, 10, 817, 674, 960, 399]]"
      ]
     },
     "execution_count": 33,
     "metadata": {},
     "output_type": "execute_result"
    }
   ],
   "source": [
    "hash_ngrams(all_ngrams('try something.'), MAXES)"
   ]
  },
  {
   "cell_type": "code",
   "execution_count": 31,
   "metadata": {},
   "outputs": [
    {
     "data": {
      "text/plain": [
       "[[432, 437, 309, 86, 331, 97, 100, 32, 432, 332, 233, 310, 31, 442],\n",
       " [6, 765, 224, 203, 557, 176, 590, 711, 527, 757, 919, 57, 685],\n",
       " [848, 617, 468, 456, 873, 996, 287, 10, 817, 674, 960, 399]]"
      ]
     },
     "execution_count": 31,
     "metadata": {},
     "output_type": "execute_result"
    }
   ],
   "source": [
    "hash_ngrams(all_ngrams('try something.'), MAXES)"
   ]
  },
  {
   "cell_type": "markdown",
   "metadata": {},
   "source": [
    "### Functions to Count Hash Codes"
   ]
  },
  {
   "cell_type": "markdown",
   "metadata": {},
   "source": [
    "Write a function `calc_rel_freq(codes)` to count the codes. As in CLD3, you will return the relative frequencies.\n",
    "\n",
    "This is just an application of `Counter` to a list of codes and then a division by the length.\n",
    "\n",
    "The input is a list of codes and the output is a `Counter` object of relative frequencies."
   ]
  },
  {
   "cell_type": "code",
   "execution_count": 34,
   "metadata": {},
   "outputs": [],
   "source": [
    "# Write your code\n",
    "def calc_rel_freq(codes):\n",
    "    cnt = Counter(codes)\n",
    "    total = sum(cnt.values())\n",
    "    for code in cnt:\n",
    "        cnt[code] /= total\n",
    "    return cnt"
   ]
  },
  {
   "cell_type": "code",
   "execution_count": 35,
   "metadata": {},
   "outputs": [
    {
     "data": {
      "text/plain": [
       "[[432, 437, 309, 86, 331, 97, 100, 32, 432, 332, 233, 310, 31, 442],\n",
       " [6, 765, 224, 203, 557, 176, 590, 711, 527, 757, 919, 57, 685],\n",
       " [848, 617, 468, 456, 873, 996, 287, 10, 817, 674, 960, 399]]"
      ]
     },
     "execution_count": 35,
     "metadata": {},
     "output_type": "execute_result"
    }
   ],
   "source": [
    "hash_ngrams(all_ngrams('try something.'), MAXES)"
   ]
  },
  {
   "cell_type": "code",
   "execution_count": 36,
   "metadata": {},
   "outputs": [
    {
     "data": {
      "text/plain": [
       "[Counter({432: 0.14285714285714285,\n",
       "          437: 0.07142857142857142,\n",
       "          309: 0.07142857142857142,\n",
       "          86: 0.07142857142857142,\n",
       "          331: 0.07142857142857142,\n",
       "          97: 0.07142857142857142,\n",
       "          100: 0.07142857142857142,\n",
       "          32: 0.07142857142857142,\n",
       "          332: 0.07142857142857142,\n",
       "          233: 0.07142857142857142,\n",
       "          310: 0.07142857142857142,\n",
       "          31: 0.07142857142857142,\n",
       "          442: 0.07142857142857142}),\n",
       " Counter({6: 0.07692307692307693,\n",
       "          765: 0.07692307692307693,\n",
       "          224: 0.07692307692307693,\n",
       "          203: 0.07692307692307693,\n",
       "          557: 0.07692307692307693,\n",
       "          176: 0.07692307692307693,\n",
       "          590: 0.07692307692307693,\n",
       "          711: 0.07692307692307693,\n",
       "          527: 0.07692307692307693,\n",
       "          757: 0.07692307692307693,\n",
       "          919: 0.07692307692307693,\n",
       "          57: 0.07692307692307693,\n",
       "          685: 0.07692307692307693}),\n",
       " Counter({848: 0.08333333333333333,\n",
       "          617: 0.08333333333333333,\n",
       "          468: 0.08333333333333333,\n",
       "          456: 0.08333333333333333,\n",
       "          873: 0.08333333333333333,\n",
       "          996: 0.08333333333333333,\n",
       "          287: 0.08333333333333333,\n",
       "          10: 0.08333333333333333,\n",
       "          817: 0.08333333333333333,\n",
       "          674: 0.08333333333333333,\n",
       "          960: 0.08333333333333333,\n",
       "          399: 0.08333333333333333})]"
      ]
     },
     "execution_count": 36,
     "metadata": {},
     "output_type": "execute_result"
    }
   ],
   "source": [
    "list(map(calc_rel_freq, hash_ngrams(all_ngrams('try something.'), MAXES)))"
   ]
  },
  {
   "cell_type": "code",
   "execution_count": 34,
   "metadata": {},
   "outputs": [
    {
     "data": {
      "text/plain": [
       "[Counter({432: 0.14285714285714285,\n",
       "          437: 0.07142857142857142,\n",
       "          309: 0.07142857142857142,\n",
       "          86: 0.07142857142857142,\n",
       "          331: 0.07142857142857142,\n",
       "          97: 0.07142857142857142,\n",
       "          100: 0.07142857142857142,\n",
       "          32: 0.07142857142857142,\n",
       "          332: 0.07142857142857142,\n",
       "          233: 0.07142857142857142,\n",
       "          310: 0.07142857142857142,\n",
       "          31: 0.07142857142857142,\n",
       "          442: 0.07142857142857142}),\n",
       " Counter({6: 0.07692307692307693,\n",
       "          765: 0.07692307692307693,\n",
       "          224: 0.07692307692307693,\n",
       "          203: 0.07692307692307693,\n",
       "          557: 0.07692307692307693,\n",
       "          176: 0.07692307692307693,\n",
       "          590: 0.07692307692307693,\n",
       "          711: 0.07692307692307693,\n",
       "          527: 0.07692307692307693,\n",
       "          757: 0.07692307692307693,\n",
       "          919: 0.07692307692307693,\n",
       "          57: 0.07692307692307693,\n",
       "          685: 0.07692307692307693}),\n",
       " Counter({848: 0.08333333333333333,\n",
       "          617: 0.08333333333333333,\n",
       "          468: 0.08333333333333333,\n",
       "          456: 0.08333333333333333,\n",
       "          873: 0.08333333333333333,\n",
       "          996: 0.08333333333333333,\n",
       "          287: 0.08333333333333333,\n",
       "          10: 0.08333333333333333,\n",
       "          817: 0.08333333333333333,\n",
       "          674: 0.08333333333333333,\n",
       "          960: 0.08333333333333333,\n",
       "          399: 0.08333333333333333})]"
      ]
     },
     "execution_count": 34,
     "metadata": {},
     "output_type": "execute_result"
    }
   ],
   "source": [
    "list(map(calc_rel_freq, hash_ngrams(all_ngrams('try something.'), MAXES)))"
   ]
  },
  {
   "cell_type": "markdown",
   "metadata": {},
   "source": [
    "### Merge the Dictionaries"
   ]
  },
  {
   "cell_type": "markdown",
   "metadata": {},
   "source": [
    "In the results above, we have three counter objects with numerical keys (the hash codes). You will build one dictionary of them.\n",
    "\n",
    "There is a key overlap and we must take care that a same hash code for the unigrams is not the same as in the bigrams. We will then shift the keys.\n",
    "\n",
    "The keys range from:\n",
    "1. Unigrams from 0 to 521, [0, MAX_CHARS[\n",
    "2. Bigrams from 0 to 1031, [0, MAX_BIGRAMS[\n",
    "3. Trigrams from 1 to 1031, [0, MAX_TRIGRAMS["
   ]
  },
  {
   "cell_type": "markdown",
   "metadata": {},
   "source": [
    "You will leave the unigrams keys as they are. You will shift the bigram keys by MAX_CHARS, and the trigram keys by MAX_CHARS + MAX_BIGRAMS. You can reuse the code below"
   ]
  },
  {
   "cell_type": "code",
   "execution_count": 37,
   "metadata": {},
   "outputs": [],
   "source": [
    "MAX_SHIFT = []\n",
    "for i in range(len(MAXES)):\n",
    "    MAX_SHIFT += [sum(MAXES[:i])]"
   ]
  },
  {
   "cell_type": "code",
   "execution_count": 38,
   "metadata": {},
   "outputs": [
    {
     "data": {
      "text/plain": [
       "[0, 521, 1552]"
      ]
     },
     "execution_count": 38,
     "metadata": {},
     "output_type": "execute_result"
    }
   ],
   "source": [
    "MAX_SHIFT"
   ]
  },
  {
   "cell_type": "markdown",
   "metadata": {},
   "source": [
    "Write a `shift_keys(dicts, MAX_SHIFT)` function that takes a list of dictionaries as input and the list of shifts and that a new unique dictionary, where the numerical keys have been shifted by the numbers in `MAX_SHIFT`"
   ]
  },
  {
   "cell_type": "code",
   "execution_count": 39,
   "metadata": {},
   "outputs": [],
   "source": [
    "# Write your code here\n",
    "def shift_keys(dicts, MAX_SHIFT):\n",
    "    new_dict = {}\n",
    "    i = 0\n",
    "    # Iterate through the dictionaries\n",
    "    for d in dicts:\n",
    "        # Iterate through key-value pairs in each dictionary\n",
    "        for key, value in d.items():      \n",
    "            # Shift the key by the determined value\n",
    "            new_key = key + MAX_SHIFT[i]\n",
    "            # Add the new key-value pair to the dictionary\n",
    "            new_dict[new_key] = value\n",
    "        i += 1\n",
    "    return new_dict"
   ]
  },
  {
   "cell_type": "code",
   "execution_count": 40,
   "metadata": {},
   "outputs": [
    {
     "data": {
      "text/plain": [
       "[Counter({432: 0.14285714285714285,\n",
       "          437: 0.07142857142857142,\n",
       "          309: 0.07142857142857142,\n",
       "          86: 0.07142857142857142,\n",
       "          331: 0.07142857142857142,\n",
       "          97: 0.07142857142857142,\n",
       "          100: 0.07142857142857142,\n",
       "          32: 0.07142857142857142,\n",
       "          332: 0.07142857142857142,\n",
       "          233: 0.07142857142857142,\n",
       "          310: 0.07142857142857142,\n",
       "          31: 0.07142857142857142,\n",
       "          442: 0.07142857142857142}),\n",
       " Counter({6: 0.07692307692307693,\n",
       "          765: 0.07692307692307693,\n",
       "          224: 0.07692307692307693,\n",
       "          203: 0.07692307692307693,\n",
       "          557: 0.07692307692307693,\n",
       "          176: 0.07692307692307693,\n",
       "          590: 0.07692307692307693,\n",
       "          711: 0.07692307692307693,\n",
       "          527: 0.07692307692307693,\n",
       "          757: 0.07692307692307693,\n",
       "          919: 0.07692307692307693,\n",
       "          57: 0.07692307692307693,\n",
       "          685: 0.07692307692307693}),\n",
       " Counter({848: 0.08333333333333333,\n",
       "          617: 0.08333333333333333,\n",
       "          468: 0.08333333333333333,\n",
       "          456: 0.08333333333333333,\n",
       "          873: 0.08333333333333333,\n",
       "          996: 0.08333333333333333,\n",
       "          287: 0.08333333333333333,\n",
       "          10: 0.08333333333333333,\n",
       "          817: 0.08333333333333333,\n",
       "          674: 0.08333333333333333,\n",
       "          960: 0.08333333333333333,\n",
       "          399: 0.08333333333333333})]"
      ]
     },
     "execution_count": 40,
     "metadata": {},
     "output_type": "execute_result"
    }
   ],
   "source": [
    "list(map(calc_rel_freq, hash_ngrams(all_ngrams('try something.'), MAXES)))"
   ]
  },
  {
   "cell_type": "code",
   "execution_count": 103,
   "metadata": {},
   "outputs": [
    {
     "data": {
      "text/plain": [
       "{432: 0.14285714285714285,\n",
       " 437: 0.07142857142857142,\n",
       " 309: 0.07142857142857142,\n",
       " 86: 0.07142857142857142,\n",
       " 331: 0.07142857142857142,\n",
       " 97: 0.07142857142857142,\n",
       " 100: 0.07142857142857142,\n",
       " 32: 0.07142857142857142,\n",
       " 332: 0.07142857142857142,\n",
       " 233: 0.07142857142857142,\n",
       " 310: 0.07142857142857142,\n",
       " 31: 0.07142857142857142,\n",
       " 442: 0.07142857142857142,\n",
       " 527: 0.07692307692307693,\n",
       " 1286: 0.07692307692307693,\n",
       " 745: 0.07692307692307693,\n",
       " 724: 0.07692307692307693,\n",
       " 1078: 0.07692307692307693,\n",
       " 697: 0.07692307692307693,\n",
       " 1111: 0.07692307692307693,\n",
       " 1232: 0.07692307692307693,\n",
       " 1048: 0.07692307692307693,\n",
       " 1278: 0.07692307692307693,\n",
       " 1440: 0.07692307692307693,\n",
       " 578: 0.07692307692307693,\n",
       " 1206: 0.07692307692307693,\n",
       " 2400: 0.08333333333333333,\n",
       " 2169: 0.08333333333333333,\n",
       " 2020: 0.08333333333333333,\n",
       " 2008: 0.08333333333333333,\n",
       " 2425: 0.08333333333333333,\n",
       " 2548: 0.08333333333333333,\n",
       " 1839: 0.08333333333333333,\n",
       " 1562: 0.08333333333333333,\n",
       " 2369: 0.08333333333333333,\n",
       " 2226: 0.08333333333333333,\n",
       " 2512: 0.08333333333333333,\n",
       " 1951: 0.08333333333333333}"
      ]
     },
     "execution_count": 103,
     "metadata": {},
     "output_type": "execute_result"
    }
   ],
   "source": [
    "shift_keys(map(calc_rel_freq, hash_ngrams(all_ngrams('try something.'), MAXES)), MAX_SHIFT)"
   ]
  },
  {
   "cell_type": "code",
   "execution_count": 41,
   "metadata": {},
   "outputs": [
    {
     "data": {
      "text/plain": [
       "{432: 0.14285714285714285,\n",
       " 437: 0.07142857142857142,\n",
       " 309: 0.07142857142857142,\n",
       " 86: 0.07142857142857142,\n",
       " 331: 0.07142857142857142,\n",
       " 97: 0.07142857142857142,\n",
       " 100: 0.07142857142857142,\n",
       " 32: 0.07142857142857142,\n",
       " 332: 0.07142857142857142,\n",
       " 233: 0.07142857142857142,\n",
       " 310: 0.07142857142857142,\n",
       " 31: 0.07142857142857142,\n",
       " 442: 0.07142857142857142,\n",
       " 527: 0.07692307692307693,\n",
       " 1286: 0.07692307692307693,\n",
       " 745: 0.07692307692307693,\n",
       " 724: 0.07692307692307693,\n",
       " 1078: 0.07692307692307693,\n",
       " 697: 0.07692307692307693,\n",
       " 1111: 0.07692307692307693,\n",
       " 1232: 0.07692307692307693,\n",
       " 1048: 0.07692307692307693,\n",
       " 1278: 0.07692307692307693,\n",
       " 1440: 0.07692307692307693,\n",
       " 578: 0.07692307692307693,\n",
       " 1206: 0.07692307692307693,\n",
       " 2400: 0.08333333333333333,\n",
       " 2169: 0.08333333333333333,\n",
       " 2020: 0.08333333333333333,\n",
       " 2008: 0.08333333333333333,\n",
       " 2425: 0.08333333333333333,\n",
       " 2548: 0.08333333333333333,\n",
       " 1839: 0.08333333333333333,\n",
       " 1562: 0.08333333333333333,\n",
       " 2369: 0.08333333333333333,\n",
       " 2226: 0.08333333333333333,\n",
       " 2512: 0.08333333333333333,\n",
       " 1951: 0.08333333333333333}"
      ]
     },
     "execution_count": 41,
     "metadata": {},
     "output_type": "execute_result"
    }
   ],
   "source": [
    "shift_keys(map(calc_rel_freq, hash_ngrams(all_ngrams('try something.'), MAXES)), MAX_SHIFT)"
   ]
  },
  {
   "cell_type": "markdown",
   "metadata": {},
   "source": [
    "Finally, we assemble all these utilities in a function"
   ]
  },
  {
   "cell_type": "code",
   "execution_count": 42,
   "metadata": {},
   "outputs": [],
   "source": [
    "def build_freq_dict(sentence, MAXES=MAXES, MAX_SHIFT=MAX_SHIFT):\n",
    "    hngrams = hash_ngrams(all_ngrams(sentence), MAXES)\n",
    "    fhcodes = map(calc_rel_freq, hngrams)\n",
    "    return shift_keys(fhcodes, MAX_SHIFT)"
   ]
  },
  {
   "cell_type": "code",
   "execution_count": 43,
   "metadata": {},
   "outputs": [
    {
     "data": {
      "text/plain": [
       "{432: 0.14285714285714285,\n",
       " 437: 0.07142857142857142,\n",
       " 309: 0.07142857142857142,\n",
       " 86: 0.07142857142857142,\n",
       " 331: 0.07142857142857142,\n",
       " 97: 0.07142857142857142,\n",
       " 100: 0.07142857142857142,\n",
       " 32: 0.07142857142857142,\n",
       " 332: 0.07142857142857142,\n",
       " 233: 0.07142857142857142,\n",
       " 310: 0.07142857142857142,\n",
       " 31: 0.07142857142857142,\n",
       " 442: 0.07142857142857142,\n",
       " 527: 0.07692307692307693,\n",
       " 1286: 0.07692307692307693,\n",
       " 745: 0.07692307692307693,\n",
       " 724: 0.07692307692307693,\n",
       " 1078: 0.07692307692307693,\n",
       " 697: 0.07692307692307693,\n",
       " 1111: 0.07692307692307693,\n",
       " 1232: 0.07692307692307693,\n",
       " 1048: 0.07692307692307693,\n",
       " 1278: 0.07692307692307693,\n",
       " 1440: 0.07692307692307693,\n",
       " 578: 0.07692307692307693,\n",
       " 1206: 0.07692307692307693,\n",
       " 2400: 0.08333333333333333,\n",
       " 2169: 0.08333333333333333,\n",
       " 2020: 0.08333333333333333,\n",
       " 2008: 0.08333333333333333,\n",
       " 2425: 0.08333333333333333,\n",
       " 2548: 0.08333333333333333,\n",
       " 1839: 0.08333333333333333,\n",
       " 1562: 0.08333333333333333,\n",
       " 2369: 0.08333333333333333,\n",
       " 2226: 0.08333333333333333,\n",
       " 2512: 0.08333333333333333,\n",
       " 1951: 0.08333333333333333}"
      ]
     },
     "execution_count": 43,
     "metadata": {},
     "output_type": "execute_result"
    }
   ],
   "source": [
    "build_freq_dict('try something.')"
   ]
  },
  {
   "cell_type": "markdown",
   "metadata": {},
   "source": [
    "## Converting the Dataset\n",
    "We can now enrich the dataset with a numerical representation of the sentence. We use the utility functions and we call this new version: `dataset_num`"
   ]
  },
  {
   "cell_type": "code",
   "execution_count": 44,
   "metadata": {},
   "outputs": [
    {
     "data": {
      "text/plain": [
       "[('8262671', 'eng', \"Where are Algeria's embezzled funds?\"),\n",
       " ('9211583', 'eng', 'Beware of the dog.')]"
      ]
     },
     "execution_count": 44,
     "metadata": {},
     "output_type": "execute_result"
    }
   ],
   "source": [
    "dataset[:2]"
   ]
  },
  {
   "cell_type": "code",
   "execution_count": 62,
   "metadata": {},
   "outputs": [
    {
     "data": {
      "text/plain": [
       "30"
      ]
     },
     "execution_count": 62,
     "metadata": {},
     "output_type": "execute_result"
    }
   ],
   "source": [
    "#dataset[2]\n",
    "len(build_freq_dict(dataset[2][2]))"
   ]
  },
  {
   "cell_type": "code",
   "execution_count": 46,
   "metadata": {},
   "outputs": [
    {
     "name": "stderr",
     "output_type": "stream",
     "text": [
      "100%|██████████| 300000/300000 [01:00<00:00, 4987.87it/s]\n"
     ]
    }
   ],
   "source": [
    "dataset_num = []\n",
    "for datapoint in tqdm(dataset):\n",
    "    dataset_num += [list(datapoint) + [build_freq_dict(datapoint[2])]]"
   ]
  },
  {
   "cell_type": "code",
   "execution_count": 47,
   "metadata": {},
   "outputs": [
    {
     "data": {
      "text/plain": [
       "30"
      ]
     },
     "execution_count": 47,
     "metadata": {},
     "output_type": "execute_result"
    }
   ],
   "source": [
    "len(dataset_num[2][3])"
   ]
  },
  {
   "cell_type": "code",
   "execution_count": 48,
   "metadata": {},
   "outputs": [
    {
     "data": {
      "text/plain": [
       "[['8262671',\n",
       "  'eng',\n",
       "  \"Where are Algeria's embezzled funds?\",\n",
       "  {301: 0.027777777777777776,\n",
       "   332: 0.027777777777777776,\n",
       "   32: 0.19444444444444445,\n",
       "   437: 0.08333333333333333,\n",
       "   86: 0.1111111111111111,\n",
       "   234: 0.08333333333333333,\n",
       "   15: 0.05555555555555555,\n",
       "   31: 0.027777777777777776,\n",
       "   233: 0.027777777777777776,\n",
       "   323: 0.027777777777777776,\n",
       "   331: 0.05555555555555555,\n",
       "   100: 0.027777777777777776,\n",
       "   25: 0.027777777777777776,\n",
       "   14: 0.05555555555555555,\n",
       "   371: 0.05555555555555555,\n",
       "   327: 0.027777777777777776,\n",
       "   69: 0.027777777777777776,\n",
       "   310: 0.027777777777777776,\n",
       "   368: 0.027777777777777776,\n",
       "   1337: 0.02857142857142857,\n",
       "   806: 0.02857142857142857,\n",
       "   1066: 0.05714285714285714,\n",
       "   1165: 0.05714285714285714,\n",
       "   995: 0.05714285714285714,\n",
       "   614: 0.05714285714285714,\n",
       "   557: 0.02857142857142857,\n",
       "   640: 0.02857142857142857,\n",
       "   565: 0.02857142857142857,\n",
       "   994: 0.02857142857142857,\n",
       "   1468: 0.02857142857142857,\n",
       "   949: 0.02857142857142857,\n",
       "   1368: 0.02857142857142857,\n",
       "   858: 0.02857142857142857,\n",
       "   1238: 0.02857142857142857,\n",
       "   912: 0.02857142857142857,\n",
       "   654: 0.02857142857142857,\n",
       "   553: 0.02857142857142857,\n",
       "   1362: 0.02857142857142857,\n",
       "   1271: 0.02857142857142857,\n",
       "   729: 0.02857142857142857,\n",
       "   854: 0.02857142857142857,\n",
       "   739: 0.02857142857142857,\n",
       "   1403: 0.02857142857142857,\n",
       "   774: 0.02857142857142857,\n",
       "   1547: 0.02857142857142857,\n",
       "   1521: 0.02857142857142857,\n",
       "   755: 0.02857142857142857,\n",
       "   804: 0.02857142857142857,\n",
       "   750: 0.02857142857142857,\n",
       "   824: 0.02857142857142857,\n",
       "   1899: 0.029411764705882353,\n",
       "   2216: 0.029411764705882353,\n",
       "   1921: 0.029411764705882353,\n",
       "   2392: 0.058823529411764705,\n",
       "   2302: 0.058823529411764705,\n",
       "   1567: 0.029411764705882353,\n",
       "   2465: 0.029411764705882353,\n",
       "   1754: 0.029411764705882353,\n",
       "   1629: 0.029411764705882353,\n",
       "   1759: 0.058823529411764705,\n",
       "   2119: 0.029411764705882353,\n",
       "   1590: 0.029411764705882353,\n",
       "   1674: 0.029411764705882353,\n",
       "   2379: 0.029411764705882353,\n",
       "   1990: 0.029411764705882353,\n",
       "   2570: 0.029411764705882353,\n",
       "   2171: 0.029411764705882353,\n",
       "   2225: 0.029411764705882353,\n",
       "   1997: 0.029411764705882353,\n",
       "   2077: 0.029411764705882353,\n",
       "   2071: 0.029411764705882353,\n",
       "   2350: 0.029411764705882353,\n",
       "   2065: 0.029411764705882353,\n",
       "   1663: 0.029411764705882353,\n",
       "   1633: 0.029411764705882353,\n",
       "   2514: 0.029411764705882353,\n",
       "   2492: 0.029411764705882353,\n",
       "   1844: 0.029411764705882353,\n",
       "   1838: 0.029411764705882353,\n",
       "   2410: 0.029411764705882353,\n",
       "   2437: 0.029411764705882353}],\n",
       " ['9211583',\n",
       "  'eng',\n",
       "  'Beware of the dog.',\n",
       "  {25: 0.05555555555555555,\n",
       "   32: 0.16666666666666666,\n",
       "   301: 0.05555555555555555,\n",
       "   234: 0.05555555555555555,\n",
       "   437: 0.05555555555555555,\n",
       "   86: 0.16666666666666666,\n",
       "   97: 0.1111111111111111,\n",
       "   327: 0.05555555555555555,\n",
       "   432: 0.05555555555555555,\n",
       "   332: 0.05555555555555555,\n",
       "   371: 0.05555555555555555,\n",
       "   31: 0.05555555555555555,\n",
       "   442: 0.05555555555555555,\n",
       "   1362: 0.058823529411764705,\n",
       "   1274: 0.058823529411764705,\n",
       "   678: 0.058823529411764705,\n",
       "   557: 0.058823529411764705,\n",
       "   1165: 0.058823529411764705,\n",
       "   995: 0.11764705882352941,\n",
       "   1208: 0.058823529411764705,\n",
       "   1460: 0.058823529411764705,\n",
       "   522: 0.058823529411764705,\n",
       "   860: 0.058823529411764705,\n",
       "   1048: 0.058823529411764705,\n",
       "   806: 0.058823529411764705,\n",
       "   677: 0.058823529411764705,\n",
       "   1081: 0.058823529411764705,\n",
       "   1493: 0.058823529411764705,\n",
       "   1206: 0.058823529411764705,\n",
       "   2580: 0.0625,\n",
       "   1576: 0.0625,\n",
       "   1903: 0.0625,\n",
       "   2465: 0.0625,\n",
       "   2392: 0.0625,\n",
       "   2012: 0.0625,\n",
       "   2560: 0.0625,\n",
       "   2505: 0.0625,\n",
       "   2302: 0.0625,\n",
       "   2395: 0.0625,\n",
       "   2368: 0.0625,\n",
       "   2109: 0.0625,\n",
       "   2204: 0.0625,\n",
       "   1919: 0.0625,\n",
       "   2150: 0.0625,\n",
       "   1869: 0.0625}]]"
      ]
     },
     "execution_count": 48,
     "metadata": {},
     "output_type": "execute_result"
    }
   ],
   "source": [
    "dataset_num[:2]"
   ]
  },
  {
   "cell_type": "code",
   "execution_count": 109,
   "metadata": {},
   "outputs": [
    {
     "data": {
      "text/plain": [
       "{25: 0.05555555555555555,\n",
       " 32: 0.16666666666666666,\n",
       " 301: 0.05555555555555555,\n",
       " 234: 0.05555555555555555,\n",
       " 437: 0.05555555555555555,\n",
       " 86: 0.16666666666666666,\n",
       " 97: 0.1111111111111111,\n",
       " 327: 0.05555555555555555,\n",
       " 432: 0.05555555555555555,\n",
       " 332: 0.05555555555555555,\n",
       " 371: 0.05555555555555555,\n",
       " 31: 0.05555555555555555,\n",
       " 442: 0.05555555555555555,\n",
       " 1362: 0.058823529411764705,\n",
       " 1274: 0.058823529411764705,\n",
       " 678: 0.058823529411764705,\n",
       " 557: 0.058823529411764705,\n",
       " 1165: 0.058823529411764705,\n",
       " 995: 0.11764705882352941,\n",
       " 1208: 0.058823529411764705,\n",
       " 1460: 0.058823529411764705,\n",
       " 522: 0.058823529411764705,\n",
       " 860: 0.058823529411764705,\n",
       " 1048: 0.058823529411764705,\n",
       " 806: 0.058823529411764705,\n",
       " 677: 0.058823529411764705,\n",
       " 1081: 0.058823529411764705,\n",
       " 1493: 0.058823529411764705,\n",
       " 1206: 0.058823529411764705,\n",
       " 2580: 0.0625,\n",
       " 1576: 0.0625,\n",
       " 1903: 0.0625,\n",
       " 2465: 0.0625,\n",
       " 2392: 0.0625,\n",
       " 2012: 0.0625,\n",
       " 2560: 0.0625,\n",
       " 2505: 0.0625,\n",
       " 2302: 0.0625,\n",
       " 2395: 0.0625,\n",
       " 2368: 0.0625,\n",
       " 2109: 0.0625,\n",
       " 2204: 0.0625,\n",
       " 1919: 0.0625,\n",
       " 2150: 0.0625,\n",
       " 1869: 0.0625}"
      ]
     },
     "execution_count": 109,
     "metadata": {},
     "output_type": "execute_result"
    }
   ],
   "source": [
    "dataset_num[1][3]"
   ]
  },
  {
   "cell_type": "code",
   "execution_count": 44,
   "metadata": {},
   "outputs": [
    {
     "data": {
      "text/plain": [
       "[['8262671',\n",
       "  'eng',\n",
       "  \"Where are Algeria's embezzled funds?\",\n",
       "  {301: 0.027777777777777776,\n",
       "   332: 0.027777777777777776,\n",
       "   32: 0.19444444444444445,\n",
       "   437: 0.08333333333333333,\n",
       "   86: 0.1111111111111111,\n",
       "   234: 0.08333333333333333,\n",
       "   15: 0.05555555555555555,\n",
       "   31: 0.027777777777777776,\n",
       "   233: 0.027777777777777776,\n",
       "   323: 0.027777777777777776,\n",
       "   331: 0.05555555555555555,\n",
       "   100: 0.027777777777777776,\n",
       "   25: 0.027777777777777776,\n",
       "   14: 0.05555555555555555,\n",
       "   371: 0.05555555555555555,\n",
       "   327: 0.027777777777777776,\n",
       "   69: 0.027777777777777776,\n",
       "   310: 0.027777777777777776,\n",
       "   368: 0.027777777777777776,\n",
       "   1337: 0.02857142857142857,\n",
       "   806: 0.02857142857142857,\n",
       "   1066: 0.05714285714285714,\n",
       "   1165: 0.05714285714285714,\n",
       "   995: 0.05714285714285714,\n",
       "   614: 0.05714285714285714,\n",
       "   557: 0.02857142857142857,\n",
       "   640: 0.02857142857142857,\n",
       "   565: 0.02857142857142857,\n",
       "   994: 0.02857142857142857,\n",
       "   1468: 0.02857142857142857,\n",
       "   949: 0.02857142857142857,\n",
       "   1368: 0.02857142857142857,\n",
       "   858: 0.02857142857142857,\n",
       "   1238: 0.02857142857142857,\n",
       "   912: 0.02857142857142857,\n",
       "   654: 0.02857142857142857,\n",
       "   553: 0.02857142857142857,\n",
       "   1362: 0.02857142857142857,\n",
       "   1271: 0.02857142857142857,\n",
       "   729: 0.02857142857142857,\n",
       "   854: 0.02857142857142857,\n",
       "   739: 0.02857142857142857,\n",
       "   1403: 0.02857142857142857,\n",
       "   774: 0.02857142857142857,\n",
       "   1547: 0.02857142857142857,\n",
       "   1521: 0.02857142857142857,\n",
       "   755: 0.02857142857142857,\n",
       "   804: 0.02857142857142857,\n",
       "   750: 0.02857142857142857,\n",
       "   824: 0.02857142857142857,\n",
       "   1899: 0.029411764705882353,\n",
       "   2216: 0.029411764705882353,\n",
       "   1921: 0.029411764705882353,\n",
       "   2392: 0.058823529411764705,\n",
       "   2302: 0.058823529411764705,\n",
       "   1567: 0.029411764705882353,\n",
       "   2465: 0.029411764705882353,\n",
       "   1754: 0.029411764705882353,\n",
       "   1629: 0.029411764705882353,\n",
       "   1759: 0.058823529411764705,\n",
       "   2119: 0.029411764705882353,\n",
       "   1590: 0.029411764705882353,\n",
       "   1674: 0.029411764705882353,\n",
       "   2379: 0.029411764705882353,\n",
       "   1990: 0.029411764705882353,\n",
       "   2570: 0.029411764705882353,\n",
       "   2171: 0.029411764705882353,\n",
       "   2225: 0.029411764705882353,\n",
       "   1997: 0.029411764705882353,\n",
       "   2077: 0.029411764705882353,\n",
       "   2071: 0.029411764705882353,\n",
       "   2350: 0.029411764705882353,\n",
       "   2065: 0.029411764705882353,\n",
       "   1663: 0.029411764705882353,\n",
       "   1633: 0.029411764705882353,\n",
       "   2514: 0.029411764705882353,\n",
       "   2492: 0.029411764705882353,\n",
       "   1844: 0.029411764705882353,\n",
       "   1838: 0.029411764705882353,\n",
       "   2410: 0.029411764705882353,\n",
       "   2437: 0.029411764705882353}],\n",
       " ['9211583',\n",
       "  'eng',\n",
       "  'Beware of the dog.',\n",
       "  {25: 0.05555555555555555,\n",
       "   32: 0.16666666666666666,\n",
       "   301: 0.05555555555555555,\n",
       "   234: 0.05555555555555555,\n",
       "   437: 0.05555555555555555,\n",
       "   86: 0.16666666666666666,\n",
       "   97: 0.1111111111111111,\n",
       "   327: 0.05555555555555555,\n",
       "   432: 0.05555555555555555,\n",
       "   332: 0.05555555555555555,\n",
       "   371: 0.05555555555555555,\n",
       "   31: 0.05555555555555555,\n",
       "   442: 0.05555555555555555,\n",
       "   1362: 0.058823529411764705,\n",
       "   1274: 0.058823529411764705,\n",
       "   678: 0.058823529411764705,\n",
       "   557: 0.058823529411764705,\n",
       "   1165: 0.058823529411764705,\n",
       "   995: 0.11764705882352941,\n",
       "   1208: 0.058823529411764705,\n",
       "   1460: 0.058823529411764705,\n",
       "   522: 0.058823529411764705,\n",
       "   860: 0.058823529411764705,\n",
       "   1048: 0.058823529411764705,\n",
       "   806: 0.058823529411764705,\n",
       "   677: 0.058823529411764705,\n",
       "   1081: 0.058823529411764705,\n",
       "   1493: 0.058823529411764705,\n",
       "   1206: 0.058823529411764705,\n",
       "   2580: 0.0625,\n",
       "   1576: 0.0625,\n",
       "   1903: 0.0625,\n",
       "   2465: 0.0625,\n",
       "   2392: 0.0625,\n",
       "   2012: 0.0625,\n",
       "   2560: 0.0625,\n",
       "   2505: 0.0625,\n",
       "   2302: 0.0625,\n",
       "   2395: 0.0625,\n",
       "   2368: 0.0625,\n",
       "   2109: 0.0625,\n",
       "   2204: 0.0625,\n",
       "   1919: 0.0625,\n",
       "   2150: 0.0625,\n",
       "   1869: 0.0625}]]"
      ]
     },
     "execution_count": 44,
     "metadata": {},
     "output_type": "execute_result"
    }
   ],
   "source": [
    "dataset_num[:2]"
   ]
  },
  {
   "cell_type": "code",
   "execution_count": 58,
   "metadata": {},
   "outputs": [
    {
     "data": {
      "text/plain": [
       "62"
      ]
     },
     "execution_count": 58,
     "metadata": {},
     "output_type": "execute_result"
    }
   ],
   "source": [
    "len(dataset_num[5][3])"
   ]
  },
  {
   "cell_type": "markdown",
   "metadata": {},
   "source": [
    "## Programming: Building ${X}$"
   ]
  },
  {
   "cell_type": "markdown",
   "metadata": {},
   "source": [
    "You will now build the ${X}$ matrix."
   ]
  },
  {
   "cell_type": "markdown",
   "metadata": {},
   "source": [
    "### Vectorizing the features"
   ]
  },
  {
   "cell_type": "markdown",
   "metadata": {},
   "source": [
    "The CLD3 architecture uses embeddings. In this lab, we will simplify it and we will use a feature vector instead consisting of the character frequencies. For example, you will represent the text:\n",
    "\n",
    "`\"Let's try something.\"`\n",
    "\n",
    "with:\n",
    "\n",
    "`{'l': 0.05, 'e': 0.1, 't': 0.15, \"'\": 0.05, 's': 0.1, ' ': 0.1, \n",
    " 'r': 0.05, 'y': 0.05, 'o': 0.05, 'm': 0.05, 'h': 0.05, 'i': 0.05, \n",
    " 'n': 0.05, 'g': 0.05, '.': 0.05}`\n",
    "\n",
    "Note that we used characters and not codes to make it more legible.\n",
    "\n",
    "To create the ${X}$ matrix, we need to transform the dictionaries of `dataset_num` into numerical vectors. The `DictVectorizer` class from the scikit-learn library, see here [https://scikit-learn.org/stable/modules/generated/sklearn.feature_extraction.DictVectorizer.html], has two methods, `fit()` and `transform()`, and a combination of both `fit_transform()` to convert dictionaries into such vectors."
   ]
  },
  {
   "cell_type": "markdown",
   "metadata": {},
   "source": [
    "You will now write the code to:\n",
    "\n",
    "1. Extract the hash code frequency dictionaries from `dataset_num` corresponding to its 3rd index;\n",
    "2. Convert the list of dictionaries into an ${X}$ matrix using `DictVectorizer`."
   ]
  },
  {
   "cell_type": "markdown",
   "metadata": {},
   "source": [
    "#### Extracting the character frequencies"
   ]
  },
  {
   "cell_type": "markdown",
   "metadata": {},
   "source": [
    "Produce a new list of datapoints with the $n$-grams. Each item in this list will be a dictionary. You will call it `X_cat`"
   ]
  },
  {
   "cell_type": "code",
   "execution_count": 49,
   "metadata": {},
   "outputs": [],
   "source": [
    "# Write your code here\n",
    "X_cat = []\n",
    "for element in dataset_num:\n",
    "    X_cat.append(element[3])"
   ]
  },
  {
   "cell_type": "code",
   "execution_count": 50,
   "metadata": {},
   "outputs": [
    {
     "data": {
      "text/plain": [
       "300000"
      ]
     },
     "execution_count": 50,
     "metadata": {},
     "output_type": "execute_result"
    }
   ],
   "source": [
    "len(X_cat)"
   ]
  },
  {
   "cell_type": "code",
   "execution_count": 53,
   "metadata": {},
   "outputs": [
    {
     "data": {
      "text/plain": [
       "81"
      ]
     },
     "execution_count": 53,
     "metadata": {},
     "output_type": "execute_result"
    }
   ],
   "source": [
    "len(X_cat[0])"
   ]
  },
  {
   "cell_type": "code",
   "execution_count": 51,
   "metadata": {},
   "outputs": [
    {
     "data": {
      "text/plain": [
       "{301: 0.027777777777777776,\n",
       " 332: 0.027777777777777776,\n",
       " 32: 0.19444444444444445,\n",
       " 437: 0.08333333333333333,\n",
       " 86: 0.1111111111111111,\n",
       " 234: 0.08333333333333333,\n",
       " 15: 0.05555555555555555,\n",
       " 31: 0.027777777777777776,\n",
       " 233: 0.027777777777777776,\n",
       " 323: 0.027777777777777776,\n",
       " 331: 0.05555555555555555,\n",
       " 100: 0.027777777777777776,\n",
       " 25: 0.027777777777777776,\n",
       " 14: 0.05555555555555555,\n",
       " 371: 0.05555555555555555,\n",
       " 327: 0.027777777777777776,\n",
       " 69: 0.027777777777777776,\n",
       " 310: 0.027777777777777776,\n",
       " 368: 0.027777777777777776,\n",
       " 1337: 0.02857142857142857,\n",
       " 806: 0.02857142857142857,\n",
       " 1066: 0.05714285714285714,\n",
       " 1165: 0.05714285714285714,\n",
       " 995: 0.05714285714285714,\n",
       " 614: 0.05714285714285714,\n",
       " 557: 0.02857142857142857,\n",
       " 640: 0.02857142857142857,\n",
       " 565: 0.02857142857142857,\n",
       " 994: 0.02857142857142857,\n",
       " 1468: 0.02857142857142857,\n",
       " 949: 0.02857142857142857,\n",
       " 1368: 0.02857142857142857,\n",
       " 858: 0.02857142857142857,\n",
       " 1238: 0.02857142857142857,\n",
       " 912: 0.02857142857142857,\n",
       " 654: 0.02857142857142857,\n",
       " 553: 0.02857142857142857,\n",
       " 1362: 0.02857142857142857,\n",
       " 1271: 0.02857142857142857,\n",
       " 729: 0.02857142857142857,\n",
       " 854: 0.02857142857142857,\n",
       " 739: 0.02857142857142857,\n",
       " 1403: 0.02857142857142857,\n",
       " 774: 0.02857142857142857,\n",
       " 1547: 0.02857142857142857,\n",
       " 1521: 0.02857142857142857,\n",
       " 755: 0.02857142857142857,\n",
       " 804: 0.02857142857142857,\n",
       " 750: 0.02857142857142857,\n",
       " 824: 0.02857142857142857,\n",
       " 1899: 0.029411764705882353,\n",
       " 2216: 0.029411764705882353,\n",
       " 1921: 0.029411764705882353,\n",
       " 2392: 0.058823529411764705,\n",
       " 2302: 0.058823529411764705,\n",
       " 1567: 0.029411764705882353,\n",
       " 2465: 0.029411764705882353,\n",
       " 1754: 0.029411764705882353,\n",
       " 1629: 0.029411764705882353,\n",
       " 1759: 0.058823529411764705,\n",
       " 2119: 0.029411764705882353,\n",
       " 1590: 0.029411764705882353,\n",
       " 1674: 0.029411764705882353,\n",
       " 2379: 0.029411764705882353,\n",
       " 1990: 0.029411764705882353,\n",
       " 2570: 0.029411764705882353,\n",
       " 2171: 0.029411764705882353,\n",
       " 2225: 0.029411764705882353,\n",
       " 1997: 0.029411764705882353,\n",
       " 2077: 0.029411764705882353,\n",
       " 2071: 0.029411764705882353,\n",
       " 2350: 0.029411764705882353,\n",
       " 2065: 0.029411764705882353,\n",
       " 1663: 0.029411764705882353,\n",
       " 1633: 0.029411764705882353,\n",
       " 2514: 0.029411764705882353,\n",
       " 2492: 0.029411764705882353,\n",
       " 1844: 0.029411764705882353,\n",
       " 1838: 0.029411764705882353,\n",
       " 2410: 0.029411764705882353,\n",
       " 2437: 0.029411764705882353}"
      ]
     },
     "execution_count": 51,
     "metadata": {},
     "output_type": "execute_result"
    }
   ],
   "source": [
    "X_cat[0]"
   ]
  },
  {
   "cell_type": "code",
   "execution_count": 46,
   "metadata": {},
   "outputs": [
    {
     "data": {
      "text/plain": [
       "{301: 0.027777777777777776,\n",
       " 332: 0.027777777777777776,\n",
       " 32: 0.19444444444444445,\n",
       " 437: 0.08333333333333333,\n",
       " 86: 0.1111111111111111,\n",
       " 234: 0.08333333333333333,\n",
       " 15: 0.05555555555555555,\n",
       " 31: 0.027777777777777776,\n",
       " 233: 0.027777777777777776,\n",
       " 323: 0.027777777777777776,\n",
       " 331: 0.05555555555555555,\n",
       " 100: 0.027777777777777776,\n",
       " 25: 0.027777777777777776,\n",
       " 14: 0.05555555555555555,\n",
       " 371: 0.05555555555555555,\n",
       " 327: 0.027777777777777776,\n",
       " 69: 0.027777777777777776,\n",
       " 310: 0.027777777777777776,\n",
       " 368: 0.027777777777777776,\n",
       " 1337: 0.02857142857142857,\n",
       " 806: 0.02857142857142857,\n",
       " 1066: 0.05714285714285714,\n",
       " 1165: 0.05714285714285714,\n",
       " 995: 0.05714285714285714,\n",
       " 614: 0.05714285714285714,\n",
       " 557: 0.02857142857142857,\n",
       " 640: 0.02857142857142857,\n",
       " 565: 0.02857142857142857,\n",
       " 994: 0.02857142857142857,\n",
       " 1468: 0.02857142857142857,\n",
       " 949: 0.02857142857142857,\n",
       " 1368: 0.02857142857142857,\n",
       " 858: 0.02857142857142857,\n",
       " 1238: 0.02857142857142857,\n",
       " 912: 0.02857142857142857,\n",
       " 654: 0.02857142857142857,\n",
       " 553: 0.02857142857142857,\n",
       " 1362: 0.02857142857142857,\n",
       " 1271: 0.02857142857142857,\n",
       " 729: 0.02857142857142857,\n",
       " 854: 0.02857142857142857,\n",
       " 739: 0.02857142857142857,\n",
       " 1403: 0.02857142857142857,\n",
       " 774: 0.02857142857142857,\n",
       " 1547: 0.02857142857142857,\n",
       " 1521: 0.02857142857142857,\n",
       " 755: 0.02857142857142857,\n",
       " 804: 0.02857142857142857,\n",
       " 750: 0.02857142857142857,\n",
       " 824: 0.02857142857142857,\n",
       " 1899: 0.029411764705882353,\n",
       " 2216: 0.029411764705882353,\n",
       " 1921: 0.029411764705882353,\n",
       " 2392: 0.058823529411764705,\n",
       " 2302: 0.058823529411764705,\n",
       " 1567: 0.029411764705882353,\n",
       " 2465: 0.029411764705882353,\n",
       " 1754: 0.029411764705882353,\n",
       " 1629: 0.029411764705882353,\n",
       " 1759: 0.058823529411764705,\n",
       " 2119: 0.029411764705882353,\n",
       " 1590: 0.029411764705882353,\n",
       " 1674: 0.029411764705882353,\n",
       " 2379: 0.029411764705882353,\n",
       " 1990: 0.029411764705882353,\n",
       " 2570: 0.029411764705882353,\n",
       " 2171: 0.029411764705882353,\n",
       " 2225: 0.029411764705882353,\n",
       " 1997: 0.029411764705882353,\n",
       " 2077: 0.029411764705882353,\n",
       " 2071: 0.029411764705882353,\n",
       " 2350: 0.029411764705882353,\n",
       " 2065: 0.029411764705882353,\n",
       " 1663: 0.029411764705882353,\n",
       " 1633: 0.029411764705882353,\n",
       " 2514: 0.029411764705882353,\n",
       " 2492: 0.029411764705882353,\n",
       " 1844: 0.029411764705882353,\n",
       " 1838: 0.029411764705882353,\n",
       " 2410: 0.029411764705882353,\n",
       " 2437: 0.029411764705882353}"
      ]
     },
     "execution_count": 46,
     "metadata": {},
     "output_type": "execute_result"
    }
   ],
   "source": [
    "X_cat[0]"
   ]
  },
  {
   "cell_type": "markdown",
   "metadata": {},
   "source": [
    "#### Vectorize `X_cat`"
   ]
  },
  {
   "cell_type": "markdown",
   "metadata": {},
   "source": [
    "Convert you `X_cat` matrix into a numerical representation using `DictVectorizer`: https://scikit-learn.org/stable/modules/generated/sklearn.feature_extraction.DictVectorizer.html. You will set the `sparse` argument to False. Call the result `X`."
   ]
  },
  {
   "cell_type": "code",
   "execution_count": 90,
   "metadata": {},
   "outputs": [],
   "source": [
    "# Write your code here\n",
    "from sklearn.feature_extraction import DictVectorizer\n",
    "\n",
    "# Create a DictVectorizer object with the sparse argument set to False.\n",
    "vectorizer = DictVectorizer(sparse=False)\n",
    "\n",
    "# Transform the X_cat matrix using the DictVectorizer object.\n",
    "X = vectorizer.fit_transform(X_cat)"
   ]
  },
  {
   "cell_type": "code",
   "execution_count": 91,
   "metadata": {},
   "outputs": [
    {
     "data": {
      "text/plain": [
       "(300000, 2583)"
      ]
     },
     "execution_count": 91,
     "metadata": {},
     "output_type": "execute_result"
    }
   ],
   "source": [
    "X.shape"
   ]
  },
  {
   "cell_type": "code",
   "execution_count": 48,
   "metadata": {},
   "outputs": [
    {
     "data": {
      "text/plain": [
       "(300000, 2583)"
      ]
     },
     "execution_count": 48,
     "metadata": {},
     "output_type": "execute_result"
    }
   ],
   "source": [
    "X.shape"
   ]
  },
  {
   "cell_type": "code",
   "execution_count": 63,
   "metadata": {},
   "outputs": [
    {
     "data": {
      "text/plain": [
       "array([[0.    , 0.    , 0.    , ..., 0.    , 0.    , 0.    ],\n",
       "       [0.    , 0.    , 0.    , ..., 0.0625, 0.    , 0.    ],\n",
       "       [0.    , 0.    , 0.    , ..., 0.    , 0.    , 0.    ],\n",
       "       [0.    , 0.    , 0.    , ..., 0.    , 0.    , 0.    ],\n",
       "       [0.    , 0.    , 0.    , ..., 0.    , 0.    , 0.    ]])"
      ]
     },
     "execution_count": 63,
     "metadata": {},
     "output_type": "execute_result"
    }
   ],
   "source": [
    "X[:5]"
   ]
  },
  {
   "cell_type": "code",
   "execution_count": 49,
   "metadata": {},
   "outputs": [
    {
     "data": {
      "text/plain": [
       "array([[0.    , 0.    , 0.    , ..., 0.    , 0.    , 0.    ],\n",
       "       [0.    , 0.    , 0.    , ..., 0.0625, 0.    , 0.    ],\n",
       "       [0.    , 0.    , 0.    , ..., 0.    , 0.    , 0.    ],\n",
       "       [0.    , 0.    , 0.    , ..., 0.    , 0.    , 0.    ],\n",
       "       [0.    , 0.    , 0.    , ..., 0.    , 0.    , 0.    ]])"
      ]
     },
     "execution_count": 49,
     "metadata": {},
     "output_type": "execute_result"
    }
   ],
   "source": [
    "X[:5]"
   ]
  },
  {
   "cell_type": "markdown",
   "metadata": {},
   "source": [
    "## Programming: Building $\\mathbf{y}$"
   ]
  },
  {
   "cell_type": "markdown",
   "metadata": {},
   "source": [
    "You will now convert the list of language symbols into a $\\mathbf{y}$ vector"
   ]
  },
  {
   "cell_type": "markdown",
   "metadata": {},
   "source": [
    "Extract the language symbols from `dataset_small_feat` and call the resulting list `y_cat`"
   ]
  },
  {
   "cell_type": "code",
   "execution_count": 64,
   "metadata": {},
   "outputs": [],
   "source": [
    "# Write your code here\n",
    "y_cat = []\n",
    "for element in dataset_num:\n",
    "    y_cat.append(element[1])"
   ]
  },
  {
   "cell_type": "code",
   "execution_count": 65,
   "metadata": {},
   "outputs": [
    {
     "data": {
      "text/plain": [
       "['eng', 'eng', 'cmn', 'fra', 'eng']"
      ]
     },
     "execution_count": 65,
     "metadata": {},
     "output_type": "execute_result"
    }
   ],
   "source": [
    "y_cat[:5]"
   ]
  },
  {
   "cell_type": "code",
   "execution_count": 51,
   "metadata": {},
   "outputs": [
    {
     "data": {
      "text/plain": [
       "['eng', 'eng', 'cmn', 'fra', 'eng']"
      ]
     },
     "execution_count": 51,
     "metadata": {},
     "output_type": "execute_result"
    }
   ],
   "source": [
    "y_cat[:5]"
   ]
  },
  {
   "cell_type": "markdown",
   "metadata": {},
   "source": [
    "Extract the set of language symbols and name it `y_symbols`. Then build two indices mapping the symbols to integers and the integers to symbols. Both indices will be dictionaries that you will call: `lang2idx`and `idx2lang`. Such a conversion is not necessary with sklearn. We do it because many other many machine-learning toolkits (keras or pytorch) require a numerical $\\mathbf{y}$ vector and to learn how to carry out this conversion."
   ]
  },
  {
   "cell_type": "code",
   "execution_count": 96,
   "metadata": {},
   "outputs": [],
   "source": [
    "# Write your code here\n",
    "y_symbols = sorted(set(y_cat))\n",
    "\n",
    "# Create a dictionary mapping the symbols to integers.\n",
    "lang2idx = {}\n",
    "for i, symbol in enumerate(y_symbols):\n",
    "    lang2idx[symbol] = i\n",
    "\n",
    "# Create a dictionary mapping the integers to symbols.\n",
    "idx2lang = {i: symbol for i, symbol in enumerate(y_symbols)}"
   ]
  },
  {
   "cell_type": "code",
   "execution_count": 97,
   "metadata": {},
   "outputs": [
    {
     "data": {
      "text/plain": [
       "['cmn', 'dan', 'eng', 'fra', 'jpn', 'swe']"
      ]
     },
     "execution_count": 97,
     "metadata": {},
     "output_type": "execute_result"
    }
   ],
   "source": [
    "y_symbols"
   ]
  },
  {
   "cell_type": "code",
   "execution_count": 98,
   "metadata": {},
   "outputs": [
    {
     "data": {
      "text/plain": [
       "{0: 'cmn', 1: 'dan', 2: 'eng', 3: 'fra', 4: 'jpn', 5: 'swe'}"
      ]
     },
     "execution_count": 98,
     "metadata": {},
     "output_type": "execute_result"
    }
   ],
   "source": [
    "idx2lang"
   ]
  },
  {
   "cell_type": "code",
   "execution_count": 99,
   "metadata": {},
   "outputs": [
    {
     "data": {
      "text/plain": [
       "{'cmn': 0, 'dan': 1, 'eng': 2, 'fra': 3, 'jpn': 4, 'swe': 5}"
      ]
     },
     "execution_count": 99,
     "metadata": {},
     "output_type": "execute_result"
    }
   ],
   "source": [
    "lang2idx"
   ]
  },
  {
   "cell_type": "markdown",
   "metadata": {},
   "source": [
    "Convert your `y_cat` vector into a numerical vector. Call this vector `y`."
   ]
  },
  {
   "cell_type": "code",
   "execution_count": 100,
   "metadata": {},
   "outputs": [],
   "source": [
    "# Write your code here\n",
    "y = []\n",
    "for element in y_cat:\n",
    "    y.append(lang2idx[element])"
   ]
  },
  {
   "cell_type": "code",
   "execution_count": 70,
   "metadata": {},
   "outputs": [
    {
     "data": {
      "text/plain": [
       "[3, 3, 4, 5, 3]"
      ]
     },
     "execution_count": 70,
     "metadata": {},
     "output_type": "execute_result"
    }
   ],
   "source": [
    "y[:5]"
   ]
  },
  {
   "cell_type": "markdown",
   "metadata": {},
   "source": [
    "## Programming: Building the Model"
   ]
  },
  {
   "cell_type": "markdown",
   "metadata": {},
   "source": [
    "Create a neural network using sklearn with a hidden layer of 50 nodes and a relu activation layer: https://scikit-learn.org/stable/modules/neural_networks_supervised.html. Set the maximal number of iterations to 5, in the beginning, and verbose to True. Use the default values for the rest. You will call your classifier `clf`"
   ]
  },
  {
   "cell_type": "code",
   "execution_count": 101,
   "metadata": {},
   "outputs": [],
   "source": [
    "# Write your code here\n",
    "from sklearn.neural_network import MLPClassifier\n",
    "\n",
    "# Create a MLPClassifier object with a hidden layer of 50 nodes and a relu activation layer.\n",
    "clf = MLPClassifier(hidden_layer_sizes=(50,), activation='relu', max_iter=5, verbose=True)"
   ]
  },
  {
   "cell_type": "code",
   "execution_count": 72,
   "metadata": {},
   "outputs": [
    {
     "data": {
      "text/html": [
       "<style>#sk-container-id-1 {color: black;background-color: white;}#sk-container-id-1 pre{padding: 0;}#sk-container-id-1 div.sk-toggleable {background-color: white;}#sk-container-id-1 label.sk-toggleable__label {cursor: pointer;display: block;width: 100%;margin-bottom: 0;padding: 0.3em;box-sizing: border-box;text-align: center;}#sk-container-id-1 label.sk-toggleable__label-arrow:before {content: \"▸\";float: left;margin-right: 0.25em;color: #696969;}#sk-container-id-1 label.sk-toggleable__label-arrow:hover:before {color: black;}#sk-container-id-1 div.sk-estimator:hover label.sk-toggleable__label-arrow:before {color: black;}#sk-container-id-1 div.sk-toggleable__content {max-height: 0;max-width: 0;overflow: hidden;text-align: left;background-color: #f0f8ff;}#sk-container-id-1 div.sk-toggleable__content pre {margin: 0.2em;color: black;border-radius: 0.25em;background-color: #f0f8ff;}#sk-container-id-1 input.sk-toggleable__control:checked~div.sk-toggleable__content {max-height: 200px;max-width: 100%;overflow: auto;}#sk-container-id-1 input.sk-toggleable__control:checked~label.sk-toggleable__label-arrow:before {content: \"▾\";}#sk-container-id-1 div.sk-estimator input.sk-toggleable__control:checked~label.sk-toggleable__label {background-color: #d4ebff;}#sk-container-id-1 div.sk-label input.sk-toggleable__control:checked~label.sk-toggleable__label {background-color: #d4ebff;}#sk-container-id-1 input.sk-hidden--visually {border: 0;clip: rect(1px 1px 1px 1px);clip: rect(1px, 1px, 1px, 1px);height: 1px;margin: -1px;overflow: hidden;padding: 0;position: absolute;width: 1px;}#sk-container-id-1 div.sk-estimator {font-family: monospace;background-color: #f0f8ff;border: 1px dotted black;border-radius: 0.25em;box-sizing: border-box;margin-bottom: 0.5em;}#sk-container-id-1 div.sk-estimator:hover {background-color: #d4ebff;}#sk-container-id-1 div.sk-parallel-item::after {content: \"\";width: 100%;border-bottom: 1px solid gray;flex-grow: 1;}#sk-container-id-1 div.sk-label:hover label.sk-toggleable__label {background-color: #d4ebff;}#sk-container-id-1 div.sk-serial::before {content: \"\";position: absolute;border-left: 1px solid gray;box-sizing: border-box;top: 0;bottom: 0;left: 50%;z-index: 0;}#sk-container-id-1 div.sk-serial {display: flex;flex-direction: column;align-items: center;background-color: white;padding-right: 0.2em;padding-left: 0.2em;position: relative;}#sk-container-id-1 div.sk-item {position: relative;z-index: 1;}#sk-container-id-1 div.sk-parallel {display: flex;align-items: stretch;justify-content: center;background-color: white;position: relative;}#sk-container-id-1 div.sk-item::before, #sk-container-id-1 div.sk-parallel-item::before {content: \"\";position: absolute;border-left: 1px solid gray;box-sizing: border-box;top: 0;bottom: 0;left: 50%;z-index: -1;}#sk-container-id-1 div.sk-parallel-item {display: flex;flex-direction: column;z-index: 1;position: relative;background-color: white;}#sk-container-id-1 div.sk-parallel-item:first-child::after {align-self: flex-end;width: 50%;}#sk-container-id-1 div.sk-parallel-item:last-child::after {align-self: flex-start;width: 50%;}#sk-container-id-1 div.sk-parallel-item:only-child::after {width: 0;}#sk-container-id-1 div.sk-dashed-wrapped {border: 1px dashed gray;margin: 0 0.4em 0.5em 0.4em;box-sizing: border-box;padding-bottom: 0.4em;background-color: white;}#sk-container-id-1 div.sk-label label {font-family: monospace;font-weight: bold;display: inline-block;line-height: 1.2em;}#sk-container-id-1 div.sk-label-container {text-align: center;}#sk-container-id-1 div.sk-container {/* jupyter's `normalize.less` sets `[hidden] { display: none; }` but bootstrap.min.css set `[hidden] { display: none !important; }` so we also need the `!important` here to be able to override the default hidden behavior on the sphinx rendered scikit-learn.org. See: https://github.com/scikit-learn/scikit-learn/issues/21755 */display: inline-block !important;position: relative;}#sk-container-id-1 div.sk-text-repr-fallback {display: none;}</style><div id=\"sk-container-id-1\" class=\"sk-top-container\"><div class=\"sk-text-repr-fallback\"><pre>MLPClassifier(hidden_layer_sizes=(50,), max_iter=5, verbose=True)</pre><b>In a Jupyter environment, please rerun this cell to show the HTML representation or trust the notebook. <br />On GitHub, the HTML representation is unable to render, please try loading this page with nbviewer.org.</b></div><div class=\"sk-container\" hidden><div class=\"sk-item\"><div class=\"sk-estimator sk-toggleable\"><input class=\"sk-toggleable__control sk-hidden--visually\" id=\"sk-estimator-id-1\" type=\"checkbox\" checked><label for=\"sk-estimator-id-1\" class=\"sk-toggleable__label sk-toggleable__label-arrow\">MLPClassifier</label><div class=\"sk-toggleable__content\"><pre>MLPClassifier(hidden_layer_sizes=(50,), max_iter=5, verbose=True)</pre></div></div></div></div></div>"
      ],
      "text/plain": [
       "MLPClassifier(hidden_layer_sizes=(50,), max_iter=5, verbose=True)"
      ]
     },
     "execution_count": 72,
     "metadata": {},
     "output_type": "execute_result"
    }
   ],
   "source": [
    "clf"
   ]
  },
  {
   "cell_type": "markdown",
   "metadata": {},
   "source": [
    "### Training and Validation Sets"
   ]
  },
  {
   "cell_type": "markdown",
   "metadata": {},
   "source": [
    "You will now split the dataset into a training and validation sets"
   ]
  },
  {
   "cell_type": "markdown",
   "metadata": {},
   "source": [
    "#### We split the dataset\n",
    "We use a training set of 80% and a validation set of 20%"
   ]
  },
  {
   "cell_type": "code",
   "execution_count": 102,
   "metadata": {},
   "outputs": [],
   "source": [
    "training_examples = int(X.shape[0] * 0.8)\n",
    "\n",
    "X_train = X[:training_examples, :]\n",
    "y_train = y[:training_examples]\n",
    "\n",
    "X_val = X[training_examples:, :]\n",
    "y_val = y[training_examples:]"
   ]
  },
  {
   "cell_type": "markdown",
   "metadata": {
    "tags": []
   },
   "source": [
    "### Fitting the model"
   ]
  },
  {
   "cell_type": "markdown",
   "metadata": {},
   "source": [
    "Fit the model on the training set"
   ]
  },
  {
   "cell_type": "code",
   "execution_count": 103,
   "metadata": {},
   "outputs": [
    {
     "name": "stdout",
     "output_type": "stream",
     "text": [
      "Iteration 1, loss = 0.30376195\n",
      "Iteration 2, loss = 0.04179820\n",
      "Iteration 3, loss = 0.02955730\n",
      "Iteration 4, loss = 0.02454970\n",
      "Iteration 5, loss = 0.02171188\n"
     ]
    },
    {
     "name": "stderr",
     "output_type": "stream",
     "text": [
      "c:\\Users\\dvandang\\AppData\\Local\\Programs\\Python\\Python38\\lib\\site-packages\\sklearn\\neural_network\\_multilayer_perceptron.py:702: ConvergenceWarning: Stochastic Optimizer: Maximum iterations (5) reached and the optimization hasn't converged yet.\n",
      "  warnings.warn(\n"
     ]
    },
    {
     "data": {
      "text/html": [
       "<style>#sk-container-id-3 {color: black;background-color: white;}#sk-container-id-3 pre{padding: 0;}#sk-container-id-3 div.sk-toggleable {background-color: white;}#sk-container-id-3 label.sk-toggleable__label {cursor: pointer;display: block;width: 100%;margin-bottom: 0;padding: 0.3em;box-sizing: border-box;text-align: center;}#sk-container-id-3 label.sk-toggleable__label-arrow:before {content: \"▸\";float: left;margin-right: 0.25em;color: #696969;}#sk-container-id-3 label.sk-toggleable__label-arrow:hover:before {color: black;}#sk-container-id-3 div.sk-estimator:hover label.sk-toggleable__label-arrow:before {color: black;}#sk-container-id-3 div.sk-toggleable__content {max-height: 0;max-width: 0;overflow: hidden;text-align: left;background-color: #f0f8ff;}#sk-container-id-3 div.sk-toggleable__content pre {margin: 0.2em;color: black;border-radius: 0.25em;background-color: #f0f8ff;}#sk-container-id-3 input.sk-toggleable__control:checked~div.sk-toggleable__content {max-height: 200px;max-width: 100%;overflow: auto;}#sk-container-id-3 input.sk-toggleable__control:checked~label.sk-toggleable__label-arrow:before {content: \"▾\";}#sk-container-id-3 div.sk-estimator input.sk-toggleable__control:checked~label.sk-toggleable__label {background-color: #d4ebff;}#sk-container-id-3 div.sk-label input.sk-toggleable__control:checked~label.sk-toggleable__label {background-color: #d4ebff;}#sk-container-id-3 input.sk-hidden--visually {border: 0;clip: rect(1px 1px 1px 1px);clip: rect(1px, 1px, 1px, 1px);height: 1px;margin: -1px;overflow: hidden;padding: 0;position: absolute;width: 1px;}#sk-container-id-3 div.sk-estimator {font-family: monospace;background-color: #f0f8ff;border: 1px dotted black;border-radius: 0.25em;box-sizing: border-box;margin-bottom: 0.5em;}#sk-container-id-3 div.sk-estimator:hover {background-color: #d4ebff;}#sk-container-id-3 div.sk-parallel-item::after {content: \"\";width: 100%;border-bottom: 1px solid gray;flex-grow: 1;}#sk-container-id-3 div.sk-label:hover label.sk-toggleable__label {background-color: #d4ebff;}#sk-container-id-3 div.sk-serial::before {content: \"\";position: absolute;border-left: 1px solid gray;box-sizing: border-box;top: 0;bottom: 0;left: 50%;z-index: 0;}#sk-container-id-3 div.sk-serial {display: flex;flex-direction: column;align-items: center;background-color: white;padding-right: 0.2em;padding-left: 0.2em;position: relative;}#sk-container-id-3 div.sk-item {position: relative;z-index: 1;}#sk-container-id-3 div.sk-parallel {display: flex;align-items: stretch;justify-content: center;background-color: white;position: relative;}#sk-container-id-3 div.sk-item::before, #sk-container-id-3 div.sk-parallel-item::before {content: \"\";position: absolute;border-left: 1px solid gray;box-sizing: border-box;top: 0;bottom: 0;left: 50%;z-index: -1;}#sk-container-id-3 div.sk-parallel-item {display: flex;flex-direction: column;z-index: 1;position: relative;background-color: white;}#sk-container-id-3 div.sk-parallel-item:first-child::after {align-self: flex-end;width: 50%;}#sk-container-id-3 div.sk-parallel-item:last-child::after {align-self: flex-start;width: 50%;}#sk-container-id-3 div.sk-parallel-item:only-child::after {width: 0;}#sk-container-id-3 div.sk-dashed-wrapped {border: 1px dashed gray;margin: 0 0.4em 0.5em 0.4em;box-sizing: border-box;padding-bottom: 0.4em;background-color: white;}#sk-container-id-3 div.sk-label label {font-family: monospace;font-weight: bold;display: inline-block;line-height: 1.2em;}#sk-container-id-3 div.sk-label-container {text-align: center;}#sk-container-id-3 div.sk-container {/* jupyter's `normalize.less` sets `[hidden] { display: none; }` but bootstrap.min.css set `[hidden] { display: none !important; }` so we also need the `!important` here to be able to override the default hidden behavior on the sphinx rendered scikit-learn.org. See: https://github.com/scikit-learn/scikit-learn/issues/21755 */display: inline-block !important;position: relative;}#sk-container-id-3 div.sk-text-repr-fallback {display: none;}</style><div id=\"sk-container-id-3\" class=\"sk-top-container\"><div class=\"sk-text-repr-fallback\"><pre>MLPClassifier(hidden_layer_sizes=(50,), max_iter=5, verbose=True)</pre><b>In a Jupyter environment, please rerun this cell to show the HTML representation or trust the notebook. <br />On GitHub, the HTML representation is unable to render, please try loading this page with nbviewer.org.</b></div><div class=\"sk-container\" hidden><div class=\"sk-item\"><div class=\"sk-estimator sk-toggleable\"><input class=\"sk-toggleable__control sk-hidden--visually\" id=\"sk-estimator-id-3\" type=\"checkbox\" checked><label for=\"sk-estimator-id-3\" class=\"sk-toggleable__label sk-toggleable__label-arrow\">MLPClassifier</label><div class=\"sk-toggleable__content\"><pre>MLPClassifier(hidden_layer_sizes=(50,), max_iter=5, verbose=True)</pre></div></div></div></div></div>"
      ],
      "text/plain": [
       "MLPClassifier(hidden_layer_sizes=(50,), max_iter=5, verbose=True)"
      ]
     },
     "execution_count": 103,
     "metadata": {},
     "output_type": "execute_result"
    }
   ],
   "source": [
    "# Write your code here\n",
    "clf.fit(X_train, y_train)"
   ]
  },
  {
   "cell_type": "markdown",
   "metadata": {},
   "source": [
    "## Predicting"
   ]
  },
  {
   "cell_type": "markdown",
   "metadata": {},
   "source": [
    "Predict the `X_val` languages. You will call the result `y_val_pred`"
   ]
  },
  {
   "cell_type": "code",
   "execution_count": 104,
   "metadata": {},
   "outputs": [],
   "source": [
    "# Write your code here\n",
    "y_val_pred = clf.predict(X_val)"
   ]
  },
  {
   "cell_type": "code",
   "execution_count": 105,
   "metadata": {},
   "outputs": [
    {
     "data": {
      "text/plain": [
       "array([5, 0, 4, 0, 3, 5, 2, 1, 2, 4, 0, 5, 1, 3, 1, 1, 3, 3, 1, 1])"
      ]
     },
     "execution_count": 105,
     "metadata": {},
     "output_type": "execute_result"
    }
   ],
   "source": [
    "y_val_pred[:20]"
   ]
  },
  {
   "cell_type": "code",
   "execution_count": 106,
   "metadata": {},
   "outputs": [
    {
     "data": {
      "text/plain": [
       "[5, 0, 4, 0, 3, 5, 2, 1, 2, 4, 0, 5, 1, 3, 1, 1, 3, 3, 1, 1]"
      ]
     },
     "execution_count": 106,
     "metadata": {},
     "output_type": "execute_result"
    }
   ],
   "source": [
    "y_val[:20]"
   ]
  },
  {
   "cell_type": "markdown",
   "metadata": {},
   "source": [
    "#### Evaluating"
   ]
  },
  {
   "cell_type": "markdown",
   "metadata": {},
   "source": [
    "Use the `accuracy_score()` function to evaluate your model on the validation set"
   ]
  },
  {
   "cell_type": "code",
   "execution_count": 78,
   "metadata": {},
   "outputs": [
    {
     "data": {
      "text/plain": [
       "0.9917"
      ]
     },
     "execution_count": 78,
     "metadata": {},
     "output_type": "execute_result"
    }
   ],
   "source": [
    "# evaluate the model\n",
    "accuracy_score(y_val, y_val_pred)"
   ]
  },
  {
   "cell_type": "code",
   "execution_count": 79,
   "metadata": {},
   "outputs": [
    {
     "name": "stdout",
     "output_type": "stream",
     "text": [
      "              precision    recall  f1-score   support\n",
      "\n",
      "         swe       0.98      0.98      0.98     10001\n",
      "         jpn       1.00      1.00      1.00      9868\n",
      "         dan       0.98      0.98      0.98     10081\n",
      "         eng       0.99      1.00      1.00      9989\n",
      "         cmn       1.00      1.00      1.00     10027\n",
      "         fra       1.00      1.00      1.00     10034\n",
      "\n",
      "    accuracy                           0.99     60000\n",
      "   macro avg       0.99      0.99      0.99     60000\n",
      "weighted avg       0.99      0.99      0.99     60000\n",
      "\n",
      "Micro F1: 0.9917\n",
      "Macro F1 0.9917230530036791\n"
     ]
    }
   ],
   "source": [
    "print(classification_report(y_val, y_val_pred, target_names=y_symbols))\n",
    "print('Micro F1:', f1_score(y_val, y_val_pred, average='micro'))\n",
    "print('Macro F1', f1_score(y_val, y_val_pred, average='macro'))"
   ]
  },
  {
   "cell_type": "markdown",
   "metadata": {},
   "source": [
    "### Confusion Matrix"
   ]
  },
  {
   "cell_type": "code",
   "execution_count": 80,
   "metadata": {},
   "outputs": [
    {
     "data": {
      "text/plain": [
       "array([[ 9784,     0,   193,    17,     0,     7],\n",
       "       [    0,  9843,     0,     0,    25,     0],\n",
       "       [  141,     0,  9911,    24,     0,     5],\n",
       "       [    9,     0,    16,  9954,     0,    10],\n",
       "       [    2,    13,     4,     3, 10004,     1],\n",
       "       [    6,     0,     6,    15,     1, 10006]], dtype=int64)"
      ]
     },
     "execution_count": 80,
     "metadata": {},
     "output_type": "execute_result"
    }
   ],
   "source": [
    "confusion_matrix(y_val, y_val_pred)"
   ]
  },
  {
   "cell_type": "markdown",
   "metadata": {},
   "source": [
    "You may try to increase the number of iterations to improve the score. You may also try change the parameters of the multilayer percetron."
   ]
  },
  {
   "cell_type": "markdown",
   "metadata": {},
   "source": [
    "## Predict the language of a text"
   ]
  },
  {
   "cell_type": "markdown",
   "metadata": {},
   "source": [
    "Now you will predict the languages of the strings below."
   ]
  },
  {
   "cell_type": "code",
   "execution_count": 81,
   "metadata": {},
   "outputs": [],
   "source": [
    "docs = [\"Salut les gars !\", \"Hejsan grabbar!\", \"Hello guys!\", \"Hejsan tjejer!\"]"
   ]
  },
  {
   "cell_type": "code",
   "execution_count": 82,
   "metadata": {},
   "outputs": [
    {
     "data": {
      "text/plain": [
       "{331: 0.1875,\n",
       " 234: 0.125,\n",
       " 15: 0.125,\n",
       " 69: 0.0625,\n",
       " 432: 0.0625,\n",
       " 86: 0.1875,\n",
       " 32: 0.0625,\n",
       " 31: 0.0625,\n",
       " 437: 0.0625,\n",
       " 333: 0.0625,\n",
       " 1078: 0.06666666666666667,\n",
       " 640: 0.06666666666666667,\n",
       " 582: 0.06666666666666667,\n",
       " 1542: 0.06666666666666667,\n",
       " 1492: 0.06666666666666667,\n",
       " 900: 0.06666666666666667,\n",
       " 739: 0.06666666666666667,\n",
       " 1319: 0.06666666666666667,\n",
       " 1238: 0.13333333333333333,\n",
       " 982: 0.06666666666666667,\n",
       " 1415: 0.06666666666666667,\n",
       " 557: 0.06666666666666667,\n",
       " 1161: 0.06666666666666667,\n",
       " 1020: 0.06666666666666667,\n",
       " 1803: 0.07142857142857142,\n",
       " 1608: 0.07142857142857142,\n",
       " 2199: 0.07142857142857142,\n",
       " 2349: 0.07142857142857142,\n",
       " 2284: 0.07142857142857142,\n",
       " 1958: 0.07142857142857142,\n",
       " 1720: 0.07142857142857142,\n",
       " 1925: 0.07142857142857142,\n",
       " 2370: 0.07142857142857142,\n",
       " 2546: 0.07142857142857142,\n",
       " 1752: 0.07142857142857142,\n",
       " 1805: 0.07142857142857142,\n",
       " 1670: 0.07142857142857142,\n",
       " 2269: 0.07142857142857142}"
      ]
     },
     "execution_count": 82,
     "metadata": {},
     "output_type": "execute_result"
    }
   ],
   "source": [
    "build_freq_dict('Salut les gars !')"
   ]
  },
  {
   "cell_type": "markdown",
   "metadata": {},
   "source": [
    "Create features vectors from this list. Call this matrix `X_test`"
   ]
  },
  {
   "cell_type": "code",
   "execution_count": 107,
   "metadata": {},
   "outputs": [],
   "source": [
    "# Write your code here\n",
    "X_test = []\n",
    "for element in docs:\n",
    "    X_test.append(build_freq_dict(element))\n",
    "\n",
    "# Transform the X_cat matrix using the DictVectorizer object.\n",
    "X_test = vectorizer.transform(X_test)"
   ]
  },
  {
   "cell_type": "code",
   "execution_count": 108,
   "metadata": {},
   "outputs": [
    {
     "data": {
      "text/plain": [
       "(4, 2583)"
      ]
     },
     "execution_count": 108,
     "metadata": {},
     "output_type": "execute_result"
    }
   ],
   "source": [
    "X_test.shape"
   ]
  },
  {
   "cell_type": "code",
   "execution_count": 109,
   "metadata": {},
   "outputs": [
    {
     "data": {
      "text/plain": [
       "array([[0., 0., 0., ..., 0., 0., 0.],\n",
       "       [0., 0., 0., ..., 0., 0., 0.],\n",
       "       [0., 0., 0., ..., 0., 0., 0.],\n",
       "       [0., 0., 0., ..., 0., 0., 0.]])"
      ]
     },
     "execution_count": 109,
     "metadata": {},
     "output_type": "execute_result"
    }
   ],
   "source": [
    "X_test"
   ]
  },
  {
   "cell_type": "markdown",
   "metadata": {},
   "source": [
    "And run the prediction that you will store in a variable called `pred_languages`"
   ]
  },
  {
   "cell_type": "code",
   "execution_count": 110,
   "metadata": {},
   "outputs": [
    {
     "name": "stdout",
     "output_type": "stream",
     "text": [
      "3\n",
      "5\n",
      "2\n",
      "1\n"
     ]
    }
   ],
   "source": [
    "# Write your code here\n",
    "prediction = clf.predict(X_test)\n",
    "\n",
    "pred_languages = []\n",
    "for item in prediction:\n",
    "    pred_languages.append(y_symbols[item])\n",
    "    print(item)"
   ]
  },
  {
   "cell_type": "code",
   "execution_count": 111,
   "metadata": {},
   "outputs": [
    {
     "data": {
      "text/plain": [
       "['fra', 'swe', 'eng', 'dan']"
      ]
     },
     "execution_count": 111,
     "metadata": {},
     "output_type": "execute_result"
    }
   ],
   "source": [
    "pred_languages"
   ]
  },
  {
   "cell_type": "markdown",
   "metadata": {},
   "source": [
    "## Building the Model with PyTorch\n",
    "You will now recreate a PyTorch model with the same architecture as in sklearn."
   ]
  },
  {
   "cell_type": "markdown",
   "metadata": {},
   "source": [
    "### The Model\n",
    "Create a model identical to the one you created with sklearn. Use the same activation function for the hidden layer and no activation in the last layer."
   ]
  },
  {
   "cell_type": "code",
   "execution_count": 147,
   "metadata": {},
   "outputs": [
    {
     "data": {
      "text/plain": [
       "6"
      ]
     },
     "execution_count": 147,
     "metadata": {},
     "output_type": "execute_result"
    }
   ],
   "source": [
    "len(langs)"
   ]
  },
  {
   "cell_type": "code",
   "execution_count": 112,
   "metadata": {},
   "outputs": [],
   "source": [
    "# Write your code here\n",
    "class Model(nn.Module):\n",
    "    def __init__(self, input_dim):\n",
    "        super().__init__()\n",
    "\n",
    "        # Define the hidden layer.\n",
    "        self.hidden = nn.Linear(input_dim, 50)\n",
    "\n",
    "        # Define the output layer.\n",
    "        self.output = nn.Linear(50, 6)\n",
    "\n",
    "    def forward(self, x):\n",
    "        # Pass the input through the hidden layer.\n",
    "        x = self.hidden(x)\n",
    "\n",
    "        # Apply the ReLU activation function.\n",
    "        x = torch.relu(x)\n",
    "\n",
    "        # Pass the output through the output layer.\n",
    "        x = self.output(x)\n",
    "\n",
    "        return x"
   ]
  },
  {
   "cell_type": "code",
   "execution_count": 113,
   "metadata": {},
   "outputs": [
    {
     "data": {
      "text/plain": [
       "Model(\n",
       "  (hidden): Linear(in_features=2583, out_features=50, bias=True)\n",
       "  (output): Linear(in_features=50, out_features=6, bias=True)\n",
       ")"
      ]
     },
     "execution_count": 113,
     "metadata": {},
     "output_type": "execute_result"
    }
   ],
   "source": [
    "input_dim = X.shape[1]\n",
    "model = Model(input_dim)\n",
    "model"
   ]
  },
  {
   "cell_type": "code",
   "execution_count": 114,
   "metadata": {},
   "outputs": [
    {
     "data": {
      "text/plain": [
       "Model(\n",
       "  (hidden): Linear(in_features=2583, out_features=50, bias=True)\n",
       "  (output): Linear(in_features=50, out_features=6, bias=True)\n",
       ")"
      ]
     },
     "execution_count": 114,
     "metadata": {},
     "output_type": "execute_result"
    }
   ],
   "source": [
    "input_dim = X.shape[1]\n",
    "model = Model(input_dim)\n",
    "model"
   ]
  },
  {
   "cell_type": "markdown",
   "metadata": {},
   "source": [
    "Write the loss `loss_fn` and optimizer `optimizer`. As optimizer, use the same as in sklearn. See here: https://scikit-learn.org/stable/modules/generated/sklearn.neural_network.MLPClassifier.html"
   ]
  },
  {
   "cell_type": "code",
   "execution_count": 115,
   "metadata": {},
   "outputs": [],
   "source": [
    "# Write your code here. (The solution is given)\n",
    "loss_fn = nn.CrossEntropyLoss()    # cross entropy loss\n",
    "optimizer = torch.optim.Adam(model.parameters(), lr=0.001)"
   ]
  },
  {
   "cell_type": "markdown",
   "metadata": {},
   "source": [
    "### The data loader"
   ]
  },
  {
   "cell_type": "markdown",
   "metadata": {},
   "source": [
    "We convert the data to tensors"
   ]
  },
  {
   "cell_type": "code",
   "execution_count": 116,
   "metadata": {},
   "outputs": [],
   "source": [
    "X_train = torch.Tensor(X_train)\n",
    "y_train = torch.LongTensor(y_train)\n",
    "\n",
    "X_val = torch.Tensor(X_val)\n",
    "y_val = torch.LongTensor(y_val)\n",
    "\n",
    "X_test = torch.Tensor(X_test)"
   ]
  },
  {
   "cell_type": "code",
   "execution_count": 117,
   "metadata": {},
   "outputs": [],
   "source": [
    "from torch.utils.data import TensorDataset, DataLoader\n",
    "\n",
    "dataset = TensorDataset(X_train, y_train)\n",
    "dataloader = DataLoader(dataset, batch_size=32, shuffle=True)"
   ]
  },
  {
   "cell_type": "code",
   "execution_count": 118,
   "metadata": {},
   "outputs": [
    {
     "data": {
      "text/plain": [
       "Model(\n",
       "  (hidden): Linear(in_features=2583, out_features=50, bias=True)\n",
       "  (output): Linear(in_features=50, out_features=6, bias=True)\n",
       ")"
      ]
     },
     "execution_count": 118,
     "metadata": {},
     "output_type": "execute_result"
    }
   ],
   "source": [
    "model.train()"
   ]
  },
  {
   "cell_type": "markdown",
   "metadata": {},
   "source": [
    "Fit your network on your training set. Write a code similar to that seen during the lecture and use five epochs to start with."
   ]
  },
  {
   "cell_type": "code",
   "execution_count": 119,
   "metadata": {},
   "outputs": [
    {
     "name": "stdout",
     "output_type": "stream",
     "text": [
      "810.2251135884726\n",
      "178.6364547730118\n",
      "142.66254598579144\n",
      "123.41966228347792\n",
      "108.1122597511885\n"
     ]
    }
   ],
   "source": [
    "# Write your code here\n",
    "for epoch in range(5):\n",
    "    loss_train = 0\n",
    "    for X_batch, y_batch in dataloader:\n",
    "        # Forward pass.\n",
    "        y_pred = model(X_batch)\n",
    "\n",
    "        # Calculate the loss.\n",
    "        loss = loss_fn(y_pred, y_batch)\n",
    "\n",
    "        # Backward pass.\n",
    "        optimizer.zero_grad()\n",
    "        loss.backward()\n",
    "        optimizer.step()\n",
    "\n",
    "        loss_train += loss.item()\n",
    "    print(loss_train)"
   ]
  },
  {
   "cell_type": "markdown",
   "metadata": {},
   "source": [
    "Predict the validation set `X_val` in the form of logits. Call the result: `Y_val_pred_logits`"
   ]
  },
  {
   "cell_type": "code",
   "execution_count": 120,
   "metadata": {},
   "outputs": [
    {
     "data": {
      "text/plain": [
       "Model(\n",
       "  (hidden): Linear(in_features=2583, out_features=50, bias=True)\n",
       "  (output): Linear(in_features=50, out_features=6, bias=True)\n",
       ")"
      ]
     },
     "execution_count": 120,
     "metadata": {},
     "output_type": "execute_result"
    }
   ],
   "source": [
    "model.eval()"
   ]
  },
  {
   "cell_type": "code",
   "execution_count": 121,
   "metadata": {},
   "outputs": [],
   "source": [
    "# Write your code here\n",
    "Y_val_pred_logits = model(X_val)"
   ]
  },
  {
   "cell_type": "code",
   "execution_count": 122,
   "metadata": {},
   "outputs": [
    {
     "data": {
      "text/plain": [
       "tensor([[ -2.5556,  -4.9843,  -3.5345,  -9.6946,  -9.0837,   7.3542],\n",
       "        [ 18.7918,  -5.2586, -14.0634, -12.7562,  -2.6118, -11.6586],\n",
       "        [ -5.1444,  -8.7959, -16.8272, -13.8569,  22.5538,  -9.5709],\n",
       "        [ 16.7835,  -9.6855,  -9.6566,  -5.7793,  -1.9537, -14.5114],\n",
       "        [ -6.5866,  -4.7628,  -5.2893,  10.9248, -10.4086,  -6.4098]],\n",
       "       grad_fn=<SliceBackward0>)"
      ]
     },
     "execution_count": 122,
     "metadata": {},
     "output_type": "execute_result"
    }
   ],
   "source": [
    "Y_val_pred_logits[:5]"
   ]
  },
  {
   "cell_type": "markdown",
   "metadata": {},
   "source": [
    "Predict the validation set `X_val` in the form of probabilities. Use `torch.softmax()` for that and call the result: `Y_val_pred_proba`"
   ]
  },
  {
   "cell_type": "code",
   "execution_count": 123,
   "metadata": {},
   "outputs": [],
   "source": [
    "# Write your code here\n",
    "Y_val_pred_proba = F.softmax(Y_val_pred_logits, dim=1)"
   ]
  },
  {
   "cell_type": "code",
   "execution_count": 124,
   "metadata": {},
   "outputs": [
    {
     "data": {
      "text/plain": [
       "tensor([[4.9682e-05, 4.3797e-06, 1.8668e-05, 3.9428e-08, 7.2630e-08, 9.9993e-01],\n",
       "        [1.0000e+00, 3.5895e-11, 5.3851e-15, 1.9902e-14, 5.0646e-10, 5.9646e-14],\n",
       "        [9.3504e-13, 2.4266e-14, 7.8896e-18, 1.5382e-16, 1.0000e+00, 1.1180e-14],\n",
       "        [1.0000e+00, 3.1963e-12, 3.2902e-12, 1.5889e-10, 7.2868e-09, 2.5633e-14]],\n",
       "       grad_fn=<SliceBackward0>)"
      ]
     },
     "execution_count": 124,
     "metadata": {},
     "output_type": "execute_result"
    }
   ],
   "source": [
    "Y_val_pred_proba[:4]"
   ]
  },
  {
   "cell_type": "markdown",
   "metadata": {},
   "source": [
    "Extract the categories from the probabilities in `Y_val_pred_proba`. Use the `torch.argmax()` function. Call the result `y_val_pred`. Check that the prediction corresponds to the real values."
   ]
  },
  {
   "cell_type": "code",
   "execution_count": 125,
   "metadata": {},
   "outputs": [],
   "source": [
    "# Write your code here\n",
    "y_val_pred = torch.argmax(Y_val_pred_proba, dim=1)"
   ]
  },
  {
   "cell_type": "code",
   "execution_count": 126,
   "metadata": {},
   "outputs": [
    {
     "data": {
      "text/plain": [
       "tensor([5, 0, 4, 0, 3, 5, 2, 1, 2, 4, 0, 5, 1, 3, 1, 1, 3, 3, 1, 1])"
      ]
     },
     "execution_count": 126,
     "metadata": {},
     "output_type": "execute_result"
    }
   ],
   "source": [
    "y_val_pred[:20]"
   ]
  },
  {
   "cell_type": "code",
   "execution_count": 127,
   "metadata": {},
   "outputs": [
    {
     "data": {
      "text/plain": [
       "tensor([5, 0, 4, 0, 3, 5, 2, 1, 2, 4, 0, 5, 1, 3, 1, 1, 3, 3, 1, 1])"
      ]
     },
     "execution_count": 127,
     "metadata": {},
     "output_type": "execute_result"
    }
   ],
   "source": [
    "y_val[:20]"
   ]
  },
  {
   "cell_type": "markdown",
   "metadata": {},
   "source": [
    "Print the evaluation"
   ]
  },
  {
   "cell_type": "code",
   "execution_count": 128,
   "metadata": {},
   "outputs": [
    {
     "name": "stdout",
     "output_type": "stream",
     "text": [
      "              precision    recall  f1-score   support\n",
      "\n",
      "         cmn       1.00      1.00      1.00     10027\n",
      "         dan       0.98      0.99      0.98     10081\n",
      "         eng       1.00      1.00      1.00      9989\n",
      "         fra       1.00      1.00      1.00     10034\n",
      "         jpn       1.00      1.00      1.00      9868\n",
      "         swe       0.99      0.98      0.98     10001\n",
      "\n",
      "    accuracy                           0.99     60000\n",
      "   macro avg       0.99      0.99      0.99     60000\n",
      "weighted avg       0.99      0.99      0.99     60000\n",
      "\n",
      "Micro F1: 0.9925166666666667\n",
      "Macro F1 0.9925381479455554\n"
     ]
    }
   ],
   "source": [
    "print(classification_report(y_val, y_val_pred, target_names=y_symbols))\n",
    "print('Micro F1:', f1_score(y_val, y_val_pred, average='micro'))\n",
    "print('Macro F1', f1_score(y_val, y_val_pred, average='macro'))"
   ]
  },
  {
   "cell_type": "markdown",
   "metadata": {},
   "source": [
    "Print the confusion matrix"
   ]
  },
  {
   "cell_type": "code",
   "execution_count": 129,
   "metadata": {},
   "outputs": [
    {
     "data": {
      "text/plain": [
       "array([[10003,     4,     1,     1,    16,     2],\n",
       "       [    0,  9944,    16,     2,     0,   119],\n",
       "       [    0,    17,  9952,    13,     0,     7],\n",
       "       [    0,     5,    10, 10016,     0,     3],\n",
       "       [   23,     0,     0,     1,  9844,     0],\n",
       "       [    1,   191,    13,     4,     0,  9792]], dtype=int64)"
      ]
     },
     "execution_count": 129,
     "metadata": {},
     "output_type": "execute_result"
    }
   ],
   "source": [
    "confusion_matrix(y_val, y_val_pred)"
   ]
  },
  {
   "cell_type": "markdown",
   "metadata": {},
   "source": [
    "Predict your languages with PyTorch. Reuse `X_test` and call the result `Y_test_pred_proba`."
   ]
  },
  {
   "cell_type": "code",
   "execution_count": 130,
   "metadata": {},
   "outputs": [],
   "source": [
    "# Write your code here\n",
    "# Calculate the predicted logits for the test set.\n",
    "Y_test_pred_logits = model(X_test)\n",
    "\n",
    "# Calculate the predicted probabilities for the test set.\n",
    "Y_test_pred_proba = F.softmax(Y_test_pred_logits, dim=1)"
   ]
  },
  {
   "cell_type": "code",
   "execution_count": 131,
   "metadata": {},
   "outputs": [
    {
     "data": {
      "text/plain": [
       "tensor([[3.7912e-08, 5.5073e-07, 1.7264e-07, 1.0000e+00, 4.5351e-09, 1.5534e-06],\n",
       "        [1.0517e-04, 8.9545e-04, 3.7671e-05, 7.6712e-06, 9.3144e-07, 9.9895e-01],\n",
       "        [5.4159e-04, 4.6429e-02, 9.0962e-01, 4.3237e-02, 3.5335e-05, 1.4066e-04],\n",
       "        [1.6086e-05, 9.9951e-01, 3.1034e-07, 6.2388e-06, 2.3790e-07, 4.6703e-04]],\n",
       "       grad_fn=<SoftmaxBackward0>)"
      ]
     },
     "execution_count": 131,
     "metadata": {},
     "output_type": "execute_result"
    }
   ],
   "source": [
    "Y_test_pred_proba"
   ]
  },
  {
   "cell_type": "markdown",
   "metadata": {},
   "source": [
    "From the probabilities, extract the predicted languages and map them to strings. Call the results `pred_languages_pytorch`."
   ]
  },
  {
   "cell_type": "code",
   "execution_count": 141,
   "metadata": {},
   "outputs": [],
   "source": [
    "# Write your code here\n",
    "# Get the most likely language for each test example.\n",
    "pred_languages_pytorch = torch.argmax(Y_test_pred_proba, dim=1)\n",
    "# Map the predicted languages to strings.\n",
    "pred_languages_pytorch = [idx2lang[pred.item()] for pred in pred_languages_pytorch]"
   ]
  },
  {
   "cell_type": "code",
   "execution_count": 142,
   "metadata": {},
   "outputs": [
    {
     "data": {
      "text/plain": [
       "['fra', 'swe', 'eng', 'dan']"
      ]
     },
     "execution_count": 142,
     "metadata": {},
     "output_type": "execute_result"
    }
   ],
   "source": [
    "pred_languages_pytorch"
   ]
  },
  {
   "cell_type": "code",
   "execution_count": 95,
   "metadata": {},
   "outputs": [
    {
     "data": {
      "text/plain": [
       "['fra', 'swe', 'eng', 'dan']"
      ]
     },
     "execution_count": 95,
     "metadata": {},
     "output_type": "execute_result"
    }
   ],
   "source": [
    "pred_languages_pytorch"
   ]
  },
  {
   "cell_type": "markdown",
   "metadata": {},
   "source": [
    "## Turning in your assignment"
   ]
  },
  {
   "cell_type": "markdown",
   "metadata": {},
   "source": [
    "Now your are done with the program. To complete this assignment, you will:\n",
    "1. Write a short individual report on your program. Do not forget to:\n",
    "   * Summarize CLD3 and outline its architecture\n",
    "   * Identify the features used by CLD3\n",
    "   * Describe your architecture and tell how it is different from CLD3\n",
    "   * Include the feature matrix you computed manually\n",
    "   * Outline the differences between sklearn and PyTorch\n",
    "\n",
    "Submit your report as well as your notebook (for archiving purposes) to Canvas: https://canvas.education.lu.se/. To write your report, you can either\n",
    "1. Write directly your text in Canvas, or\n",
    "2. Use Latex and Overleaf (www.overleaf.com). This will probably help you structure your text. You will then upload a PDF file in Canvas.\n",
    "\n",
    "The submission deadline is October 6, 2023."
   ]
  },
  {
   "cell_type": "markdown",
   "metadata": {},
   "source": [
    "## Postscript from Pierre Nugues"
   ]
  },
  {
   "cell_type": "markdown",
   "metadata": {},
   "source": [
    "I created this assignment from an examination I wrote in 2019 for the course on applied machine learning. I simplified it from the `README.md` on GitHub, https://github.com/google/cld3. I found the C++ code difficult to understand and I reimplemented a Keras/Tensorflow version of it from this `README`. Should you be interested, you can find it here: https://github.com/pnugues/language-detector."
   ]
  },
  {
   "cell_type": "code",
   "execution_count": null,
   "metadata": {},
   "outputs": [],
   "source": []
  }
 ],
 "metadata": {
  "kernelspec": {
   "display_name": "Python 3.8.10 64-bit",
   "language": "python",
   "name": "python3"
  },
  "language_info": {
   "codemirror_mode": {
    "name": "ipython",
    "version": 3
   },
   "file_extension": ".py",
   "mimetype": "text/x-python",
   "name": "python",
   "nbconvert_exporter": "python",
   "pygments_lexer": "ipython3",
   "version": "3.8.10"
  },
  "vscode": {
   "interpreter": {
    "hash": "8dfa90e8edc0fab0e5eefeba2689bb0cd3afc1b1470fee3dc9fd97472b4bb239"
   }
  }
 },
 "nbformat": 4,
 "nbformat_minor": 4
}
